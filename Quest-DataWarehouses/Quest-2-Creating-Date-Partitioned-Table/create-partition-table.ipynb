{
 "cells": [
  {
   "cell_type": "markdown",
   "metadata": {},
   "source": [
    "# Creating Date-Partitioned Tables in BigQuery\n",
    "\n",
    "Query partitioned datasets and create a new dataset partitions to improve query performance and reduce cost."
   ]
  },
  {
   "cell_type": "markdown",
   "metadata": {},
   "source": [
    "### 1. Connecting BigQuery Jupyter Notebook\n",
    "\n",
    "Set environment variables for notebook to connect Bigquery"
   ]
  },
  {
   "cell_type": "code",
   "execution_count": 8,
   "metadata": {},
   "outputs": [],
   "source": [
    "import os \n",
    "os.environ['GOOGLE_APPLICATION_CREDENTIALS'] = 'D:/Agra/Data-Engineer/GCP-DataEngineerLearningPath/Quest-DataWarehouses/Quest-2-Creating-Date-Partitioned-Table/qwiklabs-gcp-02-cad4f40440fa-5aa89f4d270b.json'"
   ]
  },
  {
   "cell_type": "markdown",
   "metadata": {},
   "source": [
    "Load the BigQuery client library by executing the command below"
   ]
  },
  {
   "cell_type": "code",
   "execution_count": 6,
   "metadata": {},
   "outputs": [],
   "source": [
    "%load_ext google.cloud.bigquery"
   ]
  },
  {
   "cell_type": "markdown",
   "metadata": {},
   "source": [
    "### 2. Create a New Dataset\n",
    "\n",
    "Used to store table for the insights. Create new dataset titled `ecommerce` can be done through SQL query."
   ]
  },
  {
   "cell_type": "code",
   "execution_count": 9,
   "metadata": {},
   "outputs": [
    {
     "data": {
      "application/vnd.jupyter.widget-view+json": {
       "model_id": "304fac1ee59b4a40840d5e436998c8ed",
       "version_major": 2,
       "version_minor": 0
      },
      "text/plain": [
       "Query is running:   0%|          |"
      ]
     },
     "metadata": {},
     "output_type": "display_data"
    },
    {
     "data": {
      "text/html": [
       "<div>\n",
       "<style scoped>\n",
       "    .dataframe tbody tr th:only-of-type {\n",
       "        vertical-align: middle;\n",
       "    }\n",
       "\n",
       "    .dataframe tbody tr th {\n",
       "        vertical-align: top;\n",
       "    }\n",
       "\n",
       "    .dataframe thead th {\n",
       "        text-align: right;\n",
       "    }\n",
       "</style>\n",
       "<table border=\"1\" class=\"dataframe\">\n",
       "  <thead>\n",
       "    <tr style=\"text-align: right;\">\n",
       "      <th></th>\n",
       "    </tr>\n",
       "  </thead>\n",
       "  <tbody>\n",
       "  </tbody>\n",
       "</table>\n",
       "</div>"
      ],
      "text/plain": [
       "Empty DataFrame\n",
       "Columns: []\n",
       "Index: []"
      ]
     },
     "execution_count": 9,
     "metadata": {},
     "output_type": "execute_result"
    }
   ],
   "source": [
    "%%bigquery\n",
    "CREATE SCHEMA ecommerce"
   ]
  },
  {
   "cell_type": "markdown",
   "metadata": {},
   "source": [
    "Ecommerce dataset has been created"
   ]
  },
  {
   "cell_type": "markdown",
   "metadata": {},
   "source": [
    "### 3. Creating Tables with Date Partitions\n",
    "\n",
    "Before create a new partition table, we need to explore the data in non-partitioned table first.\n",
    "\n",
    "Try to execute this query."
   ]
  },
  {
   "cell_type": "code",
   "execution_count": 10,
   "metadata": {},
   "outputs": [
    {
     "data": {
      "application/vnd.jupyter.widget-view+json": {
       "model_id": "b038caf4a0f04ac7ae5929d8bf8d12c7",
       "version_major": 2,
       "version_minor": 0
      },
      "text/plain": [
       "Query is running:   0%|          |"
      ]
     },
     "metadata": {},
     "output_type": "display_data"
    },
    {
     "data": {
      "application/vnd.jupyter.widget-view+json": {
       "model_id": "ba19d06d0ddf460ea0399db62cc3fa38",
       "version_major": 2,
       "version_minor": 0
      },
      "text/plain": [
       "Downloading:   0%|          |"
      ]
     },
     "metadata": {},
     "output_type": "display_data"
    },
    {
     "data": {
      "text/html": [
       "<div>\n",
       "<style scoped>\n",
       "    .dataframe tbody tr th:only-of-type {\n",
       "        vertical-align: middle;\n",
       "    }\n",
       "\n",
       "    .dataframe tbody tr th {\n",
       "        vertical-align: top;\n",
       "    }\n",
       "\n",
       "    .dataframe thead th {\n",
       "        text-align: right;\n",
       "    }\n",
       "</style>\n",
       "<table border=\"1\" class=\"dataframe\">\n",
       "  <thead>\n",
       "    <tr style=\"text-align: right;\">\n",
       "      <th></th>\n",
       "      <th>fullVisitorId</th>\n",
       "      <th>date</th>\n",
       "      <th>city</th>\n",
       "      <th>pageTitle</th>\n",
       "    </tr>\n",
       "  </thead>\n",
       "  <tbody>\n",
       "    <tr>\n",
       "      <th>0</th>\n",
       "      <td>694528843985213255</td>\n",
       "      <td>20170708</td>\n",
       "      <td>Athens</td>\n",
       "      <td>None</td>\n",
       "    </tr>\n",
       "    <tr>\n",
       "      <th>1</th>\n",
       "      <td>7166902511626681041</td>\n",
       "      <td>20170708</td>\n",
       "      <td>Mountain View</td>\n",
       "      <td>Nest-USA</td>\n",
       "    </tr>\n",
       "    <tr>\n",
       "      <th>2</th>\n",
       "      <td>9515822525130944272</td>\n",
       "      <td>20170708</td>\n",
       "      <td>not available in demo dataset</td>\n",
       "      <td>Nest-USA</td>\n",
       "    </tr>\n",
       "    <tr>\n",
       "      <th>3</th>\n",
       "      <td>6563097800614871419</td>\n",
       "      <td>20170708</td>\n",
       "      <td>Mountain View</td>\n",
       "      <td>Nest-USA</td>\n",
       "    </tr>\n",
       "    <tr>\n",
       "      <th>4</th>\n",
       "      <td>0523286475171311815</td>\n",
       "      <td>20170708</td>\n",
       "      <td>Boston</td>\n",
       "      <td>Nest-USA</td>\n",
       "    </tr>\n",
       "  </tbody>\n",
       "</table>\n",
       "</div>"
      ],
      "text/plain": [
       "         fullVisitorId      date                           city pageTitle\n",
       "0   694528843985213255  20170708                         Athens      None\n",
       "1  7166902511626681041  20170708                  Mountain View  Nest-USA\n",
       "2  9515822525130944272  20170708  not available in demo dataset  Nest-USA\n",
       "3  6563097800614871419  20170708                  Mountain View  Nest-USA\n",
       "4  0523286475171311815  20170708                         Boston  Nest-USA"
      ]
     },
     "execution_count": 10,
     "metadata": {},
     "output_type": "execute_result"
    }
   ],
   "source": [
    "%%bigquery\n",
    "SELECT DISTINCT\n",
    "  fullVisitorId,\n",
    "  date,\n",
    "  city,\n",
    "  pageTitle\n",
    "FROM `data-to-insights.ecommerce.all_sessions_raw`\n",
    "WHERE date = '20170708'\n",
    "LIMIT 5"
   ]
  },
  {
   "cell_type": "markdown",
   "metadata": {},
   "source": [
    "The engine query process `1.74 GB` when running.\n",
    "\n",
    "Revise the query and then execute."
   ]
  },
  {
   "cell_type": "code",
   "execution_count": 11,
   "metadata": {},
   "outputs": [
    {
     "data": {
      "application/vnd.jupyter.widget-view+json": {
       "model_id": "f3d39930aad4427ba53e1f85cfbaad57",
       "version_major": 2,
       "version_minor": 0
      },
      "text/plain": [
       "Query is running:   0%|          |"
      ]
     },
     "metadata": {},
     "output_type": "display_data"
    },
    {
     "data": {
      "application/vnd.jupyter.widget-view+json": {
       "model_id": "15b9979ca17f42788c14fdefa4d49c42",
       "version_major": 2,
       "version_minor": 0
      },
      "text/plain": [
       "Downloading: |          |"
      ]
     },
     "metadata": {},
     "output_type": "display_data"
    },
    {
     "data": {
      "text/html": [
       "<div>\n",
       "<style scoped>\n",
       "    .dataframe tbody tr th:only-of-type {\n",
       "        vertical-align: middle;\n",
       "    }\n",
       "\n",
       "    .dataframe tbody tr th {\n",
       "        vertical-align: top;\n",
       "    }\n",
       "\n",
       "    .dataframe thead th {\n",
       "        text-align: right;\n",
       "    }\n",
       "</style>\n",
       "<table border=\"1\" class=\"dataframe\">\n",
       "  <thead>\n",
       "    <tr style=\"text-align: right;\">\n",
       "      <th></th>\n",
       "      <th>fullVisitorId</th>\n",
       "      <th>date</th>\n",
       "      <th>city</th>\n",
       "      <th>pageTitle</th>\n",
       "    </tr>\n",
       "  </thead>\n",
       "  <tbody>\n",
       "  </tbody>\n",
       "</table>\n",
       "</div>"
      ],
      "text/plain": [
       "Empty DataFrame\n",
       "Columns: [fullVisitorId, date, city, pageTitle]\n",
       "Index: []"
      ]
     },
     "execution_count": 11,
     "metadata": {},
     "output_type": "execute_result"
    }
   ],
   "source": [
    "%%bigquery\n",
    "SELECT DISTINCT\n",
    "  fullVisitorId,\n",
    "  date,\n",
    "  city,\n",
    "  pageTitle\n",
    "FROM `data-to-insights.ecommerce.all_sessions_raw`\n",
    "WHERE date = '20180708'\n",
    "LIMIT 5"
   ]
  },
  {
   "cell_type": "markdown",
   "metadata": {},
   "source": [
    "The engine query still process `1.74 GB` even though it return 0 results. Why? its happen because the query engine does not know whether the date data exists to satisfy the WHERE clause condition and it needs to scan through all records in a non-partitioned table.\n",
    "\n",
    "Instead of scanning the entire dataset, use a date partitioned table."
   ]
  },
  {
   "cell_type": "code",
   "execution_count": 12,
   "metadata": {},
   "outputs": [
    {
     "data": {
      "application/vnd.jupyter.widget-view+json": {
       "model_id": "e6bdba0adca94161a5a852f57ca6ac94",
       "version_major": 2,
       "version_minor": 0
      },
      "text/plain": [
       "Query is running:   0%|          |"
      ]
     },
     "metadata": {},
     "output_type": "display_data"
    },
    {
     "data": {
      "text/html": [
       "<div>\n",
       "<style scoped>\n",
       "    .dataframe tbody tr th:only-of-type {\n",
       "        vertical-align: middle;\n",
       "    }\n",
       "\n",
       "    .dataframe tbody tr th {\n",
       "        vertical-align: top;\n",
       "    }\n",
       "\n",
       "    .dataframe thead th {\n",
       "        text-align: right;\n",
       "    }\n",
       "</style>\n",
       "<table border=\"1\" class=\"dataframe\">\n",
       "  <thead>\n",
       "    <tr style=\"text-align: right;\">\n",
       "      <th></th>\n",
       "    </tr>\n",
       "  </thead>\n",
       "  <tbody>\n",
       "  </tbody>\n",
       "</table>\n",
       "</div>"
      ],
      "text/plain": [
       "Empty DataFrame\n",
       "Columns: []\n",
       "Index: []"
      ]
     },
     "execution_count": 12,
     "metadata": {},
     "output_type": "execute_result"
    }
   ],
   "source": [
    "%%bigquery\n",
    "CREATE OR REPLACE TABLE ecommerce.partition_by_day\n",
    "PARTITION BY date_formatted\n",
    "OPTIONS(\n",
    "    description=\"a table partitioned by date\"\n",
    ") AS\n",
    "SELECT DISTINCT\n",
    "    PARSE_DATE(\"%Y%m%d\", date) AS date_formatted,\n",
    "    fullvisitorId\n",
    "FROM `data-to-insights.ecommerce.all_sessions_raw`"
   ]
  },
  {
   "cell_type": "markdown",
   "metadata": {},
   "source": [
    "This allows us to completely ignore scanning records in certain partitions if they are irrelevant to our query.\n",
    "\n",
    "To check if the table is partitioned, run this query."
   ]
  },
  {
   "cell_type": "code",
   "execution_count": 20,
   "metadata": {},
   "outputs": [
    {
     "data": {
      "application/vnd.jupyter.widget-view+json": {
       "model_id": "7d9343f254d24da0985b918c10200239",
       "version_major": 2,
       "version_minor": 0
      },
      "text/plain": [
       "Query is running:   0%|          |"
      ]
     },
     "metadata": {},
     "output_type": "display_data"
    },
    {
     "data": {
      "application/vnd.jupyter.widget-view+json": {
       "model_id": "ba6291669a19410ca6352838a9b950ae",
       "version_major": 2,
       "version_minor": 0
      },
      "text/plain": [
       "Downloading:   0%|          |"
      ]
     },
     "metadata": {},
     "output_type": "display_data"
    },
    {
     "data": {
      "text/html": [
       "<div>\n",
       "<style scoped>\n",
       "    .dataframe tbody tr th:only-of-type {\n",
       "        vertical-align: middle;\n",
       "    }\n",
       "\n",
       "    .dataframe tbody tr th {\n",
       "        vertical-align: top;\n",
       "    }\n",
       "\n",
       "    .dataframe thead th {\n",
       "        text-align: right;\n",
       "    }\n",
       "</style>\n",
       "<table border=\"1\" class=\"dataframe\">\n",
       "  <thead>\n",
       "    <tr style=\"text-align: right;\">\n",
       "      <th></th>\n",
       "      <th>table_catalog</th>\n",
       "      <th>table_schema</th>\n",
       "      <th>table_name</th>\n",
       "      <th>column_name</th>\n",
       "      <th>ordinal_position</th>\n",
       "      <th>is_nullable</th>\n",
       "      <th>data_type</th>\n",
       "      <th>is_generated</th>\n",
       "      <th>generation_expression</th>\n",
       "      <th>is_stored</th>\n",
       "      <th>is_hidden</th>\n",
       "      <th>is_updatable</th>\n",
       "      <th>is_system_defined</th>\n",
       "      <th>is_partitioning_column</th>\n",
       "      <th>clustering_ordinal_position</th>\n",
       "      <th>collation_name</th>\n",
       "      <th>column_default</th>\n",
       "      <th>rounding_mode</th>\n",
       "    </tr>\n",
       "  </thead>\n",
       "  <tbody>\n",
       "    <tr>\n",
       "      <th>0</th>\n",
       "      <td>qwiklabs-gcp-02-cad4f40440fa</td>\n",
       "      <td>ecommerce</td>\n",
       "      <td>partition_by_day</td>\n",
       "      <td>date_formatted</td>\n",
       "      <td>1</td>\n",
       "      <td>YES</td>\n",
       "      <td>DATE</td>\n",
       "      <td>NEVER</td>\n",
       "      <td>None</td>\n",
       "      <td>None</td>\n",
       "      <td>NO</td>\n",
       "      <td>None</td>\n",
       "      <td>NO</td>\n",
       "      <td>YES</td>\n",
       "      <td>&lt;NA&gt;</td>\n",
       "      <td>NULL</td>\n",
       "      <td>NULL</td>\n",
       "      <td>None</td>\n",
       "    </tr>\n",
       "    <tr>\n",
       "      <th>1</th>\n",
       "      <td>qwiklabs-gcp-02-cad4f40440fa</td>\n",
       "      <td>ecommerce</td>\n",
       "      <td>partition_by_day</td>\n",
       "      <td>fullvisitorId</td>\n",
       "      <td>2</td>\n",
       "      <td>YES</td>\n",
       "      <td>STRING</td>\n",
       "      <td>NEVER</td>\n",
       "      <td>None</td>\n",
       "      <td>None</td>\n",
       "      <td>NO</td>\n",
       "      <td>None</td>\n",
       "      <td>NO</td>\n",
       "      <td>NO</td>\n",
       "      <td>&lt;NA&gt;</td>\n",
       "      <td>NULL</td>\n",
       "      <td>NULL</td>\n",
       "      <td>None</td>\n",
       "    </tr>\n",
       "  </tbody>\n",
       "</table>\n",
       "</div>"
      ],
      "text/plain": [
       "                  table_catalog table_schema        table_name  \\\n",
       "0  qwiklabs-gcp-02-cad4f40440fa    ecommerce  partition_by_day   \n",
       "1  qwiklabs-gcp-02-cad4f40440fa    ecommerce  partition_by_day   \n",
       "\n",
       "      column_name  ordinal_position is_nullable data_type is_generated  \\\n",
       "0  date_formatted                 1         YES      DATE        NEVER   \n",
       "1   fullvisitorId                 2         YES    STRING        NEVER   \n",
       "\n",
       "  generation_expression is_stored is_hidden is_updatable is_system_defined  \\\n",
       "0                  None      None        NO         None                NO   \n",
       "1                  None      None        NO         None                NO   \n",
       "\n",
       "  is_partitioning_column  clustering_ordinal_position collation_name  \\\n",
       "0                    YES                         <NA>           NULL   \n",
       "1                     NO                         <NA>           NULL   \n",
       "\n",
       "  column_default rounding_mode  \n",
       "0           NULL          None  \n",
       "1           NULL          None  "
      ]
     },
     "execution_count": 20,
     "metadata": {},
     "output_type": "execute_result"
    }
   ],
   "source": [
    "%%bigquery\n",
    "SELECT *\n",
    "FROM `ecommerce.INFORMATION_SCHEMA.COLUMNS`\n",
    "WHERE table_name = 'partition_by_day'"
   ]
  },
  {
   "cell_type": "markdown",
   "metadata": {},
   "source": [
    "As we can see, the date_formatted column on partition_by_day table is partitioned by date\n",
    "\n",
    "Now we have to query the data in partitioned table."
   ]
  },
  {
   "cell_type": "code",
   "execution_count": 22,
   "metadata": {},
   "outputs": [
    {
     "data": {
      "application/vnd.jupyter.widget-view+json": {
       "model_id": "42136860e2d94770ab3bc66ae2c0984b",
       "version_major": 2,
       "version_minor": 0
      },
      "text/plain": [
       "Query is running:   0%|          |"
      ]
     },
     "metadata": {},
     "output_type": "display_data"
    },
    {
     "data": {
      "application/vnd.jupyter.widget-view+json": {
       "model_id": "0b171d9989df4354a26c79332d486a5d",
       "version_major": 2,
       "version_minor": 0
      },
      "text/plain": [
       "Downloading: |          |"
      ]
     },
     "metadata": {},
     "output_type": "display_data"
    },
    {
     "data": {
      "text/html": [
       "<div>\n",
       "<style scoped>\n",
       "    .dataframe tbody tr th:only-of-type {\n",
       "        vertical-align: middle;\n",
       "    }\n",
       "\n",
       "    .dataframe tbody tr th {\n",
       "        vertical-align: top;\n",
       "    }\n",
       "\n",
       "    .dataframe thead th {\n",
       "        text-align: right;\n",
       "    }\n",
       "</style>\n",
       "<table border=\"1\" class=\"dataframe\">\n",
       "  <thead>\n",
       "    <tr style=\"text-align: right;\">\n",
       "      <th></th>\n",
       "      <th>date_formatted</th>\n",
       "      <th>fullvisitorId</th>\n",
       "    </tr>\n",
       "  </thead>\n",
       "  <tbody>\n",
       "  </tbody>\n",
       "</table>\n",
       "</div>"
      ],
      "text/plain": [
       "Empty DataFrame\n",
       "Columns: [date_formatted, fullvisitorId]\n",
       "Index: []"
      ]
     },
     "execution_count": 22,
     "metadata": {},
     "output_type": "execute_result"
    }
   ],
   "source": [
    "%%bigquery\n",
    "SELECT *\n",
    "FROM `ecommerce.partition_by_day`\n",
    "WHERE date_formatted = '2018-07-08'"
   ]
  },
  {
   "cell_type": "markdown",
   "metadata": {},
   "source": [
    "With the same query to find visitor on 8 July 2018 but now in partitioned table, the engine query process `0 B` when run. Why? the query engine knows which date partitions exist before the query is ran (and there is no 2018 partitions)."
   ]
  },
  {
   "cell_type": "markdown",
   "metadata": {},
   "source": [
    "### 4. Creating an Auto-Expiring Partitioned Table\n",
    "\n",
    "Auto-expiring partitioned table is used to avoid unnecessary storage, so the partition will disappears after a certain time.\n",
    "\n",
    "First, explore the NOAA weather data from 2022 onward and filter to only include days that have had some precipitation (rain, snow, etc.)"
   ]
  },
  {
   "cell_type": "code",
   "execution_count": 25,
   "metadata": {},
   "outputs": [
    {
     "data": {
      "application/vnd.jupyter.widget-view+json": {
       "model_id": "230e0910b71a4d0987f763fb22b2b5cb",
       "version_major": 2,
       "version_minor": 0
      },
      "text/plain": [
       "Query is running:   0%|          |"
      ]
     },
     "metadata": {},
     "output_type": "display_data"
    },
    {
     "data": {
      "application/vnd.jupyter.widget-view+json": {
       "model_id": "df276a693800482aa0f9c7510ba418b9",
       "version_major": 2,
       "version_minor": 0
      },
      "text/plain": [
       "Downloading:   0%|          |"
      ]
     },
     "metadata": {},
     "output_type": "display_data"
    },
    {
     "data": {
      "text/html": [
       "<div>\n",
       "<style scoped>\n",
       "    .dataframe tbody tr th:only-of-type {\n",
       "        vertical-align: middle;\n",
       "    }\n",
       "\n",
       "    .dataframe tbody tr th {\n",
       "        vertical-align: top;\n",
       "    }\n",
       "\n",
       "    .dataframe thead th {\n",
       "        text-align: right;\n",
       "    }\n",
       "</style>\n",
       "<table border=\"1\" class=\"dataframe\">\n",
       "  <thead>\n",
       "    <tr style=\"text-align: right;\">\n",
       "      <th></th>\n",
       "      <th>date</th>\n",
       "      <th>station_name</th>\n",
       "      <th>precipitation</th>\n",
       "    </tr>\n",
       "  </thead>\n",
       "  <tbody>\n",
       "    <tr>\n",
       "      <th>0</th>\n",
       "      <td>2023-08-14</td>\n",
       "      <td>HECTOR INTERNATIONAL AIRPORT</td>\n",
       "      <td>0.63</td>\n",
       "    </tr>\n",
       "    <tr>\n",
       "      <th>1</th>\n",
       "      <td>2023-08-14</td>\n",
       "      <td>DRAKE FLD</td>\n",
       "      <td>0.68</td>\n",
       "    </tr>\n",
       "    <tr>\n",
       "      <th>2</th>\n",
       "      <td>2023-08-14</td>\n",
       "      <td>NORTH WEST ALABAMA REGIONAL A</td>\n",
       "      <td>0.09</td>\n",
       "    </tr>\n",
       "    <tr>\n",
       "      <th>3</th>\n",
       "      <td>2023-08-14</td>\n",
       "      <td>LOWE AHP</td>\n",
       "      <td>0.35</td>\n",
       "    </tr>\n",
       "    <tr>\n",
       "      <th>4</th>\n",
       "      <td>2023-08-14</td>\n",
       "      <td>SEDALIA MEMORIAL</td>\n",
       "      <td>1.46</td>\n",
       "    </tr>\n",
       "    <tr>\n",
       "      <th>5</th>\n",
       "      <td>2023-08-14</td>\n",
       "      <td>FORT LAUDERDALE EXEC</td>\n",
       "      <td>0.13</td>\n",
       "    </tr>\n",
       "    <tr>\n",
       "      <th>6</th>\n",
       "      <td>2023-08-14</td>\n",
       "      <td>HOBART MUNICIPAL AIRPORT</td>\n",
       "      <td>0.09</td>\n",
       "    </tr>\n",
       "    <tr>\n",
       "      <th>7</th>\n",
       "      <td>2023-08-14</td>\n",
       "      <td>HARTFORD BRAINARD</td>\n",
       "      <td>0.22</td>\n",
       "    </tr>\n",
       "    <tr>\n",
       "      <th>8</th>\n",
       "      <td>2023-08-14</td>\n",
       "      <td>BLYTHEVILLE MUNI</td>\n",
       "      <td>0.05</td>\n",
       "    </tr>\n",
       "    <tr>\n",
       "      <th>9</th>\n",
       "      <td>2023-08-14</td>\n",
       "      <td>HUTCHINSON CO</td>\n",
       "      <td>0.23</td>\n",
       "    </tr>\n",
       "  </tbody>\n",
       "</table>\n",
       "</div>"
      ],
      "text/plain": [
       "         date                   station_name  precipitation\n",
       "0  2023-08-14   HECTOR INTERNATIONAL AIRPORT           0.63\n",
       "1  2023-08-14                      DRAKE FLD           0.68\n",
       "2  2023-08-14  NORTH WEST ALABAMA REGIONAL A           0.09\n",
       "3  2023-08-14                       LOWE AHP           0.35\n",
       "4  2023-08-14               SEDALIA MEMORIAL           1.46\n",
       "5  2023-08-14           FORT LAUDERDALE EXEC           0.13\n",
       "6  2023-08-14       HOBART MUNICIPAL AIRPORT           0.09\n",
       "7  2023-08-14              HARTFORD BRAINARD           0.22\n",
       "8  2023-08-14               BLYTHEVILLE MUNI           0.05\n",
       "9  2023-08-14                  HUTCHINSON CO           0.23"
      ]
     },
     "execution_count": 25,
     "metadata": {},
     "output_type": "execute_result"
    }
   ],
   "source": [
    "%%bigquery\n",
    "SELECT\n",
    "  DATE(CAST(year AS INT64), CAST(mo AS INT64), CAST(da AS INT64)) AS date,\n",
    "  (SELECT ANY_VALUE(name) FROM `bigquery-public-data.noaa_gsod.stations` AS stations WHERE stations.usaf = stn) AS station_name,\n",
    "  prcp AS precipitation\n",
    "FROM `bigquery-public-data.noaa_gsod.gsod*` AS weather\n",
    "WHERE prcp < 99.9  \n",
    "  AND prcp > 0      \n",
    "  AND _TABLE_SUFFIX >= '2022'\n",
    "ORDER BY date DESC\n",
    "LIMIT 10"
   ]
  },
  {
   "cell_type": "markdown",
   "metadata": {},
   "source": [
    "Here are 10 of the most recent precipitation data captured by weather stations.\n",
    "\n",
    "Create a auto-expiring partitioned table with the data that we had explore before."
   ]
  },
  {
   "cell_type": "code",
   "execution_count": 26,
   "metadata": {},
   "outputs": [
    {
     "data": {
      "application/vnd.jupyter.widget-view+json": {
       "model_id": "04a768b482954ffa817aa55e15df2168",
       "version_major": 2,
       "version_minor": 0
      },
      "text/plain": [
       "Query is running:   0%|          |"
      ]
     },
     "metadata": {},
     "output_type": "display_data"
    },
    {
     "data": {
      "text/html": [
       "<div>\n",
       "<style scoped>\n",
       "    .dataframe tbody tr th:only-of-type {\n",
       "        vertical-align: middle;\n",
       "    }\n",
       "\n",
       "    .dataframe tbody tr th {\n",
       "        vertical-align: top;\n",
       "    }\n",
       "\n",
       "    .dataframe thead th {\n",
       "        text-align: right;\n",
       "    }\n",
       "</style>\n",
       "<table border=\"1\" class=\"dataframe\">\n",
       "  <thead>\n",
       "    <tr style=\"text-align: right;\">\n",
       "      <th></th>\n",
       "    </tr>\n",
       "  </thead>\n",
       "  <tbody>\n",
       "  </tbody>\n",
       "</table>\n",
       "</div>"
      ],
      "text/plain": [
       "Empty DataFrame\n",
       "Columns: []\n",
       "Index: []"
      ]
     },
     "execution_count": 26,
     "metadata": {},
     "output_type": "execute_result"
    }
   ],
   "source": [
    "%%bigquery\n",
    "CREATE OR REPLACE TABLE ecommerce.days_with_rain\n",
    "PARTITION BY date\n",
    "OPTIONS (\n",
    "  partition_expiration_days=90,\n",
    "  description=\"Weather stations with precipitation, partitioned by day\"\n",
    ") AS\n",
    "  SELECT\n",
    "    DATE(CAST(year AS INT64), CAST(mo AS INT64), CAST(da AS INT64)) AS date,\n",
    "    (SELECT ANY_VALUE(name) FROM `bigquery-public-data.noaa_gsod.stations` AS stations WHERE stations.usaf = stn) AS station_name,\n",
    "    prcp AS precipitation\n",
    "  FROM `bigquery-public-data.noaa_gsod.gsod*` AS weather\n",
    "  WHERE prcp < 99.9  \n",
    "    AND prcp > 0      \n",
    "    AND _TABLE_SUFFIX >= '2022'"
   ]
  },
  {
   "cell_type": "markdown",
   "metadata": {},
   "source": [
    "To confirm the table is only storing data from 90 days in the past up until today, run the query below to get the age of your partition. Set the station name to only Soekarno Hatta Airport."
   ]
  },
  {
   "cell_type": "code",
   "execution_count": 30,
   "metadata": {},
   "outputs": [
    {
     "data": {
      "application/vnd.jupyter.widget-view+json": {
       "model_id": "c2961a9ef63d493b9723d58b68d6da55",
       "version_major": 2,
       "version_minor": 0
      },
      "text/plain": [
       "Query is running:   0%|          |"
      ]
     },
     "metadata": {},
     "output_type": "display_data"
    },
    {
     "data": {
      "application/vnd.jupyter.widget-view+json": {
       "model_id": "d262167f32e44c72861bbb4ebfe0a3c8",
       "version_major": 2,
       "version_minor": 0
      },
      "text/plain": [
       "Downloading:   0%|          |"
      ]
     },
     "metadata": {},
     "output_type": "display_data"
    },
    {
     "data": {
      "text/html": [
       "<div>\n",
       "<style scoped>\n",
       "    .dataframe tbody tr th:only-of-type {\n",
       "        vertical-align: middle;\n",
       "    }\n",
       "\n",
       "    .dataframe tbody tr th {\n",
       "        vertical-align: top;\n",
       "    }\n",
       "\n",
       "    .dataframe thead th {\n",
       "        text-align: right;\n",
       "    }\n",
       "</style>\n",
       "<table border=\"1\" class=\"dataframe\">\n",
       "  <thead>\n",
       "    <tr style=\"text-align: right;\">\n",
       "      <th></th>\n",
       "      <th>average</th>\n",
       "      <th>station_name</th>\n",
       "      <th>date</th>\n",
       "      <th>today</th>\n",
       "      <th>partition_age</th>\n",
       "      <th>month</th>\n",
       "    </tr>\n",
       "  </thead>\n",
       "  <tbody>\n",
       "    <tr>\n",
       "      <th>0</th>\n",
       "      <td>0.79</td>\n",
       "      <td>SOEKARNO HATTA INTL</td>\n",
       "      <td>2023-07-24</td>\n",
       "      <td>2023-08-16</td>\n",
       "      <td>23</td>\n",
       "      <td>7</td>\n",
       "    </tr>\n",
       "    <tr>\n",
       "      <th>1</th>\n",
       "      <td>0.20</td>\n",
       "      <td>SOEKARNO HATTA INTL</td>\n",
       "      <td>2023-07-07</td>\n",
       "      <td>2023-08-16</td>\n",
       "      <td>40</td>\n",
       "      <td>7</td>\n",
       "    </tr>\n",
       "    <tr>\n",
       "      <th>2</th>\n",
       "      <td>0.02</td>\n",
       "      <td>SOEKARNO HATTA INTL</td>\n",
       "      <td>2023-07-06</td>\n",
       "      <td>2023-08-16</td>\n",
       "      <td>41</td>\n",
       "      <td>7</td>\n",
       "    </tr>\n",
       "    <tr>\n",
       "      <th>3</th>\n",
       "      <td>0.43</td>\n",
       "      <td>SOEKARNO HATTA INTL</td>\n",
       "      <td>2023-06-25</td>\n",
       "      <td>2023-08-16</td>\n",
       "      <td>52</td>\n",
       "      <td>6</td>\n",
       "    </tr>\n",
       "    <tr>\n",
       "      <th>4</th>\n",
       "      <td>0.37</td>\n",
       "      <td>SOEKARNO HATTA INTL</td>\n",
       "      <td>2023-06-19</td>\n",
       "      <td>2023-08-16</td>\n",
       "      <td>58</td>\n",
       "      <td>6</td>\n",
       "    </tr>\n",
       "    <tr>\n",
       "      <th>5</th>\n",
       "      <td>0.39</td>\n",
       "      <td>SOEKARNO HATTA INTL</td>\n",
       "      <td>2023-06-16</td>\n",
       "      <td>2023-08-16</td>\n",
       "      <td>61</td>\n",
       "      <td>6</td>\n",
       "    </tr>\n",
       "    <tr>\n",
       "      <th>6</th>\n",
       "      <td>0.02</td>\n",
       "      <td>SOEKARNO HATTA INTL</td>\n",
       "      <td>2023-06-14</td>\n",
       "      <td>2023-08-16</td>\n",
       "      <td>63</td>\n",
       "      <td>6</td>\n",
       "    </tr>\n",
       "    <tr>\n",
       "      <th>7</th>\n",
       "      <td>0.63</td>\n",
       "      <td>SOEKARNO HATTA INTL</td>\n",
       "      <td>2023-06-06</td>\n",
       "      <td>2023-08-16</td>\n",
       "      <td>71</td>\n",
       "      <td>6</td>\n",
       "    </tr>\n",
       "    <tr>\n",
       "      <th>8</th>\n",
       "      <td>0.01</td>\n",
       "      <td>SOEKARNO HATTA INTL</td>\n",
       "      <td>2023-05-30</td>\n",
       "      <td>2023-08-16</td>\n",
       "      <td>78</td>\n",
       "      <td>5</td>\n",
       "    </tr>\n",
       "    <tr>\n",
       "      <th>9</th>\n",
       "      <td>0.63</td>\n",
       "      <td>SOEKARNO HATTA INTL</td>\n",
       "      <td>2023-05-22</td>\n",
       "      <td>2023-08-16</td>\n",
       "      <td>86</td>\n",
       "      <td>5</td>\n",
       "    </tr>\n",
       "  </tbody>\n",
       "</table>\n",
       "</div>"
      ],
      "text/plain": [
       "   average         station_name        date       today  partition_age  month\n",
       "0     0.79  SOEKARNO HATTA INTL  2023-07-24  2023-08-16             23      7\n",
       "1     0.20  SOEKARNO HATTA INTL  2023-07-07  2023-08-16             40      7\n",
       "2     0.02  SOEKARNO HATTA INTL  2023-07-06  2023-08-16             41      7\n",
       "3     0.43  SOEKARNO HATTA INTL  2023-06-25  2023-08-16             52      6\n",
       "4     0.37  SOEKARNO HATTA INTL  2023-06-19  2023-08-16             58      6\n",
       "5     0.39  SOEKARNO HATTA INTL  2023-06-16  2023-08-16             61      6\n",
       "6     0.02  SOEKARNO HATTA INTL  2023-06-14  2023-08-16             63      6\n",
       "7     0.63  SOEKARNO HATTA INTL  2023-06-06  2023-08-16             71      6\n",
       "8     0.01  SOEKARNO HATTA INTL  2023-05-30  2023-08-16             78      5\n",
       "9     0.63  SOEKARNO HATTA INTL  2023-05-22  2023-08-16             86      5"
      ]
     },
     "execution_count": 30,
     "metadata": {},
     "output_type": "execute_result"
    }
   ],
   "source": [
    "%%bigquery\n",
    "SELECT\n",
    "  AVG(precipitation) AS average,\n",
    "  station_name,\n",
    "  date,\n",
    "  CURRENT_DATE() AS today,\n",
    "  DATE_DIFF(CURRENT_DATE(), date, DAY) AS partition_age,\n",
    "  EXTRACT(MONTH FROM date) AS month\n",
    "FROM ecommerce.days_with_rain\n",
    "WHERE station_name = 'SOEKARNO HATTA INTL'\n",
    "GROUP BY station_name, date, today, month, partition_age\n",
    "ORDER BY date DESC"
   ]
  },
  {
   "cell_type": "markdown",
   "metadata": {},
   "source": [
    "When the partition_age is over than 90 days, the partition will expired."
   ]
  },
  {
   "cell_type": "code",
   "execution_count": 31,
   "metadata": {},
   "outputs": [
    {
     "data": {
      "application/vnd.jupyter.widget-view+json": {
       "model_id": "979b0700f12145ceb76665c0a2116144",
       "version_major": 2,
       "version_minor": 0
      },
      "text/plain": [
       "Query is running:   0%|          |"
      ]
     },
     "metadata": {},
     "output_type": "display_data"
    },
    {
     "data": {
      "application/vnd.jupyter.widget-view+json": {
       "model_id": "4db22a4869734f5ba826b8d9caa96b17",
       "version_major": 2,
       "version_minor": 0
      },
      "text/plain": [
       "Downloading:   0%|          |"
      ]
     },
     "metadata": {},
     "output_type": "display_data"
    },
    {
     "data": {
      "text/html": [
       "<div>\n",
       "<style scoped>\n",
       "    .dataframe tbody tr th:only-of-type {\n",
       "        vertical-align: middle;\n",
       "    }\n",
       "\n",
       "    .dataframe tbody tr th {\n",
       "        vertical-align: top;\n",
       "    }\n",
       "\n",
       "    .dataframe thead th {\n",
       "        text-align: right;\n",
       "    }\n",
       "</style>\n",
       "<table border=\"1\" class=\"dataframe\">\n",
       "  <thead>\n",
       "    <tr style=\"text-align: right;\">\n",
       "      <th></th>\n",
       "      <th>average</th>\n",
       "      <th>station_name</th>\n",
       "      <th>date</th>\n",
       "      <th>today</th>\n",
       "      <th>partition_age</th>\n",
       "      <th>month</th>\n",
       "    </tr>\n",
       "  </thead>\n",
       "  <tbody>\n",
       "    <tr>\n",
       "      <th>0</th>\n",
       "      <td>0.63</td>\n",
       "      <td>SOEKARNO HATTA INTL</td>\n",
       "      <td>2023-05-22</td>\n",
       "      <td>2023-08-16</td>\n",
       "      <td>86</td>\n",
       "      <td>5</td>\n",
       "    </tr>\n",
       "    <tr>\n",
       "      <th>1</th>\n",
       "      <td>0.01</td>\n",
       "      <td>SOEKARNO HATTA INTL</td>\n",
       "      <td>2023-05-30</td>\n",
       "      <td>2023-08-16</td>\n",
       "      <td>78</td>\n",
       "      <td>5</td>\n",
       "    </tr>\n",
       "    <tr>\n",
       "      <th>2</th>\n",
       "      <td>0.63</td>\n",
       "      <td>SOEKARNO HATTA INTL</td>\n",
       "      <td>2023-06-06</td>\n",
       "      <td>2023-08-16</td>\n",
       "      <td>71</td>\n",
       "      <td>6</td>\n",
       "    </tr>\n",
       "    <tr>\n",
       "      <th>3</th>\n",
       "      <td>0.02</td>\n",
       "      <td>SOEKARNO HATTA INTL</td>\n",
       "      <td>2023-06-14</td>\n",
       "      <td>2023-08-16</td>\n",
       "      <td>63</td>\n",
       "      <td>6</td>\n",
       "    </tr>\n",
       "    <tr>\n",
       "      <th>4</th>\n",
       "      <td>0.39</td>\n",
       "      <td>SOEKARNO HATTA INTL</td>\n",
       "      <td>2023-06-16</td>\n",
       "      <td>2023-08-16</td>\n",
       "      <td>61</td>\n",
       "      <td>6</td>\n",
       "    </tr>\n",
       "    <tr>\n",
       "      <th>5</th>\n",
       "      <td>0.37</td>\n",
       "      <td>SOEKARNO HATTA INTL</td>\n",
       "      <td>2023-06-19</td>\n",
       "      <td>2023-08-16</td>\n",
       "      <td>58</td>\n",
       "      <td>6</td>\n",
       "    </tr>\n",
       "    <tr>\n",
       "      <th>6</th>\n",
       "      <td>0.43</td>\n",
       "      <td>SOEKARNO HATTA INTL</td>\n",
       "      <td>2023-06-25</td>\n",
       "      <td>2023-08-16</td>\n",
       "      <td>52</td>\n",
       "      <td>6</td>\n",
       "    </tr>\n",
       "    <tr>\n",
       "      <th>7</th>\n",
       "      <td>0.02</td>\n",
       "      <td>SOEKARNO HATTA INTL</td>\n",
       "      <td>2023-07-06</td>\n",
       "      <td>2023-08-16</td>\n",
       "      <td>41</td>\n",
       "      <td>7</td>\n",
       "    </tr>\n",
       "    <tr>\n",
       "      <th>8</th>\n",
       "      <td>0.20</td>\n",
       "      <td>SOEKARNO HATTA INTL</td>\n",
       "      <td>2023-07-07</td>\n",
       "      <td>2023-08-16</td>\n",
       "      <td>40</td>\n",
       "      <td>7</td>\n",
       "    </tr>\n",
       "    <tr>\n",
       "      <th>9</th>\n",
       "      <td>0.79</td>\n",
       "      <td>SOEKARNO HATTA INTL</td>\n",
       "      <td>2023-07-24</td>\n",
       "      <td>2023-08-16</td>\n",
       "      <td>23</td>\n",
       "      <td>7</td>\n",
       "    </tr>\n",
       "  </tbody>\n",
       "</table>\n",
       "</div>"
      ],
      "text/plain": [
       "   average         station_name        date       today  partition_age  month\n",
       "0     0.63  SOEKARNO HATTA INTL  2023-05-22  2023-08-16             86      5\n",
       "1     0.01  SOEKARNO HATTA INTL  2023-05-30  2023-08-16             78      5\n",
       "2     0.63  SOEKARNO HATTA INTL  2023-06-06  2023-08-16             71      6\n",
       "3     0.02  SOEKARNO HATTA INTL  2023-06-14  2023-08-16             63      6\n",
       "4     0.39  SOEKARNO HATTA INTL  2023-06-16  2023-08-16             61      6\n",
       "5     0.37  SOEKARNO HATTA INTL  2023-06-19  2023-08-16             58      6\n",
       "6     0.43  SOEKARNO HATTA INTL  2023-06-25  2023-08-16             52      6\n",
       "7     0.02  SOEKARNO HATTA INTL  2023-07-06  2023-08-16             41      7\n",
       "8     0.20  SOEKARNO HATTA INTL  2023-07-07  2023-08-16             40      7\n",
       "9     0.79  SOEKARNO HATTA INTL  2023-07-24  2023-08-16             23      7"
      ]
     },
     "execution_count": 31,
     "metadata": {},
     "output_type": "execute_result"
    }
   ],
   "source": [
    "%%bigquery\n",
    "SELECT\n",
    "  AVG(precipitation) AS average,\n",
    "  station_name,\n",
    "  date,\n",
    "  CURRENT_DATE() AS today,\n",
    "  DATE_DIFF(CURRENT_DATE(), date, DAY) AS partition_age,\n",
    "  EXTRACT(MONTH FROM date) AS month\n",
    "FROM ecommerce.days_with_rain\n",
    "WHERE station_name = 'SOEKARNO HATTA INTL' \n",
    "GROUP BY station_name, date, today, month, partition_age\n",
    "ORDER BY partition_age DESC"
   ]
  }
 ],
 "metadata": {
  "kernelspec": {
   "display_name": "Python 3",
   "language": "python",
   "name": "python3"
  },
  "language_info": {
   "codemirror_mode": {
    "name": "ipython",
    "version": 3
   },
   "file_extension": ".py",
   "mimetype": "text/x-python",
   "name": "python",
   "nbconvert_exporter": "python",
   "pygments_lexer": "ipython3",
   "version": "3.11.4"
  },
  "orig_nbformat": 4
 },
 "nbformat": 4,
 "nbformat_minor": 2
}
