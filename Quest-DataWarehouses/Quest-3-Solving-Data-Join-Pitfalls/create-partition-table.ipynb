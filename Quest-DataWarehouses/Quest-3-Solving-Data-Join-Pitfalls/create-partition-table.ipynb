{
 "cells": [
  {
   "cell_type": "markdown",
   "metadata": {},
   "source": [
    "# Troubleshooting and Solving Data Join Pitfalls\n",
    "\n",
    "Joining data tables can provide meaningful insight. When join our data, there are common pitfalls that could corrupt the results. This is how to avoiding those pitfalls."
   ]
  },
  {
   "cell_type": "markdown",
   "metadata": {},
   "source": [
    "### 1. Connecting BigQuery Jupyter Notebook\n",
    "\n",
    "Set environment variables for notebook to connect Bigquery"
   ]
  },
  {
   "cell_type": "code",
   "execution_count": 1,
   "metadata": {},
   "outputs": [],
   "source": [
    "import os \n",
    "os.environ['GOOGLE_APPLICATION_CREDENTIALS'] = 'D:/Agra/Data-Engineer/GCP-DataEngineerLearningPath/Quest-DataWarehouses/Quest-3-Solving-Data-Join-Pitfalls/qwiklabs-gcp-02-71dac6548842-820b1794753e.json'"
   ]
  },
  {
   "cell_type": "markdown",
   "metadata": {},
   "source": [
    "Load the BigQuery client library by executing the command below"
   ]
  },
  {
   "cell_type": "code",
   "execution_count": 2,
   "metadata": {},
   "outputs": [],
   "source": [
    "%load_ext google.cloud.bigquery"
   ]
  },
  {
   "cell_type": "markdown",
   "metadata": {},
   "source": [
    "### 2. Create a New Dataset\n",
    "\n",
    "Used to store table for the insights. Create new dataset titled `ecommerce` can be done through SQL query."
   ]
  },
  {
   "cell_type": "code",
   "execution_count": 3,
   "metadata": {},
   "outputs": [
    {
     "data": {
      "application/vnd.jupyter.widget-view+json": {
       "model_id": "0a921bb1bfd141d782fad4c884e73124",
       "version_major": 2,
       "version_minor": 0
      },
      "text/plain": [
       "Query is running:   0%|          |"
      ]
     },
     "metadata": {},
     "output_type": "display_data"
    },
    {
     "data": {
      "text/html": [
       "<div>\n",
       "<style scoped>\n",
       "    .dataframe tbody tr th:only-of-type {\n",
       "        vertical-align: middle;\n",
       "    }\n",
       "\n",
       "    .dataframe tbody tr th {\n",
       "        vertical-align: top;\n",
       "    }\n",
       "\n",
       "    .dataframe thead th {\n",
       "        text-align: right;\n",
       "    }\n",
       "</style>\n",
       "<table border=\"1\" class=\"dataframe\">\n",
       "  <thead>\n",
       "    <tr style=\"text-align: right;\">\n",
       "      <th></th>\n",
       "    </tr>\n",
       "  </thead>\n",
       "  <tbody>\n",
       "  </tbody>\n",
       "</table>\n",
       "</div>"
      ],
      "text/plain": [
       "Empty DataFrame\n",
       "Columns: []\n",
       "Index: []"
      ]
     },
     "execution_count": 3,
     "metadata": {},
     "output_type": "execute_result"
    }
   ],
   "source": [
    "%%bigquery\n",
    "CREATE SCHEMA ecommerce"
   ]
  },
  {
   "cell_type": "markdown",
   "metadata": {},
   "source": [
    "Ecommerce dataset has been created"
   ]
  },
  {
   "cell_type": "markdown",
   "metadata": {},
   "source": [
    "### 3. Identify a Key Field\n",
    "\n",
    "In this quest we want to analyze the inventory stock levels for each of the products for sale on the ecommerce website.\n",
    "\n",
    "To become familiar with the products on the website, first check the schema of each fields."
   ]
  },
  {
   "cell_type": "code",
   "execution_count": 6,
   "metadata": {},
   "outputs": [
    {
     "data": {
      "application/vnd.jupyter.widget-view+json": {
       "model_id": "9e56752e26eb42e3b8a2f9fab3b25167",
       "version_major": 2,
       "version_minor": 0
      },
      "text/plain": [
       "Query is running:   0%|          |"
      ]
     },
     "metadata": {},
     "output_type": "display_data"
    },
    {
     "data": {
      "application/vnd.jupyter.widget-view+json": {
       "model_id": "1a19f43b5a8f45edada1c5a676bb18a6",
       "version_major": 2,
       "version_minor": 0
      },
      "text/plain": [
       "Downloading:   0%|          |"
      ]
     },
     "metadata": {},
     "output_type": "display_data"
    },
    {
     "data": {
      "text/html": [
       "<div>\n",
       "<style scoped>\n",
       "    .dataframe tbody tr th:only-of-type {\n",
       "        vertical-align: middle;\n",
       "    }\n",
       "\n",
       "    .dataframe tbody tr th {\n",
       "        vertical-align: top;\n",
       "    }\n",
       "\n",
       "    .dataframe thead th {\n",
       "        text-align: right;\n",
       "    }\n",
       "</style>\n",
       "<table border=\"1\" class=\"dataframe\">\n",
       "  <thead>\n",
       "    <tr style=\"text-align: right;\">\n",
       "      <th></th>\n",
       "      <th>column_name</th>\n",
       "      <th>data_type</th>\n",
       "    </tr>\n",
       "  </thead>\n",
       "  <tbody>\n",
       "    <tr>\n",
       "      <th>0</th>\n",
       "      <td>fullVisitorId</td>\n",
       "      <td>STRING</td>\n",
       "    </tr>\n",
       "    <tr>\n",
       "      <th>1</th>\n",
       "      <td>channelGrouping</td>\n",
       "      <td>STRING</td>\n",
       "    </tr>\n",
       "    <tr>\n",
       "      <th>2</th>\n",
       "      <td>time</td>\n",
       "      <td>INT64</td>\n",
       "    </tr>\n",
       "    <tr>\n",
       "      <th>3</th>\n",
       "      <td>country</td>\n",
       "      <td>STRING</td>\n",
       "    </tr>\n",
       "    <tr>\n",
       "      <th>4</th>\n",
       "      <td>city</td>\n",
       "      <td>STRING</td>\n",
       "    </tr>\n",
       "    <tr>\n",
       "      <th>5</th>\n",
       "      <td>totalTransactionRevenue</td>\n",
       "      <td>INT64</td>\n",
       "    </tr>\n",
       "    <tr>\n",
       "      <th>6</th>\n",
       "      <td>transactions</td>\n",
       "      <td>INT64</td>\n",
       "    </tr>\n",
       "    <tr>\n",
       "      <th>7</th>\n",
       "      <td>timeOnSite</td>\n",
       "      <td>INT64</td>\n",
       "    </tr>\n",
       "    <tr>\n",
       "      <th>8</th>\n",
       "      <td>pageviews</td>\n",
       "      <td>INT64</td>\n",
       "    </tr>\n",
       "    <tr>\n",
       "      <th>9</th>\n",
       "      <td>sessionQualityDim</td>\n",
       "      <td>INT64</td>\n",
       "    </tr>\n",
       "    <tr>\n",
       "      <th>10</th>\n",
       "      <td>date</td>\n",
       "      <td>STRING</td>\n",
       "    </tr>\n",
       "    <tr>\n",
       "      <th>11</th>\n",
       "      <td>visitId</td>\n",
       "      <td>INT64</td>\n",
       "    </tr>\n",
       "    <tr>\n",
       "      <th>12</th>\n",
       "      <td>type</td>\n",
       "      <td>STRING</td>\n",
       "    </tr>\n",
       "    <tr>\n",
       "      <th>13</th>\n",
       "      <td>productRefundAmount</td>\n",
       "      <td>INT64</td>\n",
       "    </tr>\n",
       "    <tr>\n",
       "      <th>14</th>\n",
       "      <td>productQuantity</td>\n",
       "      <td>INT64</td>\n",
       "    </tr>\n",
       "    <tr>\n",
       "      <th>15</th>\n",
       "      <td>productPrice</td>\n",
       "      <td>INT64</td>\n",
       "    </tr>\n",
       "    <tr>\n",
       "      <th>16</th>\n",
       "      <td>productRevenue</td>\n",
       "      <td>INT64</td>\n",
       "    </tr>\n",
       "    <tr>\n",
       "      <th>17</th>\n",
       "      <td>productSKU</td>\n",
       "      <td>STRING</td>\n",
       "    </tr>\n",
       "    <tr>\n",
       "      <th>18</th>\n",
       "      <td>v2ProductName</td>\n",
       "      <td>STRING</td>\n",
       "    </tr>\n",
       "    <tr>\n",
       "      <th>19</th>\n",
       "      <td>v2ProductCategory</td>\n",
       "      <td>STRING</td>\n",
       "    </tr>\n",
       "    <tr>\n",
       "      <th>20</th>\n",
       "      <td>productVariant</td>\n",
       "      <td>STRING</td>\n",
       "    </tr>\n",
       "    <tr>\n",
       "      <th>21</th>\n",
       "      <td>currencyCode</td>\n",
       "      <td>STRING</td>\n",
       "    </tr>\n",
       "    <tr>\n",
       "      <th>22</th>\n",
       "      <td>itemQuantity</td>\n",
       "      <td>INT64</td>\n",
       "    </tr>\n",
       "    <tr>\n",
       "      <th>23</th>\n",
       "      <td>itemRevenue</td>\n",
       "      <td>INT64</td>\n",
       "    </tr>\n",
       "    <tr>\n",
       "      <th>24</th>\n",
       "      <td>transactionRevenue</td>\n",
       "      <td>INT64</td>\n",
       "    </tr>\n",
       "    <tr>\n",
       "      <th>25</th>\n",
       "      <td>transactionId</td>\n",
       "      <td>STRING</td>\n",
       "    </tr>\n",
       "    <tr>\n",
       "      <th>26</th>\n",
       "      <td>pageTitle</td>\n",
       "      <td>STRING</td>\n",
       "    </tr>\n",
       "    <tr>\n",
       "      <th>27</th>\n",
       "      <td>searchKeyword</td>\n",
       "      <td>STRING</td>\n",
       "    </tr>\n",
       "    <tr>\n",
       "      <th>28</th>\n",
       "      <td>pagePathLevel1</td>\n",
       "      <td>STRING</td>\n",
       "    </tr>\n",
       "    <tr>\n",
       "      <th>29</th>\n",
       "      <td>eCommerceAction_type</td>\n",
       "      <td>STRING</td>\n",
       "    </tr>\n",
       "    <tr>\n",
       "      <th>30</th>\n",
       "      <td>eCommerceAction_step</td>\n",
       "      <td>INT64</td>\n",
       "    </tr>\n",
       "    <tr>\n",
       "      <th>31</th>\n",
       "      <td>eCommerceAction_option</td>\n",
       "      <td>STRING</td>\n",
       "    </tr>\n",
       "  </tbody>\n",
       "</table>\n",
       "</div>"
      ],
      "text/plain": [
       "                column_name data_type\n",
       "0             fullVisitorId    STRING\n",
       "1           channelGrouping    STRING\n",
       "2                      time     INT64\n",
       "3                   country    STRING\n",
       "4                      city    STRING\n",
       "5   totalTransactionRevenue     INT64\n",
       "6              transactions     INT64\n",
       "7                timeOnSite     INT64\n",
       "8                 pageviews     INT64\n",
       "9         sessionQualityDim     INT64\n",
       "10                     date    STRING\n",
       "11                  visitId     INT64\n",
       "12                     type    STRING\n",
       "13      productRefundAmount     INT64\n",
       "14          productQuantity     INT64\n",
       "15             productPrice     INT64\n",
       "16           productRevenue     INT64\n",
       "17               productSKU    STRING\n",
       "18            v2ProductName    STRING\n",
       "19        v2ProductCategory    STRING\n",
       "20           productVariant    STRING\n",
       "21             currencyCode    STRING\n",
       "22             itemQuantity     INT64\n",
       "23              itemRevenue     INT64\n",
       "24       transactionRevenue     INT64\n",
       "25            transactionId    STRING\n",
       "26                pageTitle    STRING\n",
       "27            searchKeyword    STRING\n",
       "28           pagePathLevel1    STRING\n",
       "29     eCommerceAction_type    STRING\n",
       "30     eCommerceAction_step     INT64\n",
       "31   eCommerceAction_option    STRING"
      ]
     },
     "execution_count": 6,
     "metadata": {},
     "output_type": "execute_result"
    }
   ],
   "source": [
    "%%bigquery\n",
    "SELECT column_name, data_type\n",
    "FROM `data-to-insights.ecommerce.INFORMATION_SCHEMA.COLUMNS`\n",
    "WHERE table_name = 'all_sessions_raw'\n",
    "ORDER BY ordinal_position"
   ]
  },
  {
   "cell_type": "markdown",
   "metadata": {},
   "source": [
    "Find how many product names and product SKUs are on the website and whether either one of those fields is unique. Run the query below to know how many products are on the website."
   ]
  },
  {
   "cell_type": "code",
   "execution_count": 7,
   "metadata": {},
   "outputs": [
    {
     "data": {
      "application/vnd.jupyter.widget-view+json": {
       "model_id": "850575c41251459291ea0b54f6fc9096",
       "version_major": 2,
       "version_minor": 0
      },
      "text/plain": [
       "Query is running:   0%|          |"
      ]
     },
     "metadata": {},
     "output_type": "display_data"
    },
    {
     "data": {
      "application/vnd.jupyter.widget-view+json": {
       "model_id": "8a8d4a6b422640b2a96fc77a419dd22b",
       "version_major": 2,
       "version_minor": 0
      },
      "text/plain": [
       "Downloading:   0%|          |"
      ]
     },
     "metadata": {},
     "output_type": "display_data"
    },
    {
     "data": {
      "text/html": [
       "<div>\n",
       "<style scoped>\n",
       "    .dataframe tbody tr th:only-of-type {\n",
       "        vertical-align: middle;\n",
       "    }\n",
       "\n",
       "    .dataframe tbody tr th {\n",
       "        vertical-align: top;\n",
       "    }\n",
       "\n",
       "    .dataframe thead th {\n",
       "        text-align: right;\n",
       "    }\n",
       "</style>\n",
       "<table border=\"1\" class=\"dataframe\">\n",
       "  <thead>\n",
       "    <tr style=\"text-align: right;\">\n",
       "      <th></th>\n",
       "      <th>productSKU</th>\n",
       "      <th>v2ProductName</th>\n",
       "    </tr>\n",
       "  </thead>\n",
       "  <tbody>\n",
       "    <tr>\n",
       "      <th>0</th>\n",
       "      <td>9180750</td>\n",
       "      <td>Android 24 oz Contigo Bottle</td>\n",
       "    </tr>\n",
       "    <tr>\n",
       "      <th>1</th>\n",
       "      <td>9180833</td>\n",
       "      <td>Rubber Grip Ballpoint Pen 4 Pack</td>\n",
       "    </tr>\n",
       "    <tr>\n",
       "      <th>2</th>\n",
       "      <td>9180842</td>\n",
       "      <td>Maze Pen</td>\n",
       "    </tr>\n",
       "    <tr>\n",
       "      <th>3</th>\n",
       "      <td>9181019</td>\n",
       "      <td>Google Tri-blend Hoodie Grey</td>\n",
       "    </tr>\n",
       "    <tr>\n",
       "      <th>4</th>\n",
       "      <td>9182569</td>\n",
       "      <td>Google Men's  Zip Hoodie</td>\n",
       "    </tr>\n",
       "    <tr>\n",
       "      <th>...</th>\n",
       "      <td>...</td>\n",
       "      <td>...</td>\n",
       "    </tr>\n",
       "    <tr>\n",
       "      <th>2268</th>\n",
       "      <td>9184616</td>\n",
       "      <td>Nest® Protect Smoke + CO White Battery Alarm - CA</td>\n",
       "    </tr>\n",
       "    <tr>\n",
       "      <th>2269</th>\n",
       "      <td>GGOEGCLB020832</td>\n",
       "      <td>BRIGHTtravels Set of 3 Nested Travel Cases</td>\n",
       "    </tr>\n",
       "    <tr>\n",
       "      <th>2270</th>\n",
       "      <td>A12345</td>\n",
       "      <td>My T-Shirt</td>\n",
       "    </tr>\n",
       "    <tr>\n",
       "      <th>2271</th>\n",
       "      <td>9180841</td>\n",
       "      <td>Bic Tri-Tone Twist Pen</td>\n",
       "    </tr>\n",
       "    <tr>\n",
       "      <th>2272</th>\n",
       "      <td>GGOEGAER029217</td>\n",
       "      <td>Google Women's Short Sleeve Shirt Red</td>\n",
       "    </tr>\n",
       "  </tbody>\n",
       "</table>\n",
       "<p>2273 rows × 2 columns</p>\n",
       "</div>"
      ],
      "text/plain": [
       "          productSKU                                      v2ProductName\n",
       "0            9180750                       Android 24 oz Contigo Bottle\n",
       "1            9180833                   Rubber Grip Ballpoint Pen 4 Pack\n",
       "2            9180842                                           Maze Pen\n",
       "3            9181019                       Google Tri-blend Hoodie Grey\n",
       "4            9182569                           Google Men's  Zip Hoodie\n",
       "...              ...                                                ...\n",
       "2268         9184616  Nest® Protect Smoke + CO White Battery Alarm - CA\n",
       "2269  GGOEGCLB020832         BRIGHTtravels Set of 3 Nested Travel Cases\n",
       "2270          A12345                                         My T-Shirt\n",
       "2271         9180841                             Bic Tri-Tone Twist Pen\n",
       "2272  GGOEGAER029217              Google Women's Short Sleeve Shirt Red\n",
       "\n",
       "[2273 rows x 2 columns]"
      ]
     },
     "execution_count": 7,
     "metadata": {},
     "output_type": "execute_result"
    }
   ],
   "source": [
    "%%bigquery\n",
    "SELECT DISTINCT\n",
    "productSKU,\n",
    "v2ProductName\n",
    "FROM `data-to-insights.ecommerce.all_sessions_raw`"
   ]
  },
  {
   "cell_type": "markdown",
   "metadata": {},
   "source": [
    "There are 2273 of products name and SKUs. Do the results mean that there are that many unique product SKUs? It can't be concluded yet.\n",
    "\n",
    "We need to looking at the number of the distinct SKU."
   ]
  },
  {
   "cell_type": "code",
   "execution_count": 8,
   "metadata": {},
   "outputs": [
    {
     "data": {
      "application/vnd.jupyter.widget-view+json": {
       "model_id": "4980a8683dd5496482110485e15475d3",
       "version_major": 2,
       "version_minor": 0
      },
      "text/plain": [
       "Query is running:   0%|          |"
      ]
     },
     "metadata": {},
     "output_type": "display_data"
    },
    {
     "data": {
      "application/vnd.jupyter.widget-view+json": {
       "model_id": "e4efcf08400242408e200e24e05d95b4",
       "version_major": 2,
       "version_minor": 0
      },
      "text/plain": [
       "Downloading:   0%|          |"
      ]
     },
     "metadata": {},
     "output_type": "display_data"
    },
    {
     "data": {
      "text/html": [
       "<div>\n",
       "<style scoped>\n",
       "    .dataframe tbody tr th:only-of-type {\n",
       "        vertical-align: middle;\n",
       "    }\n",
       "\n",
       "    .dataframe tbody tr th {\n",
       "        vertical-align: top;\n",
       "    }\n",
       "\n",
       "    .dataframe thead th {\n",
       "        text-align: right;\n",
       "    }\n",
       "</style>\n",
       "<table border=\"1\" class=\"dataframe\">\n",
       "  <thead>\n",
       "    <tr style=\"text-align: right;\">\n",
       "      <th></th>\n",
       "      <th>productSKU</th>\n",
       "    </tr>\n",
       "  </thead>\n",
       "  <tbody>\n",
       "    <tr>\n",
       "      <th>0</th>\n",
       "      <td>9180750</td>\n",
       "    </tr>\n",
       "    <tr>\n",
       "      <th>1</th>\n",
       "      <td>9180793</td>\n",
       "    </tr>\n",
       "    <tr>\n",
       "      <th>2</th>\n",
       "      <td>9180833</td>\n",
       "    </tr>\n",
       "    <tr>\n",
       "      <th>3</th>\n",
       "      <td>9180838</td>\n",
       "    </tr>\n",
       "    <tr>\n",
       "      <th>4</th>\n",
       "      <td>9180844</td>\n",
       "    </tr>\n",
       "    <tr>\n",
       "      <th>...</th>\n",
       "      <td>...</td>\n",
       "    </tr>\n",
       "    <tr>\n",
       "      <th>1904</th>\n",
       "      <td>10 55402</td>\n",
       "    </tr>\n",
       "    <tr>\n",
       "      <th>1905</th>\n",
       "      <td>10 93149</td>\n",
       "    </tr>\n",
       "    <tr>\n",
       "      <th>1906</th>\n",
       "      <td>10 55418</td>\n",
       "    </tr>\n",
       "    <tr>\n",
       "      <th>1907</th>\n",
       "      <td>9182956</td>\n",
       "    </tr>\n",
       "    <tr>\n",
       "      <th>1908</th>\n",
       "      <td>10 14153</td>\n",
       "    </tr>\n",
       "  </tbody>\n",
       "</table>\n",
       "<p>1909 rows × 1 columns</p>\n",
       "</div>"
      ],
      "text/plain": [
       "     productSKU\n",
       "0       9180750\n",
       "1       9180793\n",
       "2       9180833\n",
       "3       9180838\n",
       "4       9180844\n",
       "...         ...\n",
       "1904   10 55402\n",
       "1905   10 93149\n",
       "1906   10 55418\n",
       "1907    9182956\n",
       "1908   10 14153\n",
       "\n",
       "[1909 rows x 1 columns]"
      ]
     },
     "execution_count": 8,
     "metadata": {},
     "output_type": "execute_result"
    }
   ],
   "source": [
    "%%bigquery\n",
    "SELECT\n",
    "DISTINCT\n",
    "productSKU\n",
    "FROM `data-to-insights.ecommerce.all_sessions_raw`"
   ]
  },
  {
   "cell_type": "markdown",
   "metadata": {},
   "source": [
    "From the results, 1909 distinct SKUs are returned. There are fewer distinct SKUs than the product name and SKU. Why this is happened? because the first query also returned Product Name. It appears multiple Product Names can have the same SKU.\n",
    "\n",
    "Then we need to examine the relationship between product name & SKU. Determine which product name have more than one SKU and which SKU have more than one product name."
   ]
  },
  {
   "cell_type": "code",
   "execution_count": 9,
   "metadata": {},
   "outputs": [
    {
     "data": {
      "application/vnd.jupyter.widget-view+json": {
       "model_id": "0bce04417e1f41acbd24c1250f17c5e0",
       "version_major": 2,
       "version_minor": 0
      },
      "text/plain": [
       "Query is running:   0%|          |"
      ]
     },
     "metadata": {},
     "output_type": "display_data"
    },
    {
     "data": {
      "application/vnd.jupyter.widget-view+json": {
       "model_id": "51e95ece80dc4ea1b45082d013adf398",
       "version_major": 2,
       "version_minor": 0
      },
      "text/plain": [
       "Downloading:   0%|          |"
      ]
     },
     "metadata": {},
     "output_type": "display_data"
    },
    {
     "data": {
      "text/html": [
       "<div>\n",
       "<style scoped>\n",
       "    .dataframe tbody tr th:only-of-type {\n",
       "        vertical-align: middle;\n",
       "    }\n",
       "\n",
       "    .dataframe tbody tr th {\n",
       "        vertical-align: top;\n",
       "    }\n",
       "\n",
       "    .dataframe thead th {\n",
       "        text-align: right;\n",
       "    }\n",
       "</style>\n",
       "<table border=\"1\" class=\"dataframe\">\n",
       "  <thead>\n",
       "    <tr style=\"text-align: right;\">\n",
       "      <th></th>\n",
       "      <th>v2ProductName</th>\n",
       "      <th>SKU_count</th>\n",
       "      <th>SKU</th>\n",
       "    </tr>\n",
       "  </thead>\n",
       "  <tbody>\n",
       "    <tr>\n",
       "      <th>0</th>\n",
       "      <td>Waze Women's Typography Short Sleeve Tee</td>\n",
       "      <td>12</td>\n",
       "      <td>GGOEWALJ083415,9184705,9184708,GGOEWXXX0834,GG...</td>\n",
       "    </tr>\n",
       "    <tr>\n",
       "      <th>1</th>\n",
       "      <td>Google Sunglasses</td>\n",
       "      <td>10</td>\n",
       "      <td>GGOEGAAX0037,9180826,GGOEGHGR019499,9180827,91...</td>\n",
       "    </tr>\n",
       "    <tr>\n",
       "      <th>2</th>\n",
       "      <td>Google Men's Watershed Full Zip Hoodie Grey</td>\n",
       "      <td>10</td>\n",
       "      <td>GGOEGAAX0568,GGOEGADJ056814,GGOEGADJ056818,918...</td>\n",
       "    </tr>\n",
       "    <tr>\n",
       "      <th>3</th>\n",
       "      <td>Google Women's Insulated Thermal Vest Navy</td>\n",
       "      <td>10</td>\n",
       "      <td>GGOEGAAX0585,9182760,GGOEGAPL058515,GGOEGAPL05...</td>\n",
       "    </tr>\n",
       "    <tr>\n",
       "      <th>4</th>\n",
       "      <td>Android Women's Short Sleeve Badge Tee Dark He...</td>\n",
       "      <td>10</td>\n",
       "      <td>9182176,GGOEAAEJ028213,9182177,GGOEAAEJ028215,...</td>\n",
       "    </tr>\n",
       "    <tr>\n",
       "      <th>...</th>\n",
       "      <td>...</td>\n",
       "      <td>...</td>\n",
       "      <td>...</td>\n",
       "    </tr>\n",
       "    <tr>\n",
       "      <th>488</th>\n",
       "      <td>Google Sports Bag</td>\n",
       "      <td>2</td>\n",
       "      <td>GGOEGBMJ013399,9180766</td>\n",
       "    </tr>\n",
       "    <tr>\n",
       "      <th>489</th>\n",
       "      <td>Google Stretch Fit Hat M/L Navy</td>\n",
       "      <td>2</td>\n",
       "      <td>GGOEGHPL003214,9181575</td>\n",
       "    </tr>\n",
       "    <tr>\n",
       "      <th>490</th>\n",
       "      <td>YouTube Sticker Sheet</td>\n",
       "      <td>2</td>\n",
       "      <td>GGOEYFKQ020699,10 51122</td>\n",
       "    </tr>\n",
       "    <tr>\n",
       "      <th>491</th>\n",
       "      <td>Android Stretch Fit Hat Charcoal</td>\n",
       "      <td>2</td>\n",
       "      <td>GGOEGAAX0042,9182706</td>\n",
       "    </tr>\n",
       "    <tr>\n",
       "      <th>492</th>\n",
       "      <td>Google Magnetic Mini Flood Flashlight</td>\n",
       "      <td>2</td>\n",
       "      <td>GGOEGESQ016799,9180811</td>\n",
       "    </tr>\n",
       "  </tbody>\n",
       "</table>\n",
       "<p>493 rows × 3 columns</p>\n",
       "</div>"
      ],
      "text/plain": [
       "                                         v2ProductName  SKU_count  \\\n",
       "0             Waze Women's Typography Short Sleeve Tee         12   \n",
       "1                                    Google Sunglasses         10   \n",
       "2          Google Men's Watershed Full Zip Hoodie Grey         10   \n",
       "3           Google Women's Insulated Thermal Vest Navy         10   \n",
       "4    Android Women's Short Sleeve Badge Tee Dark He...         10   \n",
       "..                                                 ...        ...   \n",
       "488                                  Google Sports Bag          2   \n",
       "489                    Google Stretch Fit Hat M/L Navy          2   \n",
       "490                              YouTube Sticker Sheet          2   \n",
       "491                   Android Stretch Fit Hat Charcoal          2   \n",
       "492              Google Magnetic Mini Flood Flashlight          2   \n",
       "\n",
       "                                                   SKU  \n",
       "0    GGOEWALJ083415,9184705,9184708,GGOEWXXX0834,GG...  \n",
       "1    GGOEGAAX0037,9180826,GGOEGHGR019499,9180827,91...  \n",
       "2    GGOEGAAX0568,GGOEGADJ056814,GGOEGADJ056818,918...  \n",
       "3    GGOEGAAX0585,9182760,GGOEGAPL058515,GGOEGAPL05...  \n",
       "4    9182176,GGOEAAEJ028213,9182177,GGOEAAEJ028215,...  \n",
       "..                                                 ...  \n",
       "488                             GGOEGBMJ013399,9180766  \n",
       "489                             GGOEGHPL003214,9181575  \n",
       "490                            GGOEYFKQ020699,10 51122  \n",
       "491                               GGOEGAAX0042,9182706  \n",
       "492                             GGOEGESQ016799,9180811  \n",
       "\n",
       "[493 rows x 3 columns]"
      ]
     },
     "execution_count": 9,
     "metadata": {},
     "output_type": "execute_result"
    }
   ],
   "source": [
    "%%bigquery\n",
    "SELECT\n",
    "  v2ProductName,\n",
    "  COUNT(DISTINCT productSKU) AS SKU_count,\n",
    "  STRING_AGG(DISTINCT productSKU LIMIT 5) AS SKU\n",
    "FROM `data-to-insights.ecommerce.all_sessions_raw`\n",
    "  WHERE productSKU IS NOT NULL\n",
    "  GROUP BY v2ProductName\n",
    "  HAVING SKU_count > 1\n",
    "  ORDER BY SKU_count DESC"
   ]
  },
  {
   "cell_type": "markdown",
   "metadata": {},
   "source": [
    "Some product names have more than one SKUs. The ecommerce website shows that each product name may have multiple options like size, color, etc. - which are sold as separate SKUs.\n",
    "\n",
    "What about 1 SKU? Should it be allowed to belong to more than 1 product name? lets check it out."
   ]
  },
  {
   "cell_type": "code",
   "execution_count": 12,
   "metadata": {},
   "outputs": [
    {
     "data": {
      "application/vnd.jupyter.widget-view+json": {
       "model_id": "d94c7a950c9e48278e8eabe90ae2847b",
       "version_major": 2,
       "version_minor": 0
      },
      "text/plain": [
       "Query is running:   0%|          |"
      ]
     },
     "metadata": {},
     "output_type": "display_data"
    },
    {
     "data": {
      "application/vnd.jupyter.widget-view+json": {
       "model_id": "214d4ac5dad641d1ab58fbbc57952ab5",
       "version_major": 2,
       "version_minor": 0
      },
      "text/plain": [
       "Downloading:   0%|          |"
      ]
     },
     "metadata": {},
     "output_type": "display_data"
    },
    {
     "data": {
      "text/html": [
       "<div>\n",
       "<style scoped>\n",
       "    .dataframe tbody tr th:only-of-type {\n",
       "        vertical-align: middle;\n",
       "    }\n",
       "\n",
       "    .dataframe tbody tr th {\n",
       "        vertical-align: top;\n",
       "    }\n",
       "\n",
       "    .dataframe thead th {\n",
       "        text-align: right;\n",
       "    }\n",
       "</style>\n",
       "<table border=\"1\" class=\"dataframe\">\n",
       "  <thead>\n",
       "    <tr style=\"text-align: right;\">\n",
       "      <th></th>\n",
       "      <th>productSKU</th>\n",
       "      <th>product_count</th>\n",
       "      <th>product_name</th>\n",
       "    </tr>\n",
       "  </thead>\n",
       "  <tbody>\n",
       "    <tr>\n",
       "      <th>0</th>\n",
       "      <td>GGOEGAAX0098</td>\n",
       "      <td>3</td>\n",
       "      <td>7&amp;quot; Dog Frisbee,Google 7-inch Dog Flying D...</td>\n",
       "    </tr>\n",
       "    <tr>\n",
       "      <th>1</th>\n",
       "      <td>GGOEGBMC056599</td>\n",
       "      <td>3</td>\n",
       "      <td>Waterproof Gear Bag,Waterpoof Gear Bag,Google ...</td>\n",
       "    </tr>\n",
       "    <tr>\n",
       "      <th>2</th>\n",
       "      <td>GGOEGCLB020832</td>\n",
       "      <td>3</td>\n",
       "      <td>Set of 3 Nested Travel Cases,BRIGHTtravels Set...</td>\n",
       "    </tr>\n",
       "    <tr>\n",
       "      <th>3</th>\n",
       "      <td>GGOEGEVA022399</td>\n",
       "      <td>3</td>\n",
       "      <td>Micro Wireless Earbud,Micro Wireless Earbuds,A...</td>\n",
       "    </tr>\n",
       "    <tr>\n",
       "      <th>4</th>\n",
       "      <td>GGOENEBJ079499</td>\n",
       "      <td>3</td>\n",
       "      <td>Nest® Learning Thermostat 3rd Gen-USA,Nest® Le...</td>\n",
       "    </tr>\n",
       "    <tr>\n",
       "      <th>...</th>\n",
       "      <td>...</td>\n",
       "      <td>...</td>\n",
       "      <td>...</td>\n",
       "    </tr>\n",
       "    <tr>\n",
       "      <th>342</th>\n",
       "      <td>9182768</td>\n",
       "      <td>2</td>\n",
       "      <td>Google Women's Short Sleeve Performance Tee Bl...</td>\n",
       "    </tr>\n",
       "    <tr>\n",
       "      <th>343</th>\n",
       "      <td>9180763</td>\n",
       "      <td>2</td>\n",
       "      <td>Collapsible Shopping Bag,Latitudes Foldaway Sh...</td>\n",
       "    </tr>\n",
       "    <tr>\n",
       "      <th>344</th>\n",
       "      <td>9182769</td>\n",
       "      <td>2</td>\n",
       "      <td>Google Women's Short Sleeve Performance Tee Pe...</td>\n",
       "    </tr>\n",
       "    <tr>\n",
       "      <th>345</th>\n",
       "      <td>9182747</td>\n",
       "      <td>2</td>\n",
       "      <td>Google Men's Short Sleeve Performance Badge Te...</td>\n",
       "    </tr>\n",
       "    <tr>\n",
       "      <th>346</th>\n",
       "      <td>9182749</td>\n",
       "      <td>2</td>\n",
       "      <td>Google Men's Short Sleeve Performance Badge Te...</td>\n",
       "    </tr>\n",
       "  </tbody>\n",
       "</table>\n",
       "<p>347 rows × 3 columns</p>\n",
       "</div>"
      ],
      "text/plain": [
       "         productSKU  product_count  \\\n",
       "0      GGOEGAAX0098              3   \n",
       "1    GGOEGBMC056599              3   \n",
       "2    GGOEGCLB020832              3   \n",
       "3    GGOEGEVA022399              3   \n",
       "4    GGOENEBJ079499              3   \n",
       "..              ...            ...   \n",
       "342         9182768              2   \n",
       "343         9180763              2   \n",
       "344         9182769              2   \n",
       "345         9182747              2   \n",
       "346         9182749              2   \n",
       "\n",
       "                                          product_name  \n",
       "0    7&quot; Dog Frisbee,Google 7-inch Dog Flying D...  \n",
       "1    Waterproof Gear Bag,Waterpoof Gear Bag,Google ...  \n",
       "2    Set of 3 Nested Travel Cases,BRIGHTtravels Set...  \n",
       "3    Micro Wireless Earbud,Micro Wireless Earbuds,A...  \n",
       "4    Nest® Learning Thermostat 3rd Gen-USA,Nest® Le...  \n",
       "..                                                 ...  \n",
       "342  Google Women's Short Sleeve Performance Tee Bl...  \n",
       "343  Collapsible Shopping Bag,Latitudes Foldaway Sh...  \n",
       "344  Google Women's Short Sleeve Performance Tee Pe...  \n",
       "345  Google Men's Short Sleeve Performance Badge Te...  \n",
       "346  Google Men's Short Sleeve Performance Badge Te...  \n",
       "\n",
       "[347 rows x 3 columns]"
      ]
     },
     "execution_count": 12,
     "metadata": {},
     "output_type": "execute_result"
    }
   ],
   "source": [
    "%%bigquery\n",
    "SELECT\n",
    "  productSKU,\n",
    "  COUNT(DISTINCT v2ProductName) AS product_count,\n",
    "  STRING_AGG(DISTINCT v2ProductName LIMIT 5) AS product_name\n",
    "FROM `data-to-insights.ecommerce.all_sessions_raw`\n",
    "  WHERE v2ProductName IS NOT NULL\n",
    "  GROUP BY productSKU\n",
    "  HAVING product_count > 1\n",
    "  ORDER BY product_count DESC"
   ]
  },
  {
   "cell_type": "markdown",
   "metadata": {},
   "source": [
    "The SKU can have more than one product name. Most of product name (with the same SKU) are similar but not exactly the same. We can infer that the relationship between product name and SKU is many-to-many."
   ]
  },
  {
   "cell_type": "markdown",
   "metadata": {},
   "source": [
    "### 4. Pitfall: Non-Unique Key\n",
    "\n",
    "A SKU is designed to uniquely identify as one product. Having a non-unique key can cause serious data issues. We will se later.\n",
    "\n",
    "Identify the product names for the SKU `GGOEGPJC019099`"
   ]
  },
  {
   "cell_type": "code",
   "execution_count": 13,
   "metadata": {},
   "outputs": [
    {
     "data": {
      "application/vnd.jupyter.widget-view+json": {
       "model_id": "f59e8411352b4c8d8ec79cb1b03736d2",
       "version_major": 2,
       "version_minor": 0
      },
      "text/plain": [
       "Query is running:   0%|          |"
      ]
     },
     "metadata": {},
     "output_type": "display_data"
    },
    {
     "data": {
      "application/vnd.jupyter.widget-view+json": {
       "model_id": "8fdeb1fdfdca4c919956278111484dfa",
       "version_major": 2,
       "version_minor": 0
      },
      "text/plain": [
       "Downloading:   0%|          |"
      ]
     },
     "metadata": {},
     "output_type": "display_data"
    },
    {
     "data": {
      "text/html": [
       "<div>\n",
       "<style scoped>\n",
       "    .dataframe tbody tr th:only-of-type {\n",
       "        vertical-align: middle;\n",
       "    }\n",
       "\n",
       "    .dataframe tbody tr th {\n",
       "        vertical-align: top;\n",
       "    }\n",
       "\n",
       "    .dataframe thead th {\n",
       "        text-align: right;\n",
       "    }\n",
       "</style>\n",
       "<table border=\"1\" class=\"dataframe\">\n",
       "  <thead>\n",
       "    <tr style=\"text-align: right;\">\n",
       "      <th></th>\n",
       "      <th>v2ProductName</th>\n",
       "      <th>productSKU</th>\n",
       "    </tr>\n",
       "  </thead>\n",
       "  <tbody>\n",
       "    <tr>\n",
       "      <th>0</th>\n",
       "      <td>7&amp;quot; Dog Frisbee</td>\n",
       "      <td>GGOEGPJC019099</td>\n",
       "    </tr>\n",
       "    <tr>\n",
       "      <th>1</th>\n",
       "      <td>7\" Dog Frisbee</td>\n",
       "      <td>GGOEGPJC019099</td>\n",
       "    </tr>\n",
       "    <tr>\n",
       "      <th>2</th>\n",
       "      <td>Google 7-inch Dog Flying Disc Blue</td>\n",
       "      <td>GGOEGPJC019099</td>\n",
       "    </tr>\n",
       "  </tbody>\n",
       "</table>\n",
       "</div>"
      ],
      "text/plain": [
       "                        v2ProductName      productSKU\n",
       "0                 7&quot; Dog Frisbee  GGOEGPJC019099\n",
       "1                      7\" Dog Frisbee  GGOEGPJC019099\n",
       "2  Google 7-inch Dog Flying Disc Blue  GGOEGPJC019099"
      ]
     },
     "execution_count": 13,
     "metadata": {},
     "output_type": "execute_result"
    }
   ],
   "source": [
    "%%bigquery\n",
    "SELECT DISTINCT\n",
    "  v2ProductName,\n",
    "  productSKU\n",
    "FROM `data-to-insights.ecommerce.all_sessions_raw`\n",
    "WHERE productSKU = 'GGOEGPJC019099'"
   ]
  },
  {
   "cell_type": "markdown",
   "metadata": {},
   "source": [
    "We notice that the product names are mostly the same except for a few characters.\n",
    "\n",
    "Explore the product inventory table to see if the SKU is unique."
   ]
  },
  {
   "cell_type": "code",
   "execution_count": 14,
   "metadata": {},
   "outputs": [
    {
     "data": {
      "application/vnd.jupyter.widget-view+json": {
       "model_id": "6fc1e721608f43658c72cc4a1beeae38",
       "version_major": 2,
       "version_minor": 0
      },
      "text/plain": [
       "Query is running:   0%|          |"
      ]
     },
     "metadata": {},
     "output_type": "display_data"
    },
    {
     "data": {
      "application/vnd.jupyter.widget-view+json": {
       "model_id": "b40951fd163d40a68a97c636fd8eea29",
       "version_major": 2,
       "version_minor": 0
      },
      "text/plain": [
       "Downloading:   0%|          |"
      ]
     },
     "metadata": {},
     "output_type": "display_data"
    },
    {
     "data": {
      "text/html": [
       "<div>\n",
       "<style scoped>\n",
       "    .dataframe tbody tr th:only-of-type {\n",
       "        vertical-align: middle;\n",
       "    }\n",
       "\n",
       "    .dataframe tbody tr th {\n",
       "        vertical-align: top;\n",
       "    }\n",
       "\n",
       "    .dataframe thead th {\n",
       "        text-align: right;\n",
       "    }\n",
       "</style>\n",
       "<table border=\"1\" class=\"dataframe\">\n",
       "  <thead>\n",
       "    <tr style=\"text-align: right;\">\n",
       "      <th></th>\n",
       "      <th>SKU</th>\n",
       "      <th>name</th>\n",
       "      <th>stockLevel</th>\n",
       "    </tr>\n",
       "  </thead>\n",
       "  <tbody>\n",
       "    <tr>\n",
       "      <th>0</th>\n",
       "      <td>GGOEGPJC019099</td>\n",
       "      <td>7\" Dog Frisbee</td>\n",
       "      <td>154</td>\n",
       "    </tr>\n",
       "  </tbody>\n",
       "</table>\n",
       "</div>"
      ],
      "text/plain": [
       "              SKU            name  stockLevel\n",
       "0  GGOEGPJC019099  7\" Dog Frisbee         154"
      ]
     },
     "execution_count": 14,
     "metadata": {},
     "output_type": "execute_result"
    }
   ],
   "source": [
    "%%bigquery\n",
    "SELECT\n",
    "  SKU,\n",
    "  name,\n",
    "  stockLevel\n",
    "FROM `data-to-insights.ecommerce.products`\n",
    "WHERE SKU = 'GGOEGPJC019099'"
   ]
  },
  {
   "cell_type": "markdown",
   "metadata": {},
   "source": [
    "In the product inventory table, the SKU is unique because it's only return 1 record.  \n",
    "\n",
    "Now try to join the product website and the product inventory table, so we can have the inventory stock level associated with each product on the website."
   ]
  },
  {
   "cell_type": "code",
   "execution_count": 15,
   "metadata": {},
   "outputs": [
    {
     "data": {
      "application/vnd.jupyter.widget-view+json": {
       "model_id": "3d1d7ab0f6bb4ad7a1db2ecc010d403d",
       "version_major": 2,
       "version_minor": 0
      },
      "text/plain": [
       "Query is running:   0%|          |"
      ]
     },
     "metadata": {},
     "output_type": "display_data"
    },
    {
     "data": {
      "application/vnd.jupyter.widget-view+json": {
       "model_id": "02732d6711bb4fc399dd2e27172e1ff3",
       "version_major": 2,
       "version_minor": 0
      },
      "text/plain": [
       "Downloading:   0%|          |"
      ]
     },
     "metadata": {},
     "output_type": "display_data"
    },
    {
     "data": {
      "text/html": [
       "<div>\n",
       "<style scoped>\n",
       "    .dataframe tbody tr th:only-of-type {\n",
       "        vertical-align: middle;\n",
       "    }\n",
       "\n",
       "    .dataframe tbody tr th {\n",
       "        vertical-align: top;\n",
       "    }\n",
       "\n",
       "    .dataframe thead th {\n",
       "        text-align: right;\n",
       "    }\n",
       "</style>\n",
       "<table border=\"1\" class=\"dataframe\">\n",
       "  <thead>\n",
       "    <tr style=\"text-align: right;\">\n",
       "      <th></th>\n",
       "      <th>v2ProductName</th>\n",
       "      <th>productSKU</th>\n",
       "      <th>stockLevel</th>\n",
       "    </tr>\n",
       "  </thead>\n",
       "  <tbody>\n",
       "    <tr>\n",
       "      <th>0</th>\n",
       "      <td>Google 7-inch Dog Flying Disc Blue</td>\n",
       "      <td>GGOEGPJC019099</td>\n",
       "      <td>154</td>\n",
       "    </tr>\n",
       "    <tr>\n",
       "      <th>1</th>\n",
       "      <td>7\" Dog Frisbee</td>\n",
       "      <td>GGOEGPJC019099</td>\n",
       "      <td>154</td>\n",
       "    </tr>\n",
       "    <tr>\n",
       "      <th>2</th>\n",
       "      <td>7&amp;quot; Dog Frisbee</td>\n",
       "      <td>GGOEGPJC019099</td>\n",
       "      <td>154</td>\n",
       "    </tr>\n",
       "  </tbody>\n",
       "</table>\n",
       "</div>"
      ],
      "text/plain": [
       "                        v2ProductName      productSKU  stockLevel\n",
       "0  Google 7-inch Dog Flying Disc Blue  GGOEGPJC019099         154\n",
       "1                      7\" Dog Frisbee  GGOEGPJC019099         154\n",
       "2                 7&quot; Dog Frisbee  GGOEGPJC019099         154"
      ]
     },
     "execution_count": 15,
     "metadata": {},
     "output_type": "execute_result"
    }
   ],
   "source": [
    "%%bigquery\n",
    "SELECT DISTINCT\n",
    "  website.v2ProductName,\n",
    "  website.productSKU,\n",
    "  inventory.stockLevel\n",
    "FROM `data-to-insights.ecommerce.all_sessions_raw` AS website\n",
    "JOIN `data-to-insights.ecommerce.products` AS inventory\n",
    "  ON website.productSKU = inventory.SKU\n",
    "  WHERE productSKU = 'GGOEGPJC019099'"
   ]
  },
  {
   "cell_type": "markdown",
   "metadata": {},
   "source": [
    "After joining the table, we have the inventory stock levels for the product but the stockLevel is showing three times.\n",
    "\n",
    "Sum the inventory available by product."
   ]
  },
  {
   "cell_type": "code",
   "execution_count": 16,
   "metadata": {},
   "outputs": [
    {
     "data": {
      "application/vnd.jupyter.widget-view+json": {
       "model_id": "6f53b87e9a864e68a6fb55999e9e0890",
       "version_major": 2,
       "version_minor": 0
      },
      "text/plain": [
       "Query is running:   0%|          |"
      ]
     },
     "metadata": {},
     "output_type": "display_data"
    },
    {
     "data": {
      "application/vnd.jupyter.widget-view+json": {
       "model_id": "764485928ac34a1699aae666a6f76447",
       "version_major": 2,
       "version_minor": 0
      },
      "text/plain": [
       "Downloading:   0%|          |"
      ]
     },
     "metadata": {},
     "output_type": "display_data"
    },
    {
     "data": {
      "text/html": [
       "<div>\n",
       "<style scoped>\n",
       "    .dataframe tbody tr th:only-of-type {\n",
       "        vertical-align: middle;\n",
       "    }\n",
       "\n",
       "    .dataframe tbody tr th {\n",
       "        vertical-align: top;\n",
       "    }\n",
       "\n",
       "    .dataframe thead th {\n",
       "        text-align: right;\n",
       "    }\n",
       "</style>\n",
       "<table border=\"1\" class=\"dataframe\">\n",
       "  <thead>\n",
       "    <tr style=\"text-align: right;\">\n",
       "      <th></th>\n",
       "      <th>productSKU</th>\n",
       "      <th>total_inventory</th>\n",
       "    </tr>\n",
       "  </thead>\n",
       "  <tbody>\n",
       "    <tr>\n",
       "      <th>0</th>\n",
       "      <td>GGOEGPJC019099</td>\n",
       "      <td>462</td>\n",
       "    </tr>\n",
       "  </tbody>\n",
       "</table>\n",
       "</div>"
      ],
      "text/plain": [
       "       productSKU  total_inventory\n",
       "0  GGOEGPJC019099              462"
      ]
     },
     "execution_count": 16,
     "metadata": {},
     "output_type": "execute_result"
    }
   ],
   "source": [
    "%%bigquery\n",
    "WITH inventory_per_sku AS (\n",
    "  SELECT DISTINCT\n",
    "    website.v2ProductName,\n",
    "    website.productSKU,\n",
    "    inventory.stockLevel\n",
    "  FROM `data-to-insights.ecommerce.all_sessions_raw` AS website\n",
    "  JOIN `data-to-insights.ecommerce.products` AS inventory\n",
    "    ON website.productSKU = inventory.SKU\n",
    "    WHERE productSKU = 'GGOEGPJC019099'\n",
    ")\n",
    "SELECT\n",
    "  productSKU,\n",
    "  SUM(stockLevel) AS total_inventory\n",
    "FROM inventory_per_sku\n",
    "GROUP BY productSKU"
   ]
  },
  {
   "cell_type": "markdown",
   "metadata": {},
   "source": [
    "The `GGOEGPJC019099` SKU now showing 462 on total inventory. It is three times from the actual stock. This is a mistake."
   ]
  },
  {
   "cell_type": "markdown",
   "metadata": {},
   "source": [
    "### 5. Join Pitfall Solution\n",
    "\n",
    "To solve previous problem, we need to select only on the distinct SKU or gather all the possible product names into an array. We use another SKU for the solution."
   ]
  },
  {
   "cell_type": "code",
   "execution_count": 17,
   "metadata": {},
   "outputs": [
    {
     "data": {
      "application/vnd.jupyter.widget-view+json": {
       "model_id": "8644dd2c738345a084ea75c54fc58db8",
       "version_major": 2,
       "version_minor": 0
      },
      "text/plain": [
       "Query is running:   0%|          |"
      ]
     },
     "metadata": {},
     "output_type": "display_data"
    },
    {
     "data": {
      "application/vnd.jupyter.widget-view+json": {
       "model_id": "5d9a683b9eac419797d76d408cdeadbe",
       "version_major": 2,
       "version_minor": 0
      },
      "text/plain": [
       "Downloading:   0%|          |"
      ]
     },
     "metadata": {},
     "output_type": "display_data"
    },
    {
     "data": {
      "text/html": [
       "<div>\n",
       "<style scoped>\n",
       "    .dataframe tbody tr th:only-of-type {\n",
       "        vertical-align: middle;\n",
       "    }\n",
       "\n",
       "    .dataframe tbody tr th {\n",
       "        vertical-align: top;\n",
       "    }\n",
       "\n",
       "    .dataframe thead th {\n",
       "        text-align: right;\n",
       "    }\n",
       "</style>\n",
       "<table border=\"1\" class=\"dataframe\">\n",
       "  <thead>\n",
       "    <tr style=\"text-align: right;\">\n",
       "      <th></th>\n",
       "      <th>productSKU</th>\n",
       "      <th>push_all_names_into_array</th>\n",
       "    </tr>\n",
       "  </thead>\n",
       "  <tbody>\n",
       "    <tr>\n",
       "      <th>0</th>\n",
       "      <td>GGOEGAAX0098</td>\n",
       "      <td>[7\" Dog Frisbee, 7&amp;quot; Dog Frisbee, Google 7...</td>\n",
       "    </tr>\n",
       "  </tbody>\n",
       "</table>\n",
       "</div>"
      ],
      "text/plain": [
       "     productSKU                          push_all_names_into_array\n",
       "0  GGOEGAAX0098  [7\" Dog Frisbee, 7&quot; Dog Frisbee, Google 7..."
      ]
     },
     "execution_count": 17,
     "metadata": {},
     "output_type": "execute_result"
    }
   ],
   "source": [
    "%%bigquery\n",
    "SELECT\n",
    "  productSKU,\n",
    "  ARRAY_AGG(DISTINCT v2ProductName) AS push_all_names_into_array\n",
    "FROM `data-to-insights.ecommerce.all_sessions_raw`\n",
    "WHERE productSKU = 'GGOEGAAX0098'\n",
    "GROUP BY productSKU"
   ]
  },
  {
   "cell_type": "markdown",
   "metadata": {},
   "source": [
    "Instead of having a row for every product name, we only have a row for each unique SKU.\n",
    "\n",
    "We can limit the array, if we want to deduplicate the product name."
   ]
  },
  {
   "cell_type": "code",
   "execution_count": 18,
   "metadata": {},
   "outputs": [
    {
     "data": {
      "application/vnd.jupyter.widget-view+json": {
       "model_id": "f2f7f38b222349928ddc669c1219e7f3",
       "version_major": 2,
       "version_minor": 0
      },
      "text/plain": [
       "Query is running:   0%|          |"
      ]
     },
     "metadata": {},
     "output_type": "display_data"
    },
    {
     "data": {
      "application/vnd.jupyter.widget-view+json": {
       "model_id": "ddfb14e950b344d18a7796ac61b6969f",
       "version_major": 2,
       "version_minor": 0
      },
      "text/plain": [
       "Downloading:   0%|          |"
      ]
     },
     "metadata": {},
     "output_type": "display_data"
    },
    {
     "data": {
      "text/html": [
       "<div>\n",
       "<style scoped>\n",
       "    .dataframe tbody tr th:only-of-type {\n",
       "        vertical-align: middle;\n",
       "    }\n",
       "\n",
       "    .dataframe tbody tr th {\n",
       "        vertical-align: top;\n",
       "    }\n",
       "\n",
       "    .dataframe thead th {\n",
       "        text-align: right;\n",
       "    }\n",
       "</style>\n",
       "<table border=\"1\" class=\"dataframe\">\n",
       "  <thead>\n",
       "    <tr style=\"text-align: right;\">\n",
       "      <th></th>\n",
       "      <th>productSKU</th>\n",
       "      <th>push_all_names_into_array</th>\n",
       "    </tr>\n",
       "  </thead>\n",
       "  <tbody>\n",
       "    <tr>\n",
       "      <th>0</th>\n",
       "      <td>GGOEGAAX0098</td>\n",
       "      <td>[7\" Dog Frisbee]</td>\n",
       "    </tr>\n",
       "  </tbody>\n",
       "</table>\n",
       "</div>"
      ],
      "text/plain": [
       "     productSKU push_all_names_into_array\n",
       "0  GGOEGAAX0098          [7\" Dog Frisbee]"
      ]
     },
     "execution_count": 18,
     "metadata": {},
     "output_type": "execute_result"
    }
   ],
   "source": [
    "%%bigquery\n",
    "SELECT\n",
    "  productSKU,\n",
    "  ARRAY_AGG(DISTINCT v2ProductName LIMIT 1) AS push_all_names_into_array\n",
    "FROM `data-to-insights.ecommerce.all_sessions_raw`\n",
    "WHERE productSKU = 'GGOEGAAX0098'\n",
    "GROUP BY productSKU"
   ]
  },
  {
   "cell_type": "markdown",
   "metadata": {},
   "source": [
    "After create the SKU become unique, now we can join to the product inventory table."
   ]
  },
  {
   "cell_type": "code",
   "execution_count": 19,
   "metadata": {},
   "outputs": [
    {
     "data": {
      "application/vnd.jupyter.widget-view+json": {
       "model_id": "9e019847a08e4f4fbab310382ed12e99",
       "version_major": 2,
       "version_minor": 0
      },
      "text/plain": [
       "Query is running:   0%|          |"
      ]
     },
     "metadata": {},
     "output_type": "display_data"
    },
    {
     "data": {
      "application/vnd.jupyter.widget-view+json": {
       "model_id": "d6db04dc87204a0fa9ea8d709a29b39c",
       "version_major": 2,
       "version_minor": 0
      },
      "text/plain": [
       "Downloading:   0%|          |"
      ]
     },
     "metadata": {},
     "output_type": "display_data"
    },
    {
     "data": {
      "text/html": [
       "<div>\n",
       "<style scoped>\n",
       "    .dataframe tbody tr th:only-of-type {\n",
       "        vertical-align: middle;\n",
       "    }\n",
       "\n",
       "    .dataframe tbody tr th {\n",
       "        vertical-align: top;\n",
       "    }\n",
       "\n",
       "    .dataframe thead th {\n",
       "        text-align: right;\n",
       "    }\n",
       "</style>\n",
       "<table border=\"1\" class=\"dataframe\">\n",
       "  <thead>\n",
       "    <tr style=\"text-align: right;\">\n",
       "      <th></th>\n",
       "      <th>productSKU</th>\n",
       "    </tr>\n",
       "  </thead>\n",
       "  <tbody>\n",
       "    <tr>\n",
       "      <th>0</th>\n",
       "      <td>9180781</td>\n",
       "    </tr>\n",
       "    <tr>\n",
       "      <th>1</th>\n",
       "      <td>9180824</td>\n",
       "    </tr>\n",
       "    <tr>\n",
       "      <th>2</th>\n",
       "      <td>9182569</td>\n",
       "    </tr>\n",
       "    <tr>\n",
       "      <th>3</th>\n",
       "      <td>9182575</td>\n",
       "    </tr>\n",
       "    <tr>\n",
       "      <th>4</th>\n",
       "      <td>9182593</td>\n",
       "    </tr>\n",
       "    <tr>\n",
       "      <th>...</th>\n",
       "      <td>...</td>\n",
       "    </tr>\n",
       "    <tr>\n",
       "      <th>1085</th>\n",
       "      <td>GGOEYAEJ029616</td>\n",
       "    </tr>\n",
       "    <tr>\n",
       "      <th>1086</th>\n",
       "      <td>GGOEAAEJ033417</td>\n",
       "    </tr>\n",
       "    <tr>\n",
       "      <th>1087</th>\n",
       "      <td>GGOEAAEB028316</td>\n",
       "    </tr>\n",
       "    <tr>\n",
       "      <th>1088</th>\n",
       "      <td>GGOEAAEJ028215</td>\n",
       "    </tr>\n",
       "    <tr>\n",
       "      <th>1089</th>\n",
       "      <td>GGOEAAEJ028216</td>\n",
       "    </tr>\n",
       "  </tbody>\n",
       "</table>\n",
       "<p>1090 rows × 1 columns</p>\n",
       "</div>"
      ],
      "text/plain": [
       "          productSKU\n",
       "0            9180781\n",
       "1            9180824\n",
       "2            9182569\n",
       "3            9182575\n",
       "4            9182593\n",
       "...              ...\n",
       "1085  GGOEYAEJ029616\n",
       "1086  GGOEAAEJ033417\n",
       "1087  GGOEAAEB028316\n",
       "1088  GGOEAAEJ028215\n",
       "1089  GGOEAAEJ028216\n",
       "\n",
       "[1090 rows x 1 columns]"
      ]
     },
     "execution_count": 19,
     "metadata": {},
     "output_type": "execute_result"
    }
   ],
   "source": [
    "%%bigquery\n",
    "SELECT DISTINCT\n",
    "website.productSKU\n",
    "FROM `data-to-insights.ecommerce.all_sessions_raw` AS website\n",
    "JOIN `data-to-insights.ecommerce.products` AS inventory\n",
    "ON website.productSKU = inventory.SKU"
   ]
  },
  {
   "cell_type": "markdown",
   "metadata": {},
   "source": [
    "With the previous query, it just returned 1090 records. It should be 1909 records, 819 SKUs were lost after joining the table.\n",
    "\n",
    "Try another query."
   ]
  },
  {
   "cell_type": "code",
   "execution_count": 20,
   "metadata": {},
   "outputs": [
    {
     "data": {
      "application/vnd.jupyter.widget-view+json": {
       "model_id": "03c6b98d168c4c12a6de512e1e052666",
       "version_major": 2,
       "version_minor": 0
      },
      "text/plain": [
       "Query is running:   0%|          |"
      ]
     },
     "metadata": {},
     "output_type": "display_data"
    },
    {
     "data": {
      "application/vnd.jupyter.widget-view+json": {
       "model_id": "deecca82b516462fb61be1fa127ecd6a",
       "version_major": 2,
       "version_minor": 0
      },
      "text/plain": [
       "Downloading:   0%|          |"
      ]
     },
     "metadata": {},
     "output_type": "display_data"
    },
    {
     "data": {
      "text/html": [
       "<div>\n",
       "<style scoped>\n",
       "    .dataframe tbody tr th:only-of-type {\n",
       "        vertical-align: middle;\n",
       "    }\n",
       "\n",
       "    .dataframe tbody tr th {\n",
       "        vertical-align: top;\n",
       "    }\n",
       "\n",
       "    .dataframe thead th {\n",
       "        text-align: right;\n",
       "    }\n",
       "</style>\n",
       "<table border=\"1\" class=\"dataframe\">\n",
       "  <thead>\n",
       "    <tr style=\"text-align: right;\">\n",
       "      <th></th>\n",
       "      <th>website_SKU</th>\n",
       "      <th>inventory_SKU</th>\n",
       "    </tr>\n",
       "  </thead>\n",
       "  <tbody>\n",
       "    <tr>\n",
       "      <th>0</th>\n",
       "      <td>9180793</td>\n",
       "      <td>9180793</td>\n",
       "    </tr>\n",
       "    <tr>\n",
       "      <th>1</th>\n",
       "      <td>9180824</td>\n",
       "      <td>9180824</td>\n",
       "    </tr>\n",
       "    <tr>\n",
       "      <th>2</th>\n",
       "      <td>9181019</td>\n",
       "      <td>9181019</td>\n",
       "    </tr>\n",
       "    <tr>\n",
       "      <th>3</th>\n",
       "      <td>9182569</td>\n",
       "      <td>9182569</td>\n",
       "    </tr>\n",
       "    <tr>\n",
       "      <th>4</th>\n",
       "      <td>9182593</td>\n",
       "      <td>9182593</td>\n",
       "    </tr>\n",
       "    <tr>\n",
       "      <th>...</th>\n",
       "      <td>...</td>\n",
       "      <td>...</td>\n",
       "    </tr>\n",
       "    <tr>\n",
       "      <th>1085</th>\n",
       "      <td>GGOEGAWH061354</td>\n",
       "      <td>GGOEGAWH061354</td>\n",
       "    </tr>\n",
       "    <tr>\n",
       "      <th>1086</th>\n",
       "      <td>GGOEGATB060216</td>\n",
       "      <td>GGOEGATB060216</td>\n",
       "    </tr>\n",
       "    <tr>\n",
       "      <th>1087</th>\n",
       "      <td>GGOEYAEJ029017</td>\n",
       "      <td>GGOEYAEJ029017</td>\n",
       "    </tr>\n",
       "    <tr>\n",
       "      <th>1088</th>\n",
       "      <td>GGOEGAPC058812</td>\n",
       "      <td>GGOEGAPC058812</td>\n",
       "    </tr>\n",
       "    <tr>\n",
       "      <th>1089</th>\n",
       "      <td>GGOEYAEJ029617</td>\n",
       "      <td>GGOEYAEJ029617</td>\n",
       "    </tr>\n",
       "  </tbody>\n",
       "</table>\n",
       "<p>1090 rows × 2 columns</p>\n",
       "</div>"
      ],
      "text/plain": [
       "         website_SKU   inventory_SKU\n",
       "0            9180793         9180793\n",
       "1            9180824         9180824\n",
       "2            9181019         9181019\n",
       "3            9182569         9182569\n",
       "4            9182593         9182593\n",
       "...              ...             ...\n",
       "1085  GGOEGAWH061354  GGOEGAWH061354\n",
       "1086  GGOEGATB060216  GGOEGATB060216\n",
       "1087  GGOEYAEJ029017  GGOEYAEJ029017\n",
       "1088  GGOEGAPC058812  GGOEGAPC058812\n",
       "1089  GGOEYAEJ029617  GGOEYAEJ029617\n",
       "\n",
       "[1090 rows x 2 columns]"
      ]
     },
     "execution_count": 20,
     "metadata": {},
     "output_type": "execute_result"
    }
   ],
   "source": [
    "%%bigquery\n",
    "SELECT DISTINCT\n",
    "website.productSKU AS website_SKU,\n",
    "inventory.SKU AS inventory_SKU\n",
    "FROM `data-to-insights.ecommerce.all_sessions_raw` AS website\n",
    "JOIN `data-to-insights.ecommerce.products` AS inventory\n",
    "ON website.productSKU = inventory.SKU"
   ]
  },
  {
   "cell_type": "markdown",
   "metadata": {},
   "source": [
    "It appears the same results. Why this is happened? its because select the wrong join. The default JOIN type is an INNER JOIN which returns records only if there is an SKU match on both the left and the right tables that are joined.\n",
    "\n",
    "The possible solution is using LEFT JOIN."
   ]
  },
  {
   "cell_type": "code",
   "execution_count": 21,
   "metadata": {},
   "outputs": [
    {
     "data": {
      "application/vnd.jupyter.widget-view+json": {
       "model_id": "4b52278471814444bde9d9623db528e3",
       "version_major": 2,
       "version_minor": 0
      },
      "text/plain": [
       "Query is running:   0%|          |"
      ]
     },
     "metadata": {},
     "output_type": "display_data"
    },
    {
     "data": {
      "application/vnd.jupyter.widget-view+json": {
       "model_id": "3db2ea124b77405e85cc065d86f2f6f8",
       "version_major": 2,
       "version_minor": 0
      },
      "text/plain": [
       "Downloading:   0%|          |"
      ]
     },
     "metadata": {},
     "output_type": "display_data"
    },
    {
     "data": {
      "text/html": [
       "<div>\n",
       "<style scoped>\n",
       "    .dataframe tbody tr th:only-of-type {\n",
       "        vertical-align: middle;\n",
       "    }\n",
       "\n",
       "    .dataframe tbody tr th {\n",
       "        vertical-align: top;\n",
       "    }\n",
       "\n",
       "    .dataframe thead th {\n",
       "        text-align: right;\n",
       "    }\n",
       "</style>\n",
       "<table border=\"1\" class=\"dataframe\">\n",
       "  <thead>\n",
       "    <tr style=\"text-align: right;\">\n",
       "      <th></th>\n",
       "      <th>website_SKU</th>\n",
       "      <th>inventory_SKU</th>\n",
       "    </tr>\n",
       "  </thead>\n",
       "  <tbody>\n",
       "    <tr>\n",
       "      <th>0</th>\n",
       "      <td>9180750</td>\n",
       "      <td>None</td>\n",
       "    </tr>\n",
       "    <tr>\n",
       "      <th>1</th>\n",
       "      <td>9180833</td>\n",
       "      <td>9180833</td>\n",
       "    </tr>\n",
       "    <tr>\n",
       "      <th>2</th>\n",
       "      <td>9180838</td>\n",
       "      <td>9180838</td>\n",
       "    </tr>\n",
       "    <tr>\n",
       "      <th>3</th>\n",
       "      <td>9180842</td>\n",
       "      <td>None</td>\n",
       "    </tr>\n",
       "    <tr>\n",
       "      <th>4</th>\n",
       "      <td>9180844</td>\n",
       "      <td>9180844</td>\n",
       "    </tr>\n",
       "    <tr>\n",
       "      <th>...</th>\n",
       "      <td>...</td>\n",
       "      <td>...</td>\n",
       "    </tr>\n",
       "    <tr>\n",
       "      <th>1904</th>\n",
       "      <td>GGOEGAPL058516</td>\n",
       "      <td>None</td>\n",
       "    </tr>\n",
       "    <tr>\n",
       "      <th>1905</th>\n",
       "      <td>GGOEGAAC075815</td>\n",
       "      <td>None</td>\n",
       "    </tr>\n",
       "    <tr>\n",
       "      <th>1906</th>\n",
       "      <td>GGOEGAEJ028815</td>\n",
       "      <td>None</td>\n",
       "    </tr>\n",
       "    <tr>\n",
       "      <th>1907</th>\n",
       "      <td>10 14154</td>\n",
       "      <td>None</td>\n",
       "    </tr>\n",
       "    <tr>\n",
       "      <th>1908</th>\n",
       "      <td>10 14160</td>\n",
       "      <td>None</td>\n",
       "    </tr>\n",
       "  </tbody>\n",
       "</table>\n",
       "<p>1909 rows × 2 columns</p>\n",
       "</div>"
      ],
      "text/plain": [
       "         website_SKU inventory_SKU\n",
       "0            9180750          None\n",
       "1            9180833       9180833\n",
       "2            9180838       9180838\n",
       "3            9180842          None\n",
       "4            9180844       9180844\n",
       "...              ...           ...\n",
       "1904  GGOEGAPL058516          None\n",
       "1905  GGOEGAAC075815          None\n",
       "1906  GGOEGAEJ028815          None\n",
       "1907        10 14154          None\n",
       "1908        10 14160          None\n",
       "\n",
       "[1909 rows x 2 columns]"
      ]
     },
     "execution_count": 21,
     "metadata": {},
     "output_type": "execute_result"
    }
   ],
   "source": [
    "%%bigquery\n",
    "SELECT DISTINCT\n",
    "website.productSKU AS website_SKU,\n",
    "inventory.SKU AS inventory_SKU\n",
    "FROM `data-to-insights.ecommerce.all_sessions_raw` AS website\n",
    "LEFT JOIN `data-to-insights.ecommerce.products` AS inventory\n",
    "ON website.productSKU = inventory.SKU"
   ]
  },
  {
   "cell_type": "markdown",
   "metadata": {},
   "source": [
    "Let's check which SKU are missing from product inventory."
   ]
  },
  {
   "cell_type": "code",
   "execution_count": 22,
   "metadata": {},
   "outputs": [
    {
     "data": {
      "application/vnd.jupyter.widget-view+json": {
       "model_id": "4713fce304a54a908b12939a6029fb8d",
       "version_major": 2,
       "version_minor": 0
      },
      "text/plain": [
       "Query is running:   0%|          |"
      ]
     },
     "metadata": {},
     "output_type": "display_data"
    },
    {
     "data": {
      "application/vnd.jupyter.widget-view+json": {
       "model_id": "92741d0e6c674874abc6b576dbc938fc",
       "version_major": 2,
       "version_minor": 0
      },
      "text/plain": [
       "Downloading:   0%|          |"
      ]
     },
     "metadata": {},
     "output_type": "display_data"
    },
    {
     "data": {
      "text/html": [
       "<div>\n",
       "<style scoped>\n",
       "    .dataframe tbody tr th:only-of-type {\n",
       "        vertical-align: middle;\n",
       "    }\n",
       "\n",
       "    .dataframe tbody tr th {\n",
       "        vertical-align: top;\n",
       "    }\n",
       "\n",
       "    .dataframe thead th {\n",
       "        text-align: right;\n",
       "    }\n",
       "</style>\n",
       "<table border=\"1\" class=\"dataframe\">\n",
       "  <thead>\n",
       "    <tr style=\"text-align: right;\">\n",
       "      <th></th>\n",
       "      <th>website_SKU</th>\n",
       "      <th>inventory_SKU</th>\n",
       "    </tr>\n",
       "  </thead>\n",
       "  <tbody>\n",
       "    <tr>\n",
       "      <th>0</th>\n",
       "      <td>9182838</td>\n",
       "      <td>None</td>\n",
       "    </tr>\n",
       "    <tr>\n",
       "      <th>1</th>\n",
       "      <td>9183211</td>\n",
       "      <td>None</td>\n",
       "    </tr>\n",
       "    <tr>\n",
       "      <th>2</th>\n",
       "      <td>10 75152</td>\n",
       "      <td>None</td>\n",
       "    </tr>\n",
       "    <tr>\n",
       "      <th>3</th>\n",
       "      <td>GGOEGCGB022199</td>\n",
       "      <td>None</td>\n",
       "    </tr>\n",
       "    <tr>\n",
       "      <th>4</th>\n",
       "      <td>GGOEGBJR018199</td>\n",
       "      <td>None</td>\n",
       "    </tr>\n",
       "    <tr>\n",
       "      <th>...</th>\n",
       "      <td>...</td>\n",
       "      <td>...</td>\n",
       "    </tr>\n",
       "    <tr>\n",
       "      <th>814</th>\n",
       "      <td>10 75150</td>\n",
       "      <td>None</td>\n",
       "    </tr>\n",
       "    <tr>\n",
       "      <th>815</th>\n",
       "      <td>GGOEGAEJ030115</td>\n",
       "      <td>None</td>\n",
       "    </tr>\n",
       "    <tr>\n",
       "      <th>816</th>\n",
       "      <td>GGOEWAAJ083517</td>\n",
       "      <td>None</td>\n",
       "    </tr>\n",
       "    <tr>\n",
       "      <th>817</th>\n",
       "      <td>A12345</td>\n",
       "      <td>None</td>\n",
       "    </tr>\n",
       "    <tr>\n",
       "      <th>818</th>\n",
       "      <td>GGOEGATC060317</td>\n",
       "      <td>None</td>\n",
       "    </tr>\n",
       "  </tbody>\n",
       "</table>\n",
       "<p>819 rows × 2 columns</p>\n",
       "</div>"
      ],
      "text/plain": [
       "        website_SKU inventory_SKU\n",
       "0           9182838          None\n",
       "1           9183211          None\n",
       "2          10 75152          None\n",
       "3    GGOEGCGB022199          None\n",
       "4    GGOEGBJR018199          None\n",
       "..              ...           ...\n",
       "814        10 75150          None\n",
       "815  GGOEGAEJ030115          None\n",
       "816  GGOEWAAJ083517          None\n",
       "817          A12345          None\n",
       "818  GGOEGATC060317          None\n",
       "\n",
       "[819 rows x 2 columns]"
      ]
     },
     "execution_count": 22,
     "metadata": {},
     "output_type": "execute_result"
    }
   ],
   "source": [
    "%%bigquery\n",
    "SELECT DISTINCT\n",
    "website.productSKU AS website_SKU,\n",
    "inventory.SKU AS inventory_SKU\n",
    "FROM `data-to-insights.ecommerce.all_sessions_raw` AS website\n",
    "LEFT JOIN `data-to-insights.ecommerce.products` AS inventory\n",
    "ON website.productSKU = inventory.SKU\n",
    "WHERE inventory.SKU IS NULL"
   ]
  },
  {
   "cell_type": "markdown",
   "metadata": {},
   "source": [
    "From the previous results, confirm one of the missing SKU using the query below. "
   ]
  },
  {
   "cell_type": "code",
   "execution_count": 23,
   "metadata": {},
   "outputs": [
    {
     "data": {
      "application/vnd.jupyter.widget-view+json": {
       "model_id": "570a0d45ea46437caf9a8115d2f56ba7",
       "version_major": 2,
       "version_minor": 0
      },
      "text/plain": [
       "Query is running:   0%|          |"
      ]
     },
     "metadata": {},
     "output_type": "display_data"
    },
    {
     "data": {
      "application/vnd.jupyter.widget-view+json": {
       "model_id": "0b50fc08ce0e4f1faf9359f13ca81f7d",
       "version_major": 2,
       "version_minor": 0
      },
      "text/plain": [
       "Downloading: |          |"
      ]
     },
     "metadata": {},
     "output_type": "display_data"
    },
    {
     "data": {
      "text/html": [
       "<div>\n",
       "<style scoped>\n",
       "    .dataframe tbody tr th:only-of-type {\n",
       "        vertical-align: middle;\n",
       "    }\n",
       "\n",
       "    .dataframe tbody tr th {\n",
       "        vertical-align: top;\n",
       "    }\n",
       "\n",
       "    .dataframe thead th {\n",
       "        text-align: right;\n",
       "    }\n",
       "</style>\n",
       "<table border=\"1\" class=\"dataframe\">\n",
       "  <thead>\n",
       "    <tr style=\"text-align: right;\">\n",
       "      <th></th>\n",
       "      <th>SKU</th>\n",
       "      <th>name</th>\n",
       "      <th>orderedQuantity</th>\n",
       "      <th>stockLevel</th>\n",
       "      <th>restockingLeadTime</th>\n",
       "      <th>sentimentScore</th>\n",
       "      <th>sentimentMagnitude</th>\n",
       "    </tr>\n",
       "  </thead>\n",
       "  <tbody>\n",
       "  </tbody>\n",
       "</table>\n",
       "</div>"
      ],
      "text/plain": [
       "Empty DataFrame\n",
       "Columns: [SKU, name, orderedQuantity, stockLevel, restockingLeadTime, sentimentScore, sentimentMagnitude]\n",
       "Index: []"
      ]
     },
     "execution_count": 23,
     "metadata": {},
     "output_type": "execute_result"
    }
   ],
   "source": [
    "%%bigquery\n",
    "#standardSQL\n",
    "SELECT * FROM `data-to-insights.ecommerce.products`\n",
    "WHERE SKU = 'GGOEGATJ060517'"
   ]
  },
  {
   "cell_type": "markdown",
   "metadata": {},
   "source": [
    "Its happened because some SKUs could be digital products that don't store in warehouse inventory.\n",
    "\n",
    "What about the reverse situation? Are there any products in the product inventory table but missing from the product website? try the query to investigate it."
   ]
  },
  {
   "cell_type": "code",
   "execution_count": 24,
   "metadata": {},
   "outputs": [
    {
     "data": {
      "application/vnd.jupyter.widget-view+json": {
       "model_id": "ba3f970eac964142a8e982bd4e4b289e",
       "version_major": 2,
       "version_minor": 0
      },
      "text/plain": [
       "Query is running:   0%|          |"
      ]
     },
     "metadata": {},
     "output_type": "display_data"
    },
    {
     "data": {
      "application/vnd.jupyter.widget-view+json": {
       "model_id": "f3c30e04e0294100a758030bfab699c6",
       "version_major": 2,
       "version_minor": 0
      },
      "text/plain": [
       "Downloading:   0%|          |"
      ]
     },
     "metadata": {},
     "output_type": "display_data"
    },
    {
     "data": {
      "text/html": [
       "<div>\n",
       "<style scoped>\n",
       "    .dataframe tbody tr th:only-of-type {\n",
       "        vertical-align: middle;\n",
       "    }\n",
       "\n",
       "    .dataframe tbody tr th {\n",
       "        vertical-align: top;\n",
       "    }\n",
       "\n",
       "    .dataframe thead th {\n",
       "        text-align: right;\n",
       "    }\n",
       "</style>\n",
       "<table border=\"1\" class=\"dataframe\">\n",
       "  <thead>\n",
       "    <tr style=\"text-align: right;\">\n",
       "      <th></th>\n",
       "      <th>website_SKU</th>\n",
       "      <th>inventory_SKU</th>\n",
       "    </tr>\n",
       "  </thead>\n",
       "  <tbody>\n",
       "    <tr>\n",
       "      <th>0</th>\n",
       "      <td>None</td>\n",
       "      <td>GGADFBSBKS42347</td>\n",
       "    </tr>\n",
       "    <tr>\n",
       "      <th>1</th>\n",
       "      <td>None</td>\n",
       "      <td>GGOBJGOWUSG69402</td>\n",
       "    </tr>\n",
       "  </tbody>\n",
       "</table>\n",
       "</div>"
      ],
      "text/plain": [
       "  website_SKU     inventory_SKU\n",
       "0        None   GGADFBSBKS42347\n",
       "1        None  GGOBJGOWUSG69402"
      ]
     },
     "execution_count": 24,
     "metadata": {},
     "output_type": "execute_result"
    }
   ],
   "source": [
    "%%bigquery\n",
    "SELECT DISTINCT\n",
    "website.productSKU AS website_SKU,\n",
    "inventory.SKU AS inventory_SKU\n",
    "FROM `data-to-insights.ecommerce.all_sessions_raw` AS website\n",
    "RIGHT JOIN `data-to-insights.ecommerce.products` AS inventory\n",
    "ON website.productSKU = inventory.SKU\n",
    "WHERE website.productSKU IS NULL"
   ]
  },
  {
   "cell_type": "markdown",
   "metadata": {},
   "source": [
    "Yes there are 2 product SKUs missing from the product website.\n",
    "\n",
    "We have to know the detail about this 2 products."
   ]
  },
  {
   "cell_type": "code",
   "execution_count": 25,
   "metadata": {},
   "outputs": [
    {
     "data": {
      "application/vnd.jupyter.widget-view+json": {
       "model_id": "948926bccf9c40949d9b4634b03f6b3e",
       "version_major": 2,
       "version_minor": 0
      },
      "text/plain": [
       "Query is running:   0%|          |"
      ]
     },
     "metadata": {},
     "output_type": "display_data"
    },
    {
     "data": {
      "application/vnd.jupyter.widget-view+json": {
       "model_id": "d8988e7b9fdc4fe6a53c2b5f6d273b96",
       "version_major": 2,
       "version_minor": 0
      },
      "text/plain": [
       "Downloading:   0%|          |"
      ]
     },
     "metadata": {},
     "output_type": "display_data"
    },
    {
     "data": {
      "text/html": [
       "<div>\n",
       "<style scoped>\n",
       "    .dataframe tbody tr th:only-of-type {\n",
       "        vertical-align: middle;\n",
       "    }\n",
       "\n",
       "    .dataframe tbody tr th {\n",
       "        vertical-align: top;\n",
       "    }\n",
       "\n",
       "    .dataframe thead th {\n",
       "        text-align: right;\n",
       "    }\n",
       "</style>\n",
       "<table border=\"1\" class=\"dataframe\">\n",
       "  <thead>\n",
       "    <tr style=\"text-align: right;\">\n",
       "      <th></th>\n",
       "      <th>website_SKU</th>\n",
       "      <th>SKU</th>\n",
       "      <th>name</th>\n",
       "      <th>orderedQuantity</th>\n",
       "      <th>stockLevel</th>\n",
       "      <th>restockingLeadTime</th>\n",
       "      <th>sentimentScore</th>\n",
       "      <th>sentimentMagnitude</th>\n",
       "    </tr>\n",
       "  </thead>\n",
       "  <tbody>\n",
       "    <tr>\n",
       "      <th>0</th>\n",
       "      <td>None</td>\n",
       "      <td>GGADFBSBKS42347</td>\n",
       "      <td>PC gaming speakers</td>\n",
       "      <td>0</td>\n",
       "      <td>100</td>\n",
       "      <td>1</td>\n",
       "      <td>NaN</td>\n",
       "      <td>NaN</td>\n",
       "    </tr>\n",
       "    <tr>\n",
       "      <th>1</th>\n",
       "      <td>None</td>\n",
       "      <td>GGOBJGOWUSG69402</td>\n",
       "      <td>USB wired soundbar - in store only</td>\n",
       "      <td>10</td>\n",
       "      <td>15</td>\n",
       "      <td>2</td>\n",
       "      <td>1.0</td>\n",
       "      <td>1.0</td>\n",
       "    </tr>\n",
       "  </tbody>\n",
       "</table>\n",
       "</div>"
      ],
      "text/plain": [
       "  website_SKU               SKU                                name  \\\n",
       "0        None   GGADFBSBKS42347                  PC gaming speakers   \n",
       "1        None  GGOBJGOWUSG69402  USB wired soundbar - in store only   \n",
       "\n",
       "   orderedQuantity  stockLevel  restockingLeadTime  sentimentScore  \\\n",
       "0                0         100                   1             NaN   \n",
       "1               10          15                   2             1.0   \n",
       "\n",
       "   sentimentMagnitude  \n",
       "0                 NaN  \n",
       "1                 1.0  "
      ]
     },
     "execution_count": 25,
     "metadata": {},
     "output_type": "execute_result"
    }
   ],
   "source": [
    "%%bigquery\n",
    "SELECT DISTINCT\n",
    "website.productSKU AS website_SKU,\n",
    "inventory.*\n",
    "FROM `data-to-insights.ecommerce.all_sessions_raw` AS website\n",
    "RIGHT JOIN `data-to-insights.ecommerce.products` AS inventory\n",
    "ON website.productSKU = inventory.SKU\n",
    "WHERE website.productSKU IS NULL"
   ]
  },
  {
   "cell_type": "markdown",
   "metadata": {},
   "source": [
    "Why would these 2 products missing from website?\n",
    "1. New Product (0 order, no sentimentScore, and no sentimentMagnitude)\n",
    "2. The product is available in store only\n",
    "\n",
    "If we want to list all product missing from the website or inventory, run the query below."
   ]
  },
  {
   "cell_type": "code",
   "execution_count": 26,
   "metadata": {},
   "outputs": [
    {
     "data": {
      "application/vnd.jupyter.widget-view+json": {
       "model_id": "515b3fffeeb94650aecf5c0ecebe3b99",
       "version_major": 2,
       "version_minor": 0
      },
      "text/plain": [
       "Query is running:   0%|          |"
      ]
     },
     "metadata": {},
     "output_type": "display_data"
    },
    {
     "data": {
      "application/vnd.jupyter.widget-view+json": {
       "model_id": "4e0e696df14f4e278e2fcf09977b63f5",
       "version_major": 2,
       "version_minor": 0
      },
      "text/plain": [
       "Downloading:   0%|          |"
      ]
     },
     "metadata": {},
     "output_type": "display_data"
    },
    {
     "data": {
      "text/html": [
       "<div>\n",
       "<style scoped>\n",
       "    .dataframe tbody tr th:only-of-type {\n",
       "        vertical-align: middle;\n",
       "    }\n",
       "\n",
       "    .dataframe tbody tr th {\n",
       "        vertical-align: top;\n",
       "    }\n",
       "\n",
       "    .dataframe thead th {\n",
       "        text-align: right;\n",
       "    }\n",
       "</style>\n",
       "<table border=\"1\" class=\"dataframe\">\n",
       "  <thead>\n",
       "    <tr style=\"text-align: right;\">\n",
       "      <th></th>\n",
       "      <th>website_SKU</th>\n",
       "      <th>inventory_SKU</th>\n",
       "    </tr>\n",
       "  </thead>\n",
       "  <tbody>\n",
       "    <tr>\n",
       "      <th>0</th>\n",
       "      <td>GGOEGAAX0332</td>\n",
       "      <td>None</td>\n",
       "    </tr>\n",
       "    <tr>\n",
       "      <th>1</th>\n",
       "      <td>GGOEGAEE031014</td>\n",
       "      <td>None</td>\n",
       "    </tr>\n",
       "    <tr>\n",
       "      <th>2</th>\n",
       "      <td>GGOEGATB060215</td>\n",
       "      <td>None</td>\n",
       "    </tr>\n",
       "    <tr>\n",
       "      <th>3</th>\n",
       "      <td>GGOEGAWC062150</td>\n",
       "      <td>None</td>\n",
       "    </tr>\n",
       "    <tr>\n",
       "      <th>4</th>\n",
       "      <td>9182732</td>\n",
       "      <td>None</td>\n",
       "    </tr>\n",
       "    <tr>\n",
       "      <th>...</th>\n",
       "      <td>...</td>\n",
       "      <td>...</td>\n",
       "    </tr>\n",
       "    <tr>\n",
       "      <th>816</th>\n",
       "      <td>GGOEGAAX0228</td>\n",
       "      <td>None</td>\n",
       "    </tr>\n",
       "    <tr>\n",
       "      <th>817</th>\n",
       "      <td>GGOEGDHC017999</td>\n",
       "      <td>None</td>\n",
       "    </tr>\n",
       "    <tr>\n",
       "      <th>818</th>\n",
       "      <td>GGOEGAAL059014</td>\n",
       "      <td>None</td>\n",
       "    </tr>\n",
       "    <tr>\n",
       "      <th>819</th>\n",
       "      <td>GGOEGAEJ030114</td>\n",
       "      <td>None</td>\n",
       "    </tr>\n",
       "    <tr>\n",
       "      <th>820</th>\n",
       "      <td>GGOEGAEC029116</td>\n",
       "      <td>None</td>\n",
       "    </tr>\n",
       "  </tbody>\n",
       "</table>\n",
       "<p>821 rows × 2 columns</p>\n",
       "</div>"
      ],
      "text/plain": [
       "        website_SKU inventory_SKU\n",
       "0      GGOEGAAX0332          None\n",
       "1    GGOEGAEE031014          None\n",
       "2    GGOEGATB060215          None\n",
       "3    GGOEGAWC062150          None\n",
       "4           9182732          None\n",
       "..              ...           ...\n",
       "816    GGOEGAAX0228          None\n",
       "817  GGOEGDHC017999          None\n",
       "818  GGOEGAAL059014          None\n",
       "819  GGOEGAEJ030114          None\n",
       "820  GGOEGAEC029116          None\n",
       "\n",
       "[821 rows x 2 columns]"
      ]
     },
     "execution_count": 26,
     "metadata": {},
     "output_type": "execute_result"
    }
   ],
   "source": [
    "%%bigquery\n",
    "SELECT DISTINCT\n",
    "website.productSKU AS website_SKU,\n",
    "inventory.SKU AS inventory_SKU\n",
    "FROM `data-to-insights.ecommerce.all_sessions_raw` AS website\n",
    "FULL JOIN `data-to-insights.ecommerce.products` AS inventory\n",
    "ON website.productSKU = inventory.SKU\n",
    "WHERE website.productSKU IS NULL OR inventory.SKU IS NULL"
   ]
  },
  {
   "cell_type": "markdown",
   "metadata": {},
   "source": [
    "FULL JOIN means LEFT JOIN + RIGHT JOIN.\n",
    "\n",
    "Last, we want to try the CROSS JOIN. Create a promotion table first."
   ]
  },
  {
   "cell_type": "code",
   "execution_count": 27,
   "metadata": {},
   "outputs": [
    {
     "data": {
      "application/vnd.jupyter.widget-view+json": {
       "model_id": "97d89c7d75ce440e85523e78f8219193",
       "version_major": 2,
       "version_minor": 0
      },
      "text/plain": [
       "Query is running:   0%|          |"
      ]
     },
     "metadata": {},
     "output_type": "display_data"
    },
    {
     "data": {
      "text/html": [
       "<div>\n",
       "<style scoped>\n",
       "    .dataframe tbody tr th:only-of-type {\n",
       "        vertical-align: middle;\n",
       "    }\n",
       "\n",
       "    .dataframe tbody tr th {\n",
       "        vertical-align: top;\n",
       "    }\n",
       "\n",
       "    .dataframe thead th {\n",
       "        text-align: right;\n",
       "    }\n",
       "</style>\n",
       "<table border=\"1\" class=\"dataframe\">\n",
       "  <thead>\n",
       "    <tr style=\"text-align: right;\">\n",
       "      <th></th>\n",
       "    </tr>\n",
       "  </thead>\n",
       "  <tbody>\n",
       "  </tbody>\n",
       "</table>\n",
       "</div>"
      ],
      "text/plain": [
       "Empty DataFrame\n",
       "Columns: []\n",
       "Index: []"
      ]
     },
     "execution_count": 27,
     "metadata": {},
     "output_type": "execute_result"
    }
   ],
   "source": [
    "%%bigquery\n",
    "CREATE OR REPLACE TABLE ecommerce.site_wide_promotion AS\n",
    "SELECT .05 AS discount"
   ]
  },
  {
   "cell_type": "markdown",
   "metadata": {},
   "source": [
    "How many product are in clearence?"
   ]
  },
  {
   "cell_type": "code",
   "execution_count": 28,
   "metadata": {},
   "outputs": [
    {
     "data": {
      "application/vnd.jupyter.widget-view+json": {
       "model_id": "e353c595c6624b48b3c14beb43bffc3b",
       "version_major": 2,
       "version_minor": 0
      },
      "text/plain": [
       "Query is running:   0%|          |"
      ]
     },
     "metadata": {},
     "output_type": "display_data"
    },
    {
     "data": {
      "application/vnd.jupyter.widget-view+json": {
       "model_id": "50e4175ce0454af38ac95abdf5d9744e",
       "version_major": 2,
       "version_minor": 0
      },
      "text/plain": [
       "Downloading:   0%|          |"
      ]
     },
     "metadata": {},
     "output_type": "display_data"
    },
    {
     "data": {
      "text/html": [
       "<div>\n",
       "<style scoped>\n",
       "    .dataframe tbody tr th:only-of-type {\n",
       "        vertical-align: middle;\n",
       "    }\n",
       "\n",
       "    .dataframe tbody tr th {\n",
       "        vertical-align: top;\n",
       "    }\n",
       "\n",
       "    .dataframe thead th {\n",
       "        text-align: right;\n",
       "    }\n",
       "</style>\n",
       "<table border=\"1\" class=\"dataframe\">\n",
       "  <thead>\n",
       "    <tr style=\"text-align: right;\">\n",
       "      <th></th>\n",
       "      <th>productSKU</th>\n",
       "      <th>v2ProductCategory</th>\n",
       "      <th>discount</th>\n",
       "    </tr>\n",
       "  </thead>\n",
       "  <tbody>\n",
       "    <tr>\n",
       "      <th>0</th>\n",
       "      <td>GGOEACCQ017299</td>\n",
       "      <td>Home/Clearance Sale/</td>\n",
       "      <td>0.05</td>\n",
       "    </tr>\n",
       "    <tr>\n",
       "      <th>1</th>\n",
       "      <td>GGOEAOCB077499</td>\n",
       "      <td>Home/Clearance Sale/</td>\n",
       "      <td>0.05</td>\n",
       "    </tr>\n",
       "    <tr>\n",
       "      <th>2</th>\n",
       "      <td>GGOEGACB023699</td>\n",
       "      <td>Home/Clearance Sale/</td>\n",
       "      <td>0.05</td>\n",
       "    </tr>\n",
       "    <tr>\n",
       "      <th>3</th>\n",
       "      <td>GGOEGEHQ024099</td>\n",
       "      <td>Home/Clearance Sale/</td>\n",
       "      <td>0.05</td>\n",
       "    </tr>\n",
       "    <tr>\n",
       "      <th>4</th>\n",
       "      <td>GGOEGOAB021499</td>\n",
       "      <td>Home/Clearance Sale/</td>\n",
       "      <td>0.05</td>\n",
       "    </tr>\n",
       "    <tr>\n",
       "      <th>...</th>\n",
       "      <td>...</td>\n",
       "      <td>...</td>\n",
       "      <td>...</td>\n",
       "    </tr>\n",
       "    <tr>\n",
       "      <th>77</th>\n",
       "      <td>GGOEGAAX0327</td>\n",
       "      <td>Home/Clearance Sale/</td>\n",
       "      <td>0.05</td>\n",
       "    </tr>\n",
       "    <tr>\n",
       "      <th>78</th>\n",
       "      <td>GGOEGAAX0606</td>\n",
       "      <td>Home/Clearance Sale/</td>\n",
       "      <td>0.05</td>\n",
       "    </tr>\n",
       "    <tr>\n",
       "      <th>79</th>\n",
       "      <td>GGOEGAAX0363</td>\n",
       "      <td>Home/Clearance Sale/</td>\n",
       "      <td>0.05</td>\n",
       "    </tr>\n",
       "    <tr>\n",
       "      <th>80</th>\n",
       "      <td>GGOEGAAX0570</td>\n",
       "      <td>Home/Clearance Sale/</td>\n",
       "      <td>0.05</td>\n",
       "    </tr>\n",
       "    <tr>\n",
       "      <th>81</th>\n",
       "      <td>GGOEGAAX0598</td>\n",
       "      <td>Home/Clearance Sale/</td>\n",
       "      <td>0.05</td>\n",
       "    </tr>\n",
       "  </tbody>\n",
       "</table>\n",
       "<p>82 rows × 3 columns</p>\n",
       "</div>"
      ],
      "text/plain": [
       "        productSKU     v2ProductCategory  discount\n",
       "0   GGOEACCQ017299  Home/Clearance Sale/      0.05\n",
       "1   GGOEAOCB077499  Home/Clearance Sale/      0.05\n",
       "2   GGOEGACB023699  Home/Clearance Sale/      0.05\n",
       "3   GGOEGEHQ024099  Home/Clearance Sale/      0.05\n",
       "4   GGOEGOAB021499  Home/Clearance Sale/      0.05\n",
       "..             ...                   ...       ...\n",
       "77    GGOEGAAX0327  Home/Clearance Sale/      0.05\n",
       "78    GGOEGAAX0606  Home/Clearance Sale/      0.05\n",
       "79    GGOEGAAX0363  Home/Clearance Sale/      0.05\n",
       "80    GGOEGAAX0570  Home/Clearance Sale/      0.05\n",
       "81    GGOEGAAX0598  Home/Clearance Sale/      0.05\n",
       "\n",
       "[82 rows x 3 columns]"
      ]
     },
     "execution_count": 28,
     "metadata": {},
     "output_type": "execute_result"
    }
   ],
   "source": [
    "%%bigquery\n",
    "SELECT DISTINCT\n",
    "productSKU,\n",
    "v2ProductCategory,\n",
    "discount\n",
    "FROM `data-to-insights.ecommerce.all_sessions_raw` AS website\n",
    "CROSS JOIN ecommerce.site_wide_promotion\n",
    "WHERE v2ProductCategory LIKE '%Clearance%'"
   ]
  },
  {
   "cell_type": "markdown",
   "metadata": {},
   "source": [
    "There are 82 clearence products.\n",
    "\n",
    "Add new discount to promotion discount."
   ]
  },
  {
   "cell_type": "code",
   "execution_count": 29,
   "metadata": {},
   "outputs": [
    {
     "data": {
      "application/vnd.jupyter.widget-view+json": {
       "model_id": "02fa8755e68440e4846b08193cb86882",
       "version_major": 2,
       "version_minor": 0
      },
      "text/plain": [
       "Query is running:   0%|          |"
      ]
     },
     "metadata": {},
     "output_type": "display_data"
    },
    {
     "data": {
      "text/html": [
       "<div>\n",
       "<style scoped>\n",
       "    .dataframe tbody tr th:only-of-type {\n",
       "        vertical-align: middle;\n",
       "    }\n",
       "\n",
       "    .dataframe tbody tr th {\n",
       "        vertical-align: top;\n",
       "    }\n",
       "\n",
       "    .dataframe thead th {\n",
       "        text-align: right;\n",
       "    }\n",
       "</style>\n",
       "<table border=\"1\" class=\"dataframe\">\n",
       "  <thead>\n",
       "    <tr style=\"text-align: right;\">\n",
       "      <th></th>\n",
       "    </tr>\n",
       "  </thead>\n",
       "  <tbody>\n",
       "  </tbody>\n",
       "</table>\n",
       "</div>"
      ],
      "text/plain": [
       "Empty DataFrame\n",
       "Columns: []\n",
       "Index: []"
      ]
     },
     "execution_count": 29,
     "metadata": {},
     "output_type": "execute_result"
    }
   ],
   "source": [
    "%%bigquery\n",
    "INSERT INTO ecommerce.site_wide_promotion (discount)\n",
    "VALUES (.04),\n",
    "       (.03)"
   ]
  },
  {
   "cell_type": "code",
   "execution_count": 30,
   "metadata": {},
   "outputs": [
    {
     "data": {
      "application/vnd.jupyter.widget-view+json": {
       "model_id": "276cbb4d0fcc4f358b098ee1e6df556e",
       "version_major": 2,
       "version_minor": 0
      },
      "text/plain": [
       "Query is running:   0%|          |"
      ]
     },
     "metadata": {},
     "output_type": "display_data"
    },
    {
     "data": {
      "application/vnd.jupyter.widget-view+json": {
       "model_id": "d04bdf58f4e84daeaa66f6508a6f1a4b",
       "version_major": 2,
       "version_minor": 0
      },
      "text/plain": [
       "Downloading:   0%|          |"
      ]
     },
     "metadata": {},
     "output_type": "display_data"
    },
    {
     "data": {
      "text/html": [
       "<div>\n",
       "<style scoped>\n",
       "    .dataframe tbody tr th:only-of-type {\n",
       "        vertical-align: middle;\n",
       "    }\n",
       "\n",
       "    .dataframe tbody tr th {\n",
       "        vertical-align: top;\n",
       "    }\n",
       "\n",
       "    .dataframe thead th {\n",
       "        text-align: right;\n",
       "    }\n",
       "</style>\n",
       "<table border=\"1\" class=\"dataframe\">\n",
       "  <thead>\n",
       "    <tr style=\"text-align: right;\">\n",
       "      <th></th>\n",
       "      <th>discount</th>\n",
       "    </tr>\n",
       "  </thead>\n",
       "  <tbody>\n",
       "    <tr>\n",
       "      <th>0</th>\n",
       "      <td>0.05</td>\n",
       "    </tr>\n",
       "    <tr>\n",
       "      <th>1</th>\n",
       "      <td>0.04</td>\n",
       "    </tr>\n",
       "    <tr>\n",
       "      <th>2</th>\n",
       "      <td>0.03</td>\n",
       "    </tr>\n",
       "  </tbody>\n",
       "</table>\n",
       "</div>"
      ],
      "text/plain": [
       "   discount\n",
       "0      0.05\n",
       "1      0.04\n",
       "2      0.03"
      ]
     },
     "execution_count": 30,
     "metadata": {},
     "output_type": "execute_result"
    }
   ],
   "source": [
    "%%bigquery\n",
    "SELECT discount FROM ecommerce.site_wide_promotion"
   ]
  },
  {
   "cell_type": "markdown",
   "metadata": {},
   "source": [
    "Now in the promotion table, we have 3 discount value.\n",
    "\n",
    "Let's see the impact of using CROSS JOIN."
   ]
  },
  {
   "cell_type": "code",
   "execution_count": 31,
   "metadata": {},
   "outputs": [
    {
     "data": {
      "application/vnd.jupyter.widget-view+json": {
       "model_id": "0970204907ec4181a131e536ba7a4972",
       "version_major": 2,
       "version_minor": 0
      },
      "text/plain": [
       "Query is running:   0%|          |"
      ]
     },
     "metadata": {},
     "output_type": "display_data"
    },
    {
     "data": {
      "application/vnd.jupyter.widget-view+json": {
       "model_id": "d8c3bc9ceb7146398a2eb09ba96cb73b",
       "version_major": 2,
       "version_minor": 0
      },
      "text/plain": [
       "Downloading:   0%|          |"
      ]
     },
     "metadata": {},
     "output_type": "display_data"
    },
    {
     "data": {
      "text/html": [
       "<div>\n",
       "<style scoped>\n",
       "    .dataframe tbody tr th:only-of-type {\n",
       "        vertical-align: middle;\n",
       "    }\n",
       "\n",
       "    .dataframe tbody tr th {\n",
       "        vertical-align: top;\n",
       "    }\n",
       "\n",
       "    .dataframe thead th {\n",
       "        text-align: right;\n",
       "    }\n",
       "</style>\n",
       "<table border=\"1\" class=\"dataframe\">\n",
       "  <thead>\n",
       "    <tr style=\"text-align: right;\">\n",
       "      <th></th>\n",
       "      <th>productSKU</th>\n",
       "      <th>v2ProductCategory</th>\n",
       "      <th>discount</th>\n",
       "    </tr>\n",
       "  </thead>\n",
       "  <tbody>\n",
       "    <tr>\n",
       "      <th>0</th>\n",
       "      <td>GGOEAHPA004110</td>\n",
       "      <td>Home/Clearance Sale/</td>\n",
       "      <td>0.05</td>\n",
       "    </tr>\n",
       "    <tr>\n",
       "      <th>1</th>\n",
       "      <td>GGOEAOCB077499</td>\n",
       "      <td>Home/Clearance Sale/</td>\n",
       "      <td>0.05</td>\n",
       "    </tr>\n",
       "    <tr>\n",
       "      <th>2</th>\n",
       "      <td>GGOEGCBB074399</td>\n",
       "      <td>Home/Clearance Sale/</td>\n",
       "      <td>0.05</td>\n",
       "    </tr>\n",
       "    <tr>\n",
       "      <th>3</th>\n",
       "      <td>GGOEGCBB074399</td>\n",
       "      <td>Home/Clearance Sale/</td>\n",
       "      <td>0.04</td>\n",
       "    </tr>\n",
       "    <tr>\n",
       "      <th>4</th>\n",
       "      <td>GGOEGCBQ016499</td>\n",
       "      <td>Home/Clearance Sale/</td>\n",
       "      <td>0.05</td>\n",
       "    </tr>\n",
       "    <tr>\n",
       "      <th>...</th>\n",
       "      <td>...</td>\n",
       "      <td>...</td>\n",
       "      <td>...</td>\n",
       "    </tr>\n",
       "    <tr>\n",
       "      <th>241</th>\n",
       "      <td>GGOEGAAX0593</td>\n",
       "      <td>Home/Clearance Sale/</td>\n",
       "      <td>0.04</td>\n",
       "    </tr>\n",
       "    <tr>\n",
       "      <th>242</th>\n",
       "      <td>GGOEGAAX0331</td>\n",
       "      <td>Home/Clearance Sale/</td>\n",
       "      <td>0.05</td>\n",
       "    </tr>\n",
       "    <tr>\n",
       "      <th>243</th>\n",
       "      <td>GGOEGAAX0334</td>\n",
       "      <td>Home/Clearance Sale/</td>\n",
       "      <td>0.05</td>\n",
       "    </tr>\n",
       "    <tr>\n",
       "      <th>244</th>\n",
       "      <td>GGOEGAAX0602</td>\n",
       "      <td>Home/Clearance Sale/</td>\n",
       "      <td>0.05</td>\n",
       "    </tr>\n",
       "    <tr>\n",
       "      <th>245</th>\n",
       "      <td>GGOEGAAX0602</td>\n",
       "      <td>Home/Clearance Sale/</td>\n",
       "      <td>0.03</td>\n",
       "    </tr>\n",
       "  </tbody>\n",
       "</table>\n",
       "<p>246 rows × 3 columns</p>\n",
       "</div>"
      ],
      "text/plain": [
       "         productSKU     v2ProductCategory  discount\n",
       "0    GGOEAHPA004110  Home/Clearance Sale/      0.05\n",
       "1    GGOEAOCB077499  Home/Clearance Sale/      0.05\n",
       "2    GGOEGCBB074399  Home/Clearance Sale/      0.05\n",
       "3    GGOEGCBB074399  Home/Clearance Sale/      0.04\n",
       "4    GGOEGCBQ016499  Home/Clearance Sale/      0.05\n",
       "..              ...                   ...       ...\n",
       "241    GGOEGAAX0593  Home/Clearance Sale/      0.04\n",
       "242    GGOEGAAX0331  Home/Clearance Sale/      0.05\n",
       "243    GGOEGAAX0334  Home/Clearance Sale/      0.05\n",
       "244    GGOEGAAX0602  Home/Clearance Sale/      0.05\n",
       "245    GGOEGAAX0602  Home/Clearance Sale/      0.03\n",
       "\n",
       "[246 rows x 3 columns]"
      ]
     },
     "execution_count": 31,
     "metadata": {},
     "output_type": "execute_result"
    }
   ],
   "source": [
    "%%bigquery\n",
    "SELECT DISTINCT\n",
    "productSKU,\n",
    "v2ProductCategory,\n",
    "discount\n",
    "FROM `data-to-insights.ecommerce.all_sessions_raw` AS website\n",
    "CROSS JOIN ecommerce.site_wide_promotion\n",
    "WHERE v2ProductCategory LIKE '%Clearance%'"
   ]
  },
  {
   "cell_type": "markdown",
   "metadata": {},
   "source": [
    "The table returned 246 records. The website table is multiplied against the promotion table.\n",
    "\n",
    "To check the use of CROSS JOIN on one product, run the query below."
   ]
  },
  {
   "cell_type": "code",
   "execution_count": 32,
   "metadata": {},
   "outputs": [
    {
     "data": {
      "application/vnd.jupyter.widget-view+json": {
       "model_id": "b38e088b73154dcb96fa6025ca4fafeb",
       "version_major": 2,
       "version_minor": 0
      },
      "text/plain": [
       "Query is running:   0%|          |"
      ]
     },
     "metadata": {},
     "output_type": "display_data"
    },
    {
     "data": {
      "application/vnd.jupyter.widget-view+json": {
       "model_id": "784faafac8b74c23805cc276773a4337",
       "version_major": 2,
       "version_minor": 0
      },
      "text/plain": [
       "Downloading:   0%|          |"
      ]
     },
     "metadata": {},
     "output_type": "display_data"
    },
    {
     "data": {
      "text/html": [
       "<div>\n",
       "<style scoped>\n",
       "    .dataframe tbody tr th:only-of-type {\n",
       "        vertical-align: middle;\n",
       "    }\n",
       "\n",
       "    .dataframe tbody tr th {\n",
       "        vertical-align: top;\n",
       "    }\n",
       "\n",
       "    .dataframe thead th {\n",
       "        text-align: right;\n",
       "    }\n",
       "</style>\n",
       "<table border=\"1\" class=\"dataframe\">\n",
       "  <thead>\n",
       "    <tr style=\"text-align: right;\">\n",
       "      <th></th>\n",
       "      <th>productSKU</th>\n",
       "      <th>v2ProductCategory</th>\n",
       "      <th>discount</th>\n",
       "    </tr>\n",
       "  </thead>\n",
       "  <tbody>\n",
       "    <tr>\n",
       "      <th>0</th>\n",
       "      <td>GGOEGOLC013299</td>\n",
       "      <td>Home/Clearance Sale/</td>\n",
       "      <td>0.03</td>\n",
       "    </tr>\n",
       "    <tr>\n",
       "      <th>1</th>\n",
       "      <td>GGOEGOLC013299</td>\n",
       "      <td>Home/Clearance Sale/</td>\n",
       "      <td>0.05</td>\n",
       "    </tr>\n",
       "    <tr>\n",
       "      <th>2</th>\n",
       "      <td>GGOEGOLC013299</td>\n",
       "      <td>Home/Clearance Sale/</td>\n",
       "      <td>0.04</td>\n",
       "    </tr>\n",
       "  </tbody>\n",
       "</table>\n",
       "</div>"
      ],
      "text/plain": [
       "       productSKU     v2ProductCategory  discount\n",
       "0  GGOEGOLC013299  Home/Clearance Sale/      0.03\n",
       "1  GGOEGOLC013299  Home/Clearance Sale/      0.05\n",
       "2  GGOEGOLC013299  Home/Clearance Sale/      0.04"
      ]
     },
     "execution_count": 32,
     "metadata": {},
     "output_type": "execute_result"
    }
   ],
   "source": [
    "%%bigquery\n",
    "SELECT DISTINCT\n",
    "productSKU,\n",
    "v2ProductCategory,\n",
    "discount\n",
    "FROM `data-to-insights.ecommerce.all_sessions_raw` AS website\n",
    "CROSS JOIN ecommerce.site_wide_promotion\n",
    "WHERE v2ProductCategory LIKE '%Clearance%'\n",
    "AND productSKU = 'GGOEGOLC013299'"
   ]
  }
 ],
 "metadata": {
  "kernelspec": {
   "display_name": "Python 3",
   "language": "python",
   "name": "python3"
  },
  "language_info": {
   "codemirror_mode": {
    "name": "ipython",
    "version": 3
   },
   "file_extension": ".py",
   "mimetype": "text/x-python",
   "name": "python",
   "nbconvert_exporter": "python",
   "pygments_lexer": "ipython3",
   "version": "3.11.4"
  },
  "orig_nbformat": 4
 },
 "nbformat": 4,
 "nbformat_minor": 2
}
