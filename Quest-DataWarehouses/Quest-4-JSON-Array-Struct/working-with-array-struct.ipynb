{
 "cells": [
  {
   "cell_type": "markdown",
   "metadata": {},
   "source": [
    "# Working With JSON, Array, and Struct\n",
    "\n",
    "Denormalizing schema into a single table with nested and repeated field"
   ]
  },
  {
   "cell_type": "markdown",
   "metadata": {},
   "source": [
    "### 1. Connecting BigQuery Jupyter Notebook\n",
    "\n",
    "Set environment variables for notebook to connect Bigquery"
   ]
  },
  {
   "cell_type": "code",
   "execution_count": 1,
   "metadata": {},
   "outputs": [],
   "source": [
    "import os \n",
    "os.environ['GOOGLE_APPLICATION_CREDENTIALS'] = 'C:/Users/Rakyan Prajnagra/Documents/Data Engineer/GCP-DataEngineerLearningPath/Quest-DataWarehouses/Quest-4-JSON-Array-Struct/qwiklabs-gcp-03-0839e0d1d019-b455f8d120d1.json'"
   ]
  },
  {
   "cell_type": "markdown",
   "metadata": {},
   "source": [
    "Load the BigQuery client library by executing the command below"
   ]
  },
  {
   "cell_type": "code",
   "execution_count": 2,
   "metadata": {},
   "outputs": [],
   "source": [
    "%load_ext google.cloud.bigquery"
   ]
  },
  {
   "cell_type": "markdown",
   "metadata": {},
   "source": [
    "### 2. Create a New Dataset\n",
    "\n",
    "Used to store table for the insights. Create new dataset titled `fruit_store` can be done through SQL query."
   ]
  },
  {
   "cell_type": "code",
   "execution_count": 4,
   "metadata": {},
   "outputs": [
    {
     "name": "stderr",
     "output_type": "stream",
     "text": [
      "c:\\Users\\Rakyan Prajnagra\\Documents\\Data Engineer\\GCP-DataEngineerLearningPath\\dev-env\\Lib\\site-packages\\google\\cloud\\bigquery\\job\\query.py:1799: UserWarning: A progress bar was requested, but there was an error loading the tqdm library. Please install tqdm to use the progress bar functionality.\n",
      "  query_result = wait_for_query(self, progress_bar_type, max_results=max_results)\n"
     ]
    },
    {
     "data": {
      "text/html": [
       "<div>\n",
       "<style scoped>\n",
       "    .dataframe tbody tr th:only-of-type {\n",
       "        vertical-align: middle;\n",
       "    }\n",
       "\n",
       "    .dataframe tbody tr th {\n",
       "        vertical-align: top;\n",
       "    }\n",
       "\n",
       "    .dataframe thead th {\n",
       "        text-align: right;\n",
       "    }\n",
       "</style>\n",
       "<table border=\"1\" class=\"dataframe\">\n",
       "  <thead>\n",
       "    <tr style=\"text-align: right;\">\n",
       "      <th></th>\n",
       "    </tr>\n",
       "  </thead>\n",
       "  <tbody>\n",
       "  </tbody>\n",
       "</table>\n",
       "</div>"
      ],
      "text/plain": [
       "Empty DataFrame\n",
       "Columns: []\n",
       "Index: []"
      ]
     },
     "execution_count": 4,
     "metadata": {},
     "output_type": "execute_result"
    }
   ],
   "source": [
    "%%bigquery\n",
    "CREATE SCHEMA fruit_store"
   ]
  },
  {
   "cell_type": "markdown",
   "metadata": {},
   "source": [
    "Ecommerce dataset has been created"
   ]
  },
  {
   "cell_type": "markdown",
   "metadata": {},
   "source": [
    "### 3. Working with Array\n",
    "\n",
    "Normally in SQL a single value stored for each row. If there any repetitive data in the table, we have to normalization the data. This is a common approach for a transactional database. But for analytical database (data warehousing), we often go the reverse direction-denormalization.\n",
    "\n",
    "Run the query below."
   ]
  },
  {
   "cell_type": "code",
   "execution_count": 5,
   "metadata": {},
   "outputs": [
    {
     "name": "stderr",
     "output_type": "stream",
     "text": [
      "c:\\Users\\Rakyan Prajnagra\\Documents\\Data Engineer\\GCP-DataEngineerLearningPath\\dev-env\\Lib\\site-packages\\google\\cloud\\bigquery\\job\\query.py:1799: UserWarning: A progress bar was requested, but there was an error loading the tqdm library. Please install tqdm to use the progress bar functionality.\n",
      "  query_result = wait_for_query(self, progress_bar_type, max_results=max_results)\n",
      "c:\\Users\\Rakyan Prajnagra\\Documents\\Data Engineer\\GCP-DataEngineerLearningPath\\dev-env\\Lib\\site-packages\\google\\cloud\\bigquery\\table.py:2155: UserWarning: A progress bar was requested, but there was an error loading the tqdm library. Please install tqdm to use the progress bar functionality.\n",
      "  record_batch = self.to_arrow(\n"
     ]
    },
    {
     "data": {
      "text/html": [
       "<div>\n",
       "<style scoped>\n",
       "    .dataframe tbody tr th:only-of-type {\n",
       "        vertical-align: middle;\n",
       "    }\n",
       "\n",
       "    .dataframe tbody tr th {\n",
       "        vertical-align: top;\n",
       "    }\n",
       "\n",
       "    .dataframe thead th {\n",
       "        text-align: right;\n",
       "    }\n",
       "</style>\n",
       "<table border=\"1\" class=\"dataframe\">\n",
       "  <thead>\n",
       "    <tr style=\"text-align: right;\">\n",
       "      <th></th>\n",
       "      <th>fruit_array</th>\n",
       "    </tr>\n",
       "  </thead>\n",
       "  <tbody>\n",
       "    <tr>\n",
       "      <th>0</th>\n",
       "      <td>[raspberry, blackberry, strawberry, cherry]</td>\n",
       "    </tr>\n",
       "  </tbody>\n",
       "</table>\n",
       "</div>"
      ],
      "text/plain": [
       "                                   fruit_array\n",
       "0  [raspberry, blackberry, strawberry, cherry]"
      ]
     },
     "execution_count": 5,
     "metadata": {},
     "output_type": "execute_result"
    }
   ],
   "source": [
    "%%bigquery\n",
    "SELECT\n",
    "['raspberry', 'blackberry', 'strawberry', 'cherry'] AS fruit_array"
   ]
  },
  {
   "cell_type": "markdown",
   "metadata": {},
   "source": [
    "An array is a list of items in brackets []. The result show us those array belong to a single row."
   ]
  },
  {
   "cell_type": "code",
   "execution_count": 6,
   "metadata": {},
   "outputs": [
    {
     "name": "stdout",
     "output_type": "stream",
     "text": [
      "Executing query with job ID: a198b4d8-b64b-49d6-aca4-5cafa793f7fe\n",
      "Query executing: 0.86s"
     ]
    },
    {
     "name": "stderr",
     "output_type": "stream",
     "text": [
      "\n",
      "ERROR:\n",
      " 400 Array elements of types {INT64, STRING} do not have a common supertype at [2:1]\n",
      "\n",
      "Location: US\n",
      "Job ID: a198b4d8-b64b-49d6-aca4-5cafa793f7fe\n",
      "\n"
     ]
    }
   ],
   "source": [
    "%%bigquery\n",
    "SELECT\n",
    "['raspberry', 'blackberry', 'strawberry', 'cherry', 1234567] AS fruit_array"
   ]
  },
  {
   "cell_type": "markdown",
   "metadata": {},
   "source": [
    "Why the result shows error? because the data in array must be the same type.\n",
    "\n",
    "Now try to loading JSON file into BigQuery. The JSON file that we try to ingest is located in the Google Cloud Storage."
   ]
  },
  {
   "cell_type": "code",
   "execution_count": 9,
   "metadata": {},
   "outputs": [
    {
     "name": "stderr",
     "output_type": "stream",
     "text": [
      "c:\\Users\\Rakyan Prajnagra\\Documents\\Data Engineer\\GCP-DataEngineerLearningPath\\dev-env\\Lib\\site-packages\\google\\cloud\\bigquery\\job\\query.py:1799: UserWarning: A progress bar was requested, but there was an error loading the tqdm library. Please install tqdm to use the progress bar functionality.\n",
      "  query_result = wait_for_query(self, progress_bar_type, max_results=max_results)\n"
     ]
    },
    {
     "data": {
      "text/html": [
       "<div>\n",
       "<style scoped>\n",
       "    .dataframe tbody tr th:only-of-type {\n",
       "        vertical-align: middle;\n",
       "    }\n",
       "\n",
       "    .dataframe tbody tr th {\n",
       "        vertical-align: top;\n",
       "    }\n",
       "\n",
       "    .dataframe thead th {\n",
       "        text-align: right;\n",
       "    }\n",
       "</style>\n",
       "<table border=\"1\" class=\"dataframe\">\n",
       "  <thead>\n",
       "    <tr style=\"text-align: right;\">\n",
       "      <th></th>\n",
       "    </tr>\n",
       "  </thead>\n",
       "  <tbody>\n",
       "  </tbody>\n",
       "</table>\n",
       "</div>"
      ],
      "text/plain": [
       "Empty DataFrame\n",
       "Columns: []\n",
       "Index: []"
      ]
     },
     "execution_count": 9,
     "metadata": {},
     "output_type": "execute_result"
    }
   ],
   "source": [
    "%%bigquery\n",
    "LOAD DATA OVERWRITE fruit_store.fruit_details\n",
    "FROM FILES (\n",
    "  format = 'JSON',\n",
    "  uris = ['gs://data-insights-course/labs/optimizing-for-performance/shopping_cart.json'])"
   ]
  },
  {
   "cell_type": "markdown",
   "metadata": {},
   "source": [
    "The BigQuery will autodetect the schema when we load data from JSON file.\n",
    "\n",
    "To check the data type in the `fruit_store` table, run the query below."
   ]
  },
  {
   "cell_type": "code",
   "execution_count": 36,
   "metadata": {},
   "outputs": [
    {
     "name": "stderr",
     "output_type": "stream",
     "text": [
      "c:\\Users\\Rakyan Prajnagra\\Documents\\Data Engineer\\GCP-DataEngineerLearningPath\\dev-env\\Lib\\site-packages\\google\\cloud\\bigquery\\job\\query.py:1799: UserWarning: A progress bar was requested, but there was an error loading the tqdm library. Please install tqdm to use the progress bar functionality.\n",
      "  query_result = wait_for_query(self, progress_bar_type, max_results=max_results)\n",
      "c:\\Users\\Rakyan Prajnagra\\Documents\\Data Engineer\\GCP-DataEngineerLearningPath\\dev-env\\Lib\\site-packages\\google\\cloud\\bigquery\\table.py:2155: UserWarning: A progress bar was requested, but there was an error loading the tqdm library. Please install tqdm to use the progress bar functionality.\n",
      "  record_batch = self.to_arrow(\n"
     ]
    },
    {
     "data": {
      "text/html": [
       "<div>\n",
       "<style scoped>\n",
       "    .dataframe tbody tr th:only-of-type {\n",
       "        vertical-align: middle;\n",
       "    }\n",
       "\n",
       "    .dataframe tbody tr th {\n",
       "        vertical-align: top;\n",
       "    }\n",
       "\n",
       "    .dataframe thead th {\n",
       "        text-align: right;\n",
       "    }\n",
       "</style>\n",
       "<table border=\"1\" class=\"dataframe\">\n",
       "  <thead>\n",
       "    <tr style=\"text-align: right;\">\n",
       "      <th></th>\n",
       "      <th>column_name</th>\n",
       "      <th>data_type</th>\n",
       "    </tr>\n",
       "  </thead>\n",
       "  <tbody>\n",
       "    <tr>\n",
       "      <th>0</th>\n",
       "      <td>total_cost</td>\n",
       "      <td>FLOAT64</td>\n",
       "    </tr>\n",
       "    <tr>\n",
       "      <th>1</th>\n",
       "      <td>fruit_array</td>\n",
       "      <td>ARRAY&lt;STRING&gt;</td>\n",
       "    </tr>\n",
       "    <tr>\n",
       "      <th>2</th>\n",
       "      <td>person</td>\n",
       "      <td>STRING</td>\n",
       "    </tr>\n",
       "  </tbody>\n",
       "</table>\n",
       "</div>"
      ],
      "text/plain": [
       "   column_name      data_type\n",
       "0   total_cost        FLOAT64\n",
       "1  fruit_array  ARRAY<STRING>\n",
       "2       person         STRING"
      ]
     },
     "execution_count": 36,
     "metadata": {},
     "output_type": "execute_result"
    }
   ],
   "source": [
    "%%bigquery\n",
    "SELECT column_name, data_type\n",
    "FROM `fruit_store.INFORMATION_SCHEMA.COLUMNS`\n",
    "WHERE table_name = 'fruit_details'\n",
    "ORDER BY ordinal_position"
   ]
  },
  {
   "cell_type": "markdown",
   "metadata": {},
   "source": [
    "In the schema, the fruit_array is an array. So BigQuery supports arrays data type. In the BigQuery, arrays are called `REPEATED`.\n",
    "\n",
    "We can create an array with ARRAY_AGG(). Lets explore the ecommerce dataset before we create array table."
   ]
  },
  {
   "cell_type": "code",
   "execution_count": 10,
   "metadata": {},
   "outputs": [
    {
     "name": "stderr",
     "output_type": "stream",
     "text": [
      "c:\\Users\\Rakyan Prajnagra\\Documents\\Data Engineer\\GCP-DataEngineerLearningPath\\dev-env\\Lib\\site-packages\\google\\cloud\\bigquery\\job\\query.py:1799: UserWarning: A progress bar was requested, but there was an error loading the tqdm library. Please install tqdm to use the progress bar functionality.\n",
      "  query_result = wait_for_query(self, progress_bar_type, max_results=max_results)\n",
      "c:\\Users\\Rakyan Prajnagra\\Documents\\Data Engineer\\GCP-DataEngineerLearningPath\\dev-env\\Lib\\site-packages\\google\\cloud\\bigquery\\table.py:2155: UserWarning: A progress bar was requested, but there was an error loading the tqdm library. Please install tqdm to use the progress bar functionality.\n",
      "  record_batch = self.to_arrow(\n"
     ]
    },
    {
     "data": {
      "text/html": [
       "<div>\n",
       "<style scoped>\n",
       "    .dataframe tbody tr th:only-of-type {\n",
       "        vertical-align: middle;\n",
       "    }\n",
       "\n",
       "    .dataframe tbody tr th {\n",
       "        vertical-align: top;\n",
       "    }\n",
       "\n",
       "    .dataframe thead th {\n",
       "        text-align: right;\n",
       "    }\n",
       "</style>\n",
       "<table border=\"1\" class=\"dataframe\">\n",
       "  <thead>\n",
       "    <tr style=\"text-align: right;\">\n",
       "      <th></th>\n",
       "      <th>fullVisitorId</th>\n",
       "      <th>date</th>\n",
       "      <th>v2ProductName</th>\n",
       "      <th>pageTitle</th>\n",
       "    </tr>\n",
       "  </thead>\n",
       "  <tbody>\n",
       "    <tr>\n",
       "      <th>0</th>\n",
       "      <td>5710379250208908569</td>\n",
       "      <td>20170731</td>\n",
       "      <td>Google Snapback Hat Black</td>\n",
       "      <td>Google RFID Journal</td>\n",
       "    </tr>\n",
       "    <tr>\n",
       "      <th>1</th>\n",
       "      <td>5710379250208908569</td>\n",
       "      <td>20170731</td>\n",
       "      <td>Google Women's Lightweight Microfleece Jacket</td>\n",
       "      <td>Google Snapback Hat Black</td>\n",
       "    </tr>\n",
       "    <tr>\n",
       "      <th>2</th>\n",
       "      <td>5710379250208908569</td>\n",
       "      <td>20170801</td>\n",
       "      <td>Android Sticker Sheet Ultra Removable</td>\n",
       "      <td>Office | Google Merchandise Store</td>\n",
       "    </tr>\n",
       "    <tr>\n",
       "      <th>3</th>\n",
       "      <td>5710379250208908569</td>\n",
       "      <td>20170801</td>\n",
       "      <td>1 oz Hand Sanitizer</td>\n",
       "      <td>Office | Google Merchandise Store</td>\n",
       "    </tr>\n",
       "    <tr>\n",
       "      <th>4</th>\n",
       "      <td>5710379250208908569</td>\n",
       "      <td>20170801</td>\n",
       "      <td>Windup Android</td>\n",
       "      <td>Accessories | Google Merchandise Store</td>\n",
       "    </tr>\n",
       "    <tr>\n",
       "      <th>...</th>\n",
       "      <td>...</td>\n",
       "      <td>...</td>\n",
       "      <td>...</td>\n",
       "      <td>...</td>\n",
       "    </tr>\n",
       "    <tr>\n",
       "      <th>106</th>\n",
       "      <td>5710379250208908569</td>\n",
       "      <td>20170801</td>\n",
       "      <td>Switch Tone Color Crayon Pen</td>\n",
       "      <td>Office | Google Merchandise Store</td>\n",
       "    </tr>\n",
       "    <tr>\n",
       "      <th>107</th>\n",
       "      <td>5710379250208908569</td>\n",
       "      <td>20170801</td>\n",
       "      <td>Micro Wireless Earbud</td>\n",
       "      <td>Electronics | Google Merchandise Store</td>\n",
       "    </tr>\n",
       "    <tr>\n",
       "      <th>108</th>\n",
       "      <td>5710379250208908569</td>\n",
       "      <td>20170801</td>\n",
       "      <td>Android Wool Heather Cap Heather/Black</td>\n",
       "      <td>Shop by Brand | Google Merchandise Store</td>\n",
       "    </tr>\n",
       "    <tr>\n",
       "      <th>109</th>\n",
       "      <td>5710379250208908569</td>\n",
       "      <td>20170801</td>\n",
       "      <td>Windup Android</td>\n",
       "      <td>Shop by Brand | Google Merchandise Store</td>\n",
       "    </tr>\n",
       "    <tr>\n",
       "      <th>110</th>\n",
       "      <td>5710379250208908569</td>\n",
       "      <td>20170801</td>\n",
       "      <td>Pen Pencil &amp; Highlighter Set</td>\n",
       "      <td>Writing Instruments | Office | Google Merchand...</td>\n",
       "    </tr>\n",
       "  </tbody>\n",
       "</table>\n",
       "<p>111 rows × 4 columns</p>\n",
       "</div>"
      ],
      "text/plain": [
       "           fullVisitorId      date  \\\n",
       "0    5710379250208908569  20170731   \n",
       "1    5710379250208908569  20170731   \n",
       "2    5710379250208908569  20170801   \n",
       "3    5710379250208908569  20170801   \n",
       "4    5710379250208908569  20170801   \n",
       "..                   ...       ...   \n",
       "106  5710379250208908569  20170801   \n",
       "107  5710379250208908569  20170801   \n",
       "108  5710379250208908569  20170801   \n",
       "109  5710379250208908569  20170801   \n",
       "110  5710379250208908569  20170801   \n",
       "\n",
       "                                     v2ProductName  \\\n",
       "0                        Google Snapback Hat Black   \n",
       "1    Google Women's Lightweight Microfleece Jacket   \n",
       "2            Android Sticker Sheet Ultra Removable   \n",
       "3                              1 oz Hand Sanitizer   \n",
       "4                                   Windup Android   \n",
       "..                                             ...   \n",
       "106                   Switch Tone Color Crayon Pen   \n",
       "107                          Micro Wireless Earbud   \n",
       "108         Android Wool Heather Cap Heather/Black   \n",
       "109                                 Windup Android   \n",
       "110                   Pen Pencil & Highlighter Set   \n",
       "\n",
       "                                             pageTitle  \n",
       "0                                  Google RFID Journal  \n",
       "1                            Google Snapback Hat Black  \n",
       "2                    Office | Google Merchandise Store  \n",
       "3                    Office | Google Merchandise Store  \n",
       "4               Accessories | Google Merchandise Store  \n",
       "..                                                 ...  \n",
       "106                  Office | Google Merchandise Store  \n",
       "107             Electronics | Google Merchandise Store  \n",
       "108           Shop by Brand | Google Merchandise Store  \n",
       "109           Shop by Brand | Google Merchandise Store  \n",
       "110  Writing Instruments | Office | Google Merchand...  \n",
       "\n",
       "[111 rows x 4 columns]"
      ]
     },
     "execution_count": 10,
     "metadata": {},
     "output_type": "execute_result"
    }
   ],
   "source": [
    "%%bigquery\n",
    "SELECT\n",
    "  fullVisitorId,\n",
    "  date,\n",
    "  v2ProductName,\n",
    "  pageTitle\n",
    "  FROM `data-to-insights.ecommerce.all_sessions`\n",
    "WHERE visitId = 1501570398\n",
    "ORDER BY date"
   ]
  },
  {
   "cell_type": "markdown",
   "metadata": {},
   "source": [
    "Without array, the result return 111 rows.\n",
    "\n",
    "Time to create the array with previous dataset"
   ]
  },
  {
   "cell_type": "code",
   "execution_count": 11,
   "metadata": {},
   "outputs": [
    {
     "name": "stderr",
     "output_type": "stream",
     "text": [
      "c:\\Users\\Rakyan Prajnagra\\Documents\\Data Engineer\\GCP-DataEngineerLearningPath\\dev-env\\Lib\\site-packages\\google\\cloud\\bigquery\\job\\query.py:1799: UserWarning: A progress bar was requested, but there was an error loading the tqdm library. Please install tqdm to use the progress bar functionality.\n",
      "  query_result = wait_for_query(self, progress_bar_type, max_results=max_results)\n",
      "c:\\Users\\Rakyan Prajnagra\\Documents\\Data Engineer\\GCP-DataEngineerLearningPath\\dev-env\\Lib\\site-packages\\google\\cloud\\bigquery\\table.py:2155: UserWarning: A progress bar was requested, but there was an error loading the tqdm library. Please install tqdm to use the progress bar functionality.\n",
      "  record_batch = self.to_arrow(\n"
     ]
    },
    {
     "data": {
      "text/html": [
       "<div>\n",
       "<style scoped>\n",
       "    .dataframe tbody tr th:only-of-type {\n",
       "        vertical-align: middle;\n",
       "    }\n",
       "\n",
       "    .dataframe tbody tr th {\n",
       "        vertical-align: top;\n",
       "    }\n",
       "\n",
       "    .dataframe thead th {\n",
       "        text-align: right;\n",
       "    }\n",
       "</style>\n",
       "<table border=\"1\" class=\"dataframe\">\n",
       "  <thead>\n",
       "    <tr style=\"text-align: right;\">\n",
       "      <th></th>\n",
       "      <th>fullVisitorId</th>\n",
       "      <th>date</th>\n",
       "      <th>products_viewed</th>\n",
       "      <th>pages_viewed</th>\n",
       "    </tr>\n",
       "  </thead>\n",
       "  <tbody>\n",
       "    <tr>\n",
       "      <th>0</th>\n",
       "      <td>5710379250208908569</td>\n",
       "      <td>20170731</td>\n",
       "      <td>[Google Snapback Hat Black, Google Women's Lig...</td>\n",
       "      <td>[Google RFID Journal, Google Snapback Hat Black]</td>\n",
       "    </tr>\n",
       "    <tr>\n",
       "      <th>1</th>\n",
       "      <td>5710379250208908569</td>\n",
       "      <td>20170801</td>\n",
       "      <td>[Android Sticker Sheet Ultra Removable, Switch...</td>\n",
       "      <td>[Office | Google Merchandise Store, Fun | Acce...</td>\n",
       "    </tr>\n",
       "  </tbody>\n",
       "</table>\n",
       "</div>"
      ],
      "text/plain": [
       "         fullVisitorId      date  \\\n",
       "0  5710379250208908569  20170731   \n",
       "1  5710379250208908569  20170801   \n",
       "\n",
       "                                     products_viewed  \\\n",
       "0  [Google Snapback Hat Black, Google Women's Lig...   \n",
       "1  [Android Sticker Sheet Ultra Removable, Switch...   \n",
       "\n",
       "                                        pages_viewed  \n",
       "0   [Google RFID Journal, Google Snapback Hat Black]  \n",
       "1  [Office | Google Merchandise Store, Fun | Acce...  "
      ]
     },
     "execution_count": 11,
     "metadata": {},
     "output_type": "execute_result"
    }
   ],
   "source": [
    "%%bigquery\n",
    "SELECT\n",
    "  fullVisitorId,\n",
    "  date,\n",
    "  ARRAY_AGG(v2ProductName) AS products_viewed,\n",
    "  ARRAY_AGG(pageTitle) AS pages_viewed\n",
    "  FROM `data-to-insights.ecommerce.all_sessions`\n",
    "WHERE visitId = 1501570398\n",
    "GROUP BY fullVisitorId, date\n",
    "ORDER BY date"
   ]
  },
  {
   "cell_type": "markdown",
   "metadata": {},
   "source": [
    "After using ARRAY_AGG(), the result return 2 rows - one for each day.\n",
    "\n",
    "To see how many pages were viewed by `1501570398` user on 1 August 2017, execute this query."
   ]
  },
  {
   "cell_type": "code",
   "execution_count": 12,
   "metadata": {},
   "outputs": [
    {
     "name": "stderr",
     "output_type": "stream",
     "text": [
      "c:\\Users\\Rakyan Prajnagra\\Documents\\Data Engineer\\GCP-DataEngineerLearningPath\\dev-env\\Lib\\site-packages\\google\\cloud\\bigquery\\job\\query.py:1799: UserWarning: A progress bar was requested, but there was an error loading the tqdm library. Please install tqdm to use the progress bar functionality.\n",
      "  query_result = wait_for_query(self, progress_bar_type, max_results=max_results)\n",
      "c:\\Users\\Rakyan Prajnagra\\Documents\\Data Engineer\\GCP-DataEngineerLearningPath\\dev-env\\Lib\\site-packages\\google\\cloud\\bigquery\\table.py:2155: UserWarning: A progress bar was requested, but there was an error loading the tqdm library. Please install tqdm to use the progress bar functionality.\n",
      "  record_batch = self.to_arrow(\n"
     ]
    },
    {
     "data": {
      "text/html": [
       "<div>\n",
       "<style scoped>\n",
       "    .dataframe tbody tr th:only-of-type {\n",
       "        vertical-align: middle;\n",
       "    }\n",
       "\n",
       "    .dataframe tbody tr th {\n",
       "        vertical-align: top;\n",
       "    }\n",
       "\n",
       "    .dataframe thead th {\n",
       "        text-align: right;\n",
       "    }\n",
       "</style>\n",
       "<table border=\"1\" class=\"dataframe\">\n",
       "  <thead>\n",
       "    <tr style=\"text-align: right;\">\n",
       "      <th></th>\n",
       "      <th>fullVisitorId</th>\n",
       "      <th>date</th>\n",
       "      <th>products_viewed</th>\n",
       "      <th>num_products_viewed</th>\n",
       "      <th>pages_viewed</th>\n",
       "      <th>num_pages_viewed</th>\n",
       "    </tr>\n",
       "  </thead>\n",
       "  <tbody>\n",
       "    <tr>\n",
       "      <th>0</th>\n",
       "      <td>5710379250208908569</td>\n",
       "      <td>20170731</td>\n",
       "      <td>[Google Snapback Hat Black, Google Women's Lig...</td>\n",
       "      <td>2</td>\n",
       "      <td>[Google RFID Journal, Google Snapback Hat Black]</td>\n",
       "      <td>2</td>\n",
       "    </tr>\n",
       "    <tr>\n",
       "      <th>1</th>\n",
       "      <td>5710379250208908569</td>\n",
       "      <td>20170801</td>\n",
       "      <td>[Android Sticker Sheet Ultra Removable, Androi...</td>\n",
       "      <td>109</td>\n",
       "      <td>[Office | Google Merchandise Store, Office | G...</td>\n",
       "      <td>109</td>\n",
       "    </tr>\n",
       "  </tbody>\n",
       "</table>\n",
       "</div>"
      ],
      "text/plain": [
       "         fullVisitorId      date  \\\n",
       "0  5710379250208908569  20170731   \n",
       "1  5710379250208908569  20170801   \n",
       "\n",
       "                                     products_viewed  num_products_viewed  \\\n",
       "0  [Google Snapback Hat Black, Google Women's Lig...                    2   \n",
       "1  [Android Sticker Sheet Ultra Removable, Androi...                  109   \n",
       "\n",
       "                                        pages_viewed  num_pages_viewed  \n",
       "0   [Google RFID Journal, Google Snapback Hat Black]                 2  \n",
       "1  [Office | Google Merchandise Store, Office | G...               109  "
      ]
     },
     "execution_count": 12,
     "metadata": {},
     "output_type": "execute_result"
    }
   ],
   "source": [
    "%%bigquery\n",
    "SELECT\n",
    "  fullVisitorId,\n",
    "  date,\n",
    "  ARRAY_AGG(v2ProductName) AS products_viewed,\n",
    "  ARRAY_LENGTH(ARRAY_AGG(v2ProductName)) AS num_products_viewed,\n",
    "  ARRAY_AGG(pageTitle) AS pages_viewed,\n",
    "  ARRAY_LENGTH(ARRAY_AGG(pageTitle)) AS num_pages_viewed\n",
    "  FROM `data-to-insights.ecommerce.all_sessions`\n",
    "WHERE visitId = 1501570398\n",
    "GROUP BY fullVisitorId, date\n",
    "ORDER BY date"
   ]
  },
  {
   "cell_type": "markdown",
   "metadata": {},
   "source": [
    "This user viewed 109 pages on one day.\n",
    "\n",
    "And how many uniques product were viewed?"
   ]
  },
  {
   "cell_type": "code",
   "execution_count": 13,
   "metadata": {},
   "outputs": [
    {
     "name": "stderr",
     "output_type": "stream",
     "text": [
      "c:\\Users\\Rakyan Prajnagra\\Documents\\Data Engineer\\GCP-DataEngineerLearningPath\\dev-env\\Lib\\site-packages\\google\\cloud\\bigquery\\job\\query.py:1799: UserWarning: A progress bar was requested, but there was an error loading the tqdm library. Please install tqdm to use the progress bar functionality.\n",
      "  query_result = wait_for_query(self, progress_bar_type, max_results=max_results)\n",
      "c:\\Users\\Rakyan Prajnagra\\Documents\\Data Engineer\\GCP-DataEngineerLearningPath\\dev-env\\Lib\\site-packages\\google\\cloud\\bigquery\\table.py:2155: UserWarning: A progress bar was requested, but there was an error loading the tqdm library. Please install tqdm to use the progress bar functionality.\n",
      "  record_batch = self.to_arrow(\n"
     ]
    },
    {
     "data": {
      "text/html": [
       "<div>\n",
       "<style scoped>\n",
       "    .dataframe tbody tr th:only-of-type {\n",
       "        vertical-align: middle;\n",
       "    }\n",
       "\n",
       "    .dataframe tbody tr th {\n",
       "        vertical-align: top;\n",
       "    }\n",
       "\n",
       "    .dataframe thead th {\n",
       "        text-align: right;\n",
       "    }\n",
       "</style>\n",
       "<table border=\"1\" class=\"dataframe\">\n",
       "  <thead>\n",
       "    <tr style=\"text-align: right;\">\n",
       "      <th></th>\n",
       "      <th>fullVisitorId</th>\n",
       "      <th>date</th>\n",
       "      <th>products_viewed</th>\n",
       "      <th>distinct_products_viewed</th>\n",
       "      <th>pages_viewed</th>\n",
       "      <th>distinct_pages_viewed</th>\n",
       "    </tr>\n",
       "  </thead>\n",
       "  <tbody>\n",
       "    <tr>\n",
       "      <th>0</th>\n",
       "      <td>5710379250208908569</td>\n",
       "      <td>20170731</td>\n",
       "      <td>[Google Snapback Hat Black, Google Women's Lig...</td>\n",
       "      <td>2</td>\n",
       "      <td>[Google RFID Journal, Google Snapback Hat Black]</td>\n",
       "      <td>2</td>\n",
       "    </tr>\n",
       "    <tr>\n",
       "      <th>1</th>\n",
       "      <td>5710379250208908569</td>\n",
       "      <td>20170801</td>\n",
       "      <td>[Android Sticker Sheet Ultra Removable, Androi...</td>\n",
       "      <td>61</td>\n",
       "      <td>[Office | Google Merchandise Store, Accessorie...</td>\n",
       "      <td>8</td>\n",
       "    </tr>\n",
       "  </tbody>\n",
       "</table>\n",
       "</div>"
      ],
      "text/plain": [
       "         fullVisitorId      date  \\\n",
       "0  5710379250208908569  20170731   \n",
       "1  5710379250208908569  20170801   \n",
       "\n",
       "                                     products_viewed  \\\n",
       "0  [Google Snapback Hat Black, Google Women's Lig...   \n",
       "1  [Android Sticker Sheet Ultra Removable, Androi...   \n",
       "\n",
       "   distinct_products_viewed  \\\n",
       "0                         2   \n",
       "1                        61   \n",
       "\n",
       "                                        pages_viewed  distinct_pages_viewed  \n",
       "0   [Google RFID Journal, Google Snapback Hat Black]                      2  \n",
       "1  [Office | Google Merchandise Store, Accessorie...                      8  "
      ]
     },
     "execution_count": 13,
     "metadata": {},
     "output_type": "execute_result"
    }
   ],
   "source": [
    "%%bigquery\n",
    "SELECT\n",
    "  fullVisitorId,\n",
    "  date,\n",
    "  ARRAY_AGG(DISTINCT v2ProductName) AS products_viewed,\n",
    "  ARRAY_LENGTH(ARRAY_AGG(DISTINCT v2ProductName)) AS distinct_products_viewed,\n",
    "  ARRAY_AGG(DISTINCT pageTitle) AS pages_viewed,\n",
    "  ARRAY_LENGTH(ARRAY_AGG(DISTINCT pageTitle)) AS distinct_pages_viewed\n",
    "  FROM `data-to-insights.ecommerce.all_sessions`\n",
    "WHERE visitId = 1501570398\n",
    "GROUP BY fullVisitorId, date\n",
    "ORDER BY date"
   ]
  },
  {
   "cell_type": "markdown",
   "metadata": {},
   "source": [
    "2 products on 13 July 2017 and 61 products on 1 August 2017.\n",
    "\n",
    "On the previous, we already load and create array in BigQuery. Now we want to query the dataset that already have array in it (Public Dataset for Google Analytics)."
   ]
  },
  {
   "cell_type": "code",
   "execution_count": 14,
   "metadata": {},
   "outputs": [
    {
     "name": "stderr",
     "output_type": "stream",
     "text": [
      "c:\\Users\\Rakyan Prajnagra\\Documents\\Data Engineer\\GCP-DataEngineerLearningPath\\dev-env\\Lib\\site-packages\\google\\cloud\\bigquery\\job\\query.py:1799: UserWarning: A progress bar was requested, but there was an error loading the tqdm library. Please install tqdm to use the progress bar functionality.\n",
      "  query_result = wait_for_query(self, progress_bar_type, max_results=max_results)\n",
      "c:\\Users\\Rakyan Prajnagra\\Documents\\Data Engineer\\GCP-DataEngineerLearningPath\\dev-env\\Lib\\site-packages\\google\\cloud\\bigquery\\table.py:2155: UserWarning: A progress bar was requested, but there was an error loading the tqdm library. Please install tqdm to use the progress bar functionality.\n",
      "  record_batch = self.to_arrow(\n"
     ]
    },
    {
     "data": {
      "text/html": [
       "<div>\n",
       "<style scoped>\n",
       "    .dataframe tbody tr th:only-of-type {\n",
       "        vertical-align: middle;\n",
       "    }\n",
       "\n",
       "    .dataframe tbody tr th {\n",
       "        vertical-align: top;\n",
       "    }\n",
       "\n",
       "    .dataframe thead th {\n",
       "        text-align: right;\n",
       "    }\n",
       "</style>\n",
       "<table border=\"1\" class=\"dataframe\">\n",
       "  <thead>\n",
       "    <tr style=\"text-align: right;\">\n",
       "      <th></th>\n",
       "      <th>visitorId</th>\n",
       "      <th>visitNumber</th>\n",
       "      <th>visitId</th>\n",
       "      <th>visitStartTime</th>\n",
       "      <th>date</th>\n",
       "      <th>totals</th>\n",
       "      <th>trafficSource</th>\n",
       "      <th>device</th>\n",
       "      <th>geoNetwork</th>\n",
       "      <th>customDimensions</th>\n",
       "      <th>hits</th>\n",
       "      <th>fullVisitorId</th>\n",
       "      <th>userId</th>\n",
       "      <th>clientId</th>\n",
       "      <th>channelGrouping</th>\n",
       "      <th>socialEngagementType</th>\n",
       "    </tr>\n",
       "  </thead>\n",
       "  <tbody>\n",
       "    <tr>\n",
       "      <th>0</th>\n",
       "      <td>&lt;NA&gt;</td>\n",
       "      <td>1</td>\n",
       "      <td>1501570398</td>\n",
       "      <td>1501570840</td>\n",
       "      <td>20170801</td>\n",
       "      <td>{'visits': 1, 'hits': 11, 'pageviews': 11, 'ti...</td>\n",
       "      <td>{'referralPath': None, 'campaign': '(not set)'...</td>\n",
       "      <td>{'browser': 'Chrome', 'browserVersion': 'not a...</td>\n",
       "      <td>{'continent': 'Americas', 'subContinent': 'Nor...</td>\n",
       "      <td>[{'index': 4, 'value': 'North America'}]</td>\n",
       "      <td>[{'hitNumber': 4, 'time': 0, 'hour': 0, 'minut...</td>\n",
       "      <td>0187975600071346667</td>\n",
       "      <td>None</td>\n",
       "      <td>None</td>\n",
       "      <td>Organic Search</td>\n",
       "      <td>Not Socially Engaged</td>\n",
       "    </tr>\n",
       "  </tbody>\n",
       "</table>\n",
       "</div>"
      ],
      "text/plain": [
       "   visitorId  visitNumber     visitId  visitStartTime      date  \\\n",
       "0       <NA>            1  1501570398      1501570840  20170801   \n",
       "\n",
       "                                              totals  \\\n",
       "0  {'visits': 1, 'hits': 11, 'pageviews': 11, 'ti...   \n",
       "\n",
       "                                       trafficSource  \\\n",
       "0  {'referralPath': None, 'campaign': '(not set)'...   \n",
       "\n",
       "                                              device  \\\n",
       "0  {'browser': 'Chrome', 'browserVersion': 'not a...   \n",
       "\n",
       "                                          geoNetwork  \\\n",
       "0  {'continent': 'Americas', 'subContinent': 'Nor...   \n",
       "\n",
       "                           customDimensions  \\\n",
       "0  [{'index': 4, 'value': 'North America'}]   \n",
       "\n",
       "                                                hits        fullVisitorId  \\\n",
       "0  [{'hitNumber': 4, 'time': 0, 'hour': 0, 'minut...  0187975600071346667   \n",
       "\n",
       "  userId clientId channelGrouping  socialEngagementType  \n",
       "0   None     None  Organic Search  Not Socially Engaged  "
      ]
     },
     "execution_count": 14,
     "metadata": {},
     "output_type": "execute_result"
    }
   ],
   "source": [
    "%%bigquery\n",
    "SELECT\n",
    "  *\n",
    "FROM `bigquery-public-data.google_analytics_sample.ga_sessions_20170801`\n",
    "WHERE visitId = 1501570398"
   ]
  },
  {
   "cell_type": "markdown",
   "metadata": {},
   "source": [
    "The dataset contains a lot of array and struct (we will discover later). This can be overwhelming for analysis.\n",
    "\n",
    "So just select some fields."
   ]
  },
  {
   "cell_type": "code",
   "execution_count": 16,
   "metadata": {},
   "outputs": [
    {
     "name": "stdout",
     "output_type": "stream",
     "text": [
      "Executing query with job ID: ddcc9d0d-2515-4b74-a763-c0bc416df900\n",
      "Query executing: 0.94s"
     ]
    },
    {
     "name": "stderr",
     "output_type": "stream",
     "text": [
      "\n",
      "ERROR:\n",
      " 400 Cannot access field page on a value with type ARRAY<STRUCT<hitNumber INT64, time INT64, hour INT64, ...>> at [3:8]\n",
      "\n",
      "Location: US\n",
      "Job ID: ddcc9d0d-2515-4b74-a763-c0bc416df900\n",
      "\n"
     ]
    }
   ],
   "source": [
    "%%bigquery\n",
    "SELECT\n",
    "  visitId,\n",
    "  hits.page.pageTitle\n",
    "FROM `bigquery-public-data.google_analytics_sample.ga_sessions_20170801`\n",
    "WHERE visitId = 1501570398"
   ]
  },
  {
   "cell_type": "markdown",
   "metadata": {},
   "source": [
    "When we try exectuing the query, it shows error message. What wrong with the query? because we can't query REPEATED field mormally. We must break the array first.\n",
    "\n",
    "Use UNNEST() function on the array fields."
   ]
  },
  {
   "cell_type": "code",
   "execution_count": 17,
   "metadata": {},
   "outputs": [
    {
     "name": "stderr",
     "output_type": "stream",
     "text": [
      "c:\\Users\\Rakyan Prajnagra\\Documents\\Data Engineer\\GCP-DataEngineerLearningPath\\dev-env\\Lib\\site-packages\\google\\cloud\\bigquery\\job\\query.py:1799: UserWarning: A progress bar was requested, but there was an error loading the tqdm library. Please install tqdm to use the progress bar functionality.\n",
      "  query_result = wait_for_query(self, progress_bar_type, max_results=max_results)\n",
      "c:\\Users\\Rakyan Prajnagra\\Documents\\Data Engineer\\GCP-DataEngineerLearningPath\\dev-env\\Lib\\site-packages\\google\\cloud\\bigquery\\table.py:2155: UserWarning: A progress bar was requested, but there was an error loading the tqdm library. Please install tqdm to use the progress bar functionality.\n",
      "  record_batch = self.to_arrow(\n"
     ]
    },
    {
     "data": {
      "text/html": [
       "<div>\n",
       "<style scoped>\n",
       "    .dataframe tbody tr th:only-of-type {\n",
       "        vertical-align: middle;\n",
       "    }\n",
       "\n",
       "    .dataframe tbody tr th {\n",
       "        vertical-align: top;\n",
       "    }\n",
       "\n",
       "    .dataframe thead th {\n",
       "        text-align: right;\n",
       "    }\n",
       "</style>\n",
       "<table border=\"1\" class=\"dataframe\">\n",
       "  <thead>\n",
       "    <tr style=\"text-align: right;\">\n",
       "      <th></th>\n",
       "      <th>visitId</th>\n",
       "      <th>pageTitle</th>\n",
       "    </tr>\n",
       "  </thead>\n",
       "  <tbody>\n",
       "    <tr>\n",
       "      <th>0</th>\n",
       "      <td>1501570398</td>\n",
       "      <td>Fun | Accessories | Google Merchandise Store</td>\n",
       "    </tr>\n",
       "    <tr>\n",
       "      <th>1</th>\n",
       "      <td>1501570398</td>\n",
       "      <td>Home</td>\n",
       "    </tr>\n",
       "    <tr>\n",
       "      <th>2</th>\n",
       "      <td>1501570398</td>\n",
       "      <td>Shop by Brand | Google Merchandise Store</td>\n",
       "    </tr>\n",
       "    <tr>\n",
       "      <th>3</th>\n",
       "      <td>1501570398</td>\n",
       "      <td>Office | Google Merchandise Store</td>\n",
       "    </tr>\n",
       "    <tr>\n",
       "      <th>4</th>\n",
       "      <td>1501570398</td>\n",
       "      <td>Other | Office | Google Merchandise Store</td>\n",
       "    </tr>\n",
       "    <tr>\n",
       "      <th>5</th>\n",
       "      <td>1501570398</td>\n",
       "      <td>Writing Instruments | Office | Google Merchand...</td>\n",
       "    </tr>\n",
       "    <tr>\n",
       "      <th>6</th>\n",
       "      <td>1501570398</td>\n",
       "      <td>Accessories | Google Merchandise Store</td>\n",
       "    </tr>\n",
       "    <tr>\n",
       "      <th>7</th>\n",
       "      <td>1501570398</td>\n",
       "      <td>Electronics | Google Merchandise Store</td>\n",
       "    </tr>\n",
       "    <tr>\n",
       "      <th>8</th>\n",
       "      <td>1501570398</td>\n",
       "      <td>Apparel | Google Merchandise Store</td>\n",
       "    </tr>\n",
       "  </tbody>\n",
       "</table>\n",
       "</div>"
      ],
      "text/plain": [
       "      visitId                                          pageTitle\n",
       "0  1501570398       Fun | Accessories | Google Merchandise Store\n",
       "1  1501570398                                               Home\n",
       "2  1501570398           Shop by Brand | Google Merchandise Store\n",
       "3  1501570398                  Office | Google Merchandise Store\n",
       "4  1501570398          Other | Office | Google Merchandise Store\n",
       "5  1501570398  Writing Instruments | Office | Google Merchand...\n",
       "6  1501570398             Accessories | Google Merchandise Store\n",
       "7  1501570398             Electronics | Google Merchandise Store\n",
       "8  1501570398                 Apparel | Google Merchandise Store"
      ]
     },
     "execution_count": 17,
     "metadata": {},
     "output_type": "execute_result"
    }
   ],
   "source": [
    "%%bigquery\n",
    "SELECT DISTINCT\n",
    "  visitId,\n",
    "  h.page.pageTitle\n",
    "FROM `bigquery-public-data.google_analytics_sample.ga_sessions_20170801`,\n",
    "UNNEST(hits) AS h\n",
    "WHERE visitId = 1501570398\n",
    "LIMIT 10"
   ]
  },
  {
   "cell_type": "markdown",
   "metadata": {},
   "source": [
    "Thats the result when we break the array, it become many rows."
   ]
  },
  {
   "cell_type": "markdown",
   "metadata": {},
   "source": [
    "### 4. Working with Struct\n",
    "\n",
    "On previous query, we try to select hit.page.pageTitle. This field is one of STRUCT data type. It used to grouping related fields togehter. So basically it's a 3 different fields. To understand STRUCT, lets try analyze the dataset."
   ]
  },
  {
   "cell_type": "code",
   "execution_count": 18,
   "metadata": {},
   "outputs": [
    {
     "name": "stderr",
     "output_type": "stream",
     "text": [
      "c:\\Users\\Rakyan Prajnagra\\Documents\\Data Engineer\\GCP-DataEngineerLearningPath\\dev-env\\Lib\\site-packages\\google\\cloud\\bigquery\\job\\query.py:1799: UserWarning: A progress bar was requested, but there was an error loading the tqdm library. Please install tqdm to use the progress bar functionality.\n",
      "  query_result = wait_for_query(self, progress_bar_type, max_results=max_results)\n",
      "c:\\Users\\Rakyan Prajnagra\\Documents\\Data Engineer\\GCP-DataEngineerLearningPath\\dev-env\\Lib\\site-packages\\google\\cloud\\bigquery\\table.py:2155: UserWarning: A progress bar was requested, but there was an error loading the tqdm library. Please install tqdm to use the progress bar functionality.\n",
      "  record_batch = self.to_arrow(\n"
     ]
    },
    {
     "data": {
      "text/html": [
       "<div>\n",
       "<style scoped>\n",
       "    .dataframe tbody tr th:only-of-type {\n",
       "        vertical-align: middle;\n",
       "    }\n",
       "\n",
       "    .dataframe tbody tr th {\n",
       "        vertical-align: top;\n",
       "    }\n",
       "\n",
       "    .dataframe thead th {\n",
       "        text-align: right;\n",
       "    }\n",
       "</style>\n",
       "<table border=\"1\" class=\"dataframe\">\n",
       "  <thead>\n",
       "    <tr style=\"text-align: right;\">\n",
       "      <th></th>\n",
       "      <th>visitId</th>\n",
       "      <th>visits</th>\n",
       "      <th>hits</th>\n",
       "      <th>pageviews</th>\n",
       "      <th>timeOnSite</th>\n",
       "      <th>bounces</th>\n",
       "      <th>transactions</th>\n",
       "      <th>transactionRevenue</th>\n",
       "      <th>newVisits</th>\n",
       "      <th>screenviews</th>\n",
       "      <th>...</th>\n",
       "      <th>mobileDeviceModel</th>\n",
       "      <th>mobileInputSelector</th>\n",
       "      <th>mobileDeviceInfo</th>\n",
       "      <th>mobileDeviceMarketingName</th>\n",
       "      <th>flashVersion</th>\n",
       "      <th>javaEnabled</th>\n",
       "      <th>language</th>\n",
       "      <th>screenColors</th>\n",
       "      <th>screenResolution</th>\n",
       "      <th>deviceCategory</th>\n",
       "    </tr>\n",
       "  </thead>\n",
       "  <tbody>\n",
       "    <tr>\n",
       "      <th>0</th>\n",
       "      <td>1501570398</td>\n",
       "      <td>1</td>\n",
       "      <td>11</td>\n",
       "      <td>11</td>\n",
       "      <td>731</td>\n",
       "      <td>&lt;NA&gt;</td>\n",
       "      <td>&lt;NA&gt;</td>\n",
       "      <td>&lt;NA&gt;</td>\n",
       "      <td>1</td>\n",
       "      <td>&lt;NA&gt;</td>\n",
       "      <td>...</td>\n",
       "      <td>not available in demo dataset</td>\n",
       "      <td>not available in demo dataset</td>\n",
       "      <td>not available in demo dataset</td>\n",
       "      <td>not available in demo dataset</td>\n",
       "      <td>not available in demo dataset</td>\n",
       "      <td>&lt;NA&gt;</td>\n",
       "      <td>not available in demo dataset</td>\n",
       "      <td>not available in demo dataset</td>\n",
       "      <td>not available in demo dataset</td>\n",
       "      <td>tablet</td>\n",
       "    </tr>\n",
       "  </tbody>\n",
       "</table>\n",
       "<p>1 rows × 31 columns</p>\n",
       "</div>"
      ],
      "text/plain": [
       "      visitId  visits  hits  pageviews  timeOnSite  bounces  transactions  \\\n",
       "0  1501570398       1    11         11         731     <NA>          <NA>   \n",
       "\n",
       "   transactionRevenue  newVisits  screenviews  ...  \\\n",
       "0                <NA>          1         <NA>  ...   \n",
       "\n",
       "               mobileDeviceModel            mobileInputSelector  \\\n",
       "0  not available in demo dataset  not available in demo dataset   \n",
       "\n",
       "                mobileDeviceInfo      mobileDeviceMarketingName  \\\n",
       "0  not available in demo dataset  not available in demo dataset   \n",
       "\n",
       "                    flashVersion javaEnabled                       language  \\\n",
       "0  not available in demo dataset        <NA>  not available in demo dataset   \n",
       "\n",
       "                    screenColors               screenResolution  \\\n",
       "0  not available in demo dataset  not available in demo dataset   \n",
       "\n",
       "   deviceCategory  \n",
       "0          tablet  \n",
       "\n",
       "[1 rows x 31 columns]"
      ]
     },
     "execution_count": 18,
     "metadata": {},
     "output_type": "execute_result"
    }
   ],
   "source": [
    "%%bigquery\n",
    "SELECT\n",
    "  visitId,\n",
    "  totals.*,\n",
    "  device.*\n",
    "FROM `bigquery-public-data.google_analytics_sample.ga_sessions_20170801`\n",
    "WHERE visitId = 1501570398\n",
    "LIMIT 10"
   ]
  },
  {
   "cell_type": "markdown",
   "metadata": {},
   "source": [
    "The .* syntax tells BigQuery to return all fields for that STRUCT. The advantage of having many STRUCT in a single table is it allows us to run queries without having to do any JOIN. \n",
    "\n",
    "Run the query below to try the STRUCT syntax."
   ]
  },
  {
   "cell_type": "code",
   "execution_count": 19,
   "metadata": {},
   "outputs": [
    {
     "name": "stderr",
     "output_type": "stream",
     "text": [
      "c:\\Users\\Rakyan Prajnagra\\Documents\\Data Engineer\\GCP-DataEngineerLearningPath\\dev-env\\Lib\\site-packages\\google\\cloud\\bigquery\\job\\query.py:1799: UserWarning: A progress bar was requested, but there was an error loading the tqdm library. Please install tqdm to use the progress bar functionality.\n",
      "  query_result = wait_for_query(self, progress_bar_type, max_results=max_results)\n",
      "c:\\Users\\Rakyan Prajnagra\\Documents\\Data Engineer\\GCP-DataEngineerLearningPath\\dev-env\\Lib\\site-packages\\google\\cloud\\bigquery\\table.py:2155: UserWarning: A progress bar was requested, but there was an error loading the tqdm library. Please install tqdm to use the progress bar functionality.\n",
      "  record_batch = self.to_arrow(\n"
     ]
    },
    {
     "data": {
      "text/html": [
       "<div>\n",
       "<style scoped>\n",
       "    .dataframe tbody tr th:only-of-type {\n",
       "        vertical-align: middle;\n",
       "    }\n",
       "\n",
       "    .dataframe tbody tr th {\n",
       "        vertical-align: top;\n",
       "    }\n",
       "\n",
       "    .dataframe thead th {\n",
       "        text-align: right;\n",
       "    }\n",
       "</style>\n",
       "<table border=\"1\" class=\"dataframe\">\n",
       "  <thead>\n",
       "    <tr style=\"text-align: right;\">\n",
       "      <th></th>\n",
       "      <th>runner</th>\n",
       "    </tr>\n",
       "  </thead>\n",
       "  <tbody>\n",
       "    <tr>\n",
       "      <th>0</th>\n",
       "      <td>{'name': 'Rudisha', 'split': 23.4}</td>\n",
       "    </tr>\n",
       "  </tbody>\n",
       "</table>\n",
       "</div>"
      ],
      "text/plain": [
       "                               runner\n",
       "0  {'name': 'Rudisha', 'split': 23.4}"
      ]
     },
     "execution_count": 19,
     "metadata": {},
     "output_type": "execute_result"
    }
   ],
   "source": [
    "%%bigquery\n",
    "#standardSQL\n",
    "SELECT STRUCT(\"Rudisha\" as name, 23.4 as split) as runner"
   ]
  },
  {
   "cell_type": "markdown",
   "metadata": {},
   "source": [
    "The result will be shown like this in BigQuery"
   ]
  },
  {
   "attachments": {
    "Struct.png": {
     "image/png": "[encoded data removed]"
    }
   },
   "cell_type": "markdown",
   "metadata": {},
   "source": [
    "![Struct.png](attachment:Struct.png)"
   ]
  },
  {
   "cell_type": "markdown",
   "metadata": {},
   "source": [
    "Now try the query below."
   ]
  },
  {
   "cell_type": "code",
   "execution_count": 20,
   "metadata": {},
   "outputs": [
    {
     "name": "stderr",
     "output_type": "stream",
     "text": [
      "c:\\Users\\Rakyan Prajnagra\\Documents\\Data Engineer\\GCP-DataEngineerLearningPath\\dev-env\\Lib\\site-packages\\google\\cloud\\bigquery\\job\\query.py:1799: UserWarning: A progress bar was requested, but there was an error loading the tqdm library. Please install tqdm to use the progress bar functionality.\n",
      "  query_result = wait_for_query(self, progress_bar_type, max_results=max_results)\n",
      "c:\\Users\\Rakyan Prajnagra\\Documents\\Data Engineer\\GCP-DataEngineerLearningPath\\dev-env\\Lib\\site-packages\\google\\cloud\\bigquery\\table.py:2155: UserWarning: A progress bar was requested, but there was an error loading the tqdm library. Please install tqdm to use the progress bar functionality.\n",
      "  record_batch = self.to_arrow(\n"
     ]
    },
    {
     "data": {
      "text/html": [
       "<div>\n",
       "<style scoped>\n",
       "    .dataframe tbody tr th:only-of-type {\n",
       "        vertical-align: middle;\n",
       "    }\n",
       "\n",
       "    .dataframe tbody tr th {\n",
       "        vertical-align: top;\n",
       "    }\n",
       "\n",
       "    .dataframe thead th {\n",
       "        text-align: right;\n",
       "    }\n",
       "</style>\n",
       "<table border=\"1\" class=\"dataframe\">\n",
       "  <thead>\n",
       "    <tr style=\"text-align: right;\">\n",
       "      <th></th>\n",
       "      <th>runner</th>\n",
       "    </tr>\n",
       "  </thead>\n",
       "  <tbody>\n",
       "    <tr>\n",
       "      <th>0</th>\n",
       "      <td>{'name': 'Rudisha', 'splits': [23.4, 26.3, 26....</td>\n",
       "    </tr>\n",
       "  </tbody>\n",
       "</table>\n",
       "</div>"
      ],
      "text/plain": [
       "                                              runner\n",
       "0  {'name': 'Rudisha', 'splits': [23.4, 26.3, 26...."
      ]
     },
     "execution_count": 20,
     "metadata": {},
     "output_type": "execute_result"
    }
   ],
   "source": [
    "%%bigquery\n",
    "SELECT STRUCT(\"Rudisha\" as name, [23.4, 26.3, 26.4, 26.1] as splits) AS runner"
   ]
  },
  {
   "cell_type": "markdown",
   "metadata": {},
   "source": [
    "We conclude that structs are containers that can have multiple field names and data types nested inside, while arrays can be one of the field types inside of a struct.\n",
    "\n",
    "We want to discover more about STRUCT. First create a new dataset titled `racing`."
   ]
  },
  {
   "cell_type": "code",
   "execution_count": 21,
   "metadata": {},
   "outputs": [
    {
     "name": "stderr",
     "output_type": "stream",
     "text": [
      "c:\\Users\\Rakyan Prajnagra\\Documents\\Data Engineer\\GCP-DataEngineerLearningPath\\dev-env\\Lib\\site-packages\\google\\cloud\\bigquery\\job\\query.py:1799: UserWarning: A progress bar was requested, but there was an error loading the tqdm library. Please install tqdm to use the progress bar functionality.\n",
      "  query_result = wait_for_query(self, progress_bar_type, max_results=max_results)\n"
     ]
    },
    {
     "data": {
      "text/html": [
       "<div>\n",
       "<style scoped>\n",
       "    .dataframe tbody tr th:only-of-type {\n",
       "        vertical-align: middle;\n",
       "    }\n",
       "\n",
       "    .dataframe tbody tr th {\n",
       "        vertical-align: top;\n",
       "    }\n",
       "\n",
       "    .dataframe thead th {\n",
       "        text-align: right;\n",
       "    }\n",
       "</style>\n",
       "<table border=\"1\" class=\"dataframe\">\n",
       "  <thead>\n",
       "    <tr style=\"text-align: right;\">\n",
       "      <th></th>\n",
       "    </tr>\n",
       "  </thead>\n",
       "  <tbody>\n",
       "  </tbody>\n",
       "</table>\n",
       "</div>"
      ],
      "text/plain": [
       "Empty DataFrame\n",
       "Columns: []\n",
       "Index: []"
      ]
     },
     "execution_count": 21,
     "metadata": {},
     "output_type": "execute_result"
    }
   ],
   "source": [
    "%%bigquery\n",
    "CREATE SCHEMA racing"
   ]
  },
  {
   "cell_type": "markdown",
   "metadata": {},
   "source": [
    "Then load a JSON file into our new dataset."
   ]
  },
  {
   "cell_type": "code",
   "execution_count": 24,
   "metadata": {},
   "outputs": [
    {
     "name": "stderr",
     "output_type": "stream",
     "text": [
      "c:\\Users\\Rakyan Prajnagra\\Documents\\Data Engineer\\GCP-DataEngineerLearningPath\\dev-env\\Lib\\site-packages\\google\\cloud\\bigquery\\job\\query.py:1799: UserWarning: A progress bar was requested, but there was an error loading the tqdm library. Please install tqdm to use the progress bar functionality.\n",
      "  query_result = wait_for_query(self, progress_bar_type, max_results=max_results)\n"
     ]
    },
    {
     "data": {
      "text/html": [
       "<div>\n",
       "<style scoped>\n",
       "    .dataframe tbody tr th:only-of-type {\n",
       "        vertical-align: middle;\n",
       "    }\n",
       "\n",
       "    .dataframe tbody tr th {\n",
       "        vertical-align: top;\n",
       "    }\n",
       "\n",
       "    .dataframe thead th {\n",
       "        text-align: right;\n",
       "    }\n",
       "</style>\n",
       "<table border=\"1\" class=\"dataframe\">\n",
       "  <thead>\n",
       "    <tr style=\"text-align: right;\">\n",
       "      <th></th>\n",
       "    </tr>\n",
       "  </thead>\n",
       "  <tbody>\n",
       "  </tbody>\n",
       "</table>\n",
       "</div>"
      ],
      "text/plain": [
       "Empty DataFrame\n",
       "Columns: []\n",
       "Index: []"
      ]
     },
     "execution_count": 24,
     "metadata": {},
     "output_type": "execute_result"
    }
   ],
   "source": [
    "%%bigquery\n",
    "LOAD DATA OVERWRITE racing.race_results\n",
    "FROM FILES (\n",
    "  format = 'JSON',\n",
    "  uris = ['gs://data-insights-course/labs/optimizing-for-performance/race_results.json'])"
   ]
  },
  {
   "cell_type": "markdown",
   "metadata": {},
   "source": [
    "Check for the schema."
   ]
  },
  {
   "cell_type": "code",
   "execution_count": 35,
   "metadata": {},
   "outputs": [
    {
     "name": "stderr",
     "output_type": "stream",
     "text": [
      "c:\\Users\\Rakyan Prajnagra\\Documents\\Data Engineer\\GCP-DataEngineerLearningPath\\dev-env\\Lib\\site-packages\\google\\cloud\\bigquery\\job\\query.py:1799: UserWarning: A progress bar was requested, but there was an error loading the tqdm library. Please install tqdm to use the progress bar functionality.\n",
      "  query_result = wait_for_query(self, progress_bar_type, max_results=max_results)\n",
      "c:\\Users\\Rakyan Prajnagra\\Documents\\Data Engineer\\GCP-DataEngineerLearningPath\\dev-env\\Lib\\site-packages\\google\\cloud\\bigquery\\table.py:2155: UserWarning: A progress bar was requested, but there was an error loading the tqdm library. Please install tqdm to use the progress bar functionality.\n",
      "  record_batch = self.to_arrow(\n"
     ]
    },
    {
     "data": {
      "text/html": [
       "<div>\n",
       "<style scoped>\n",
       "    .dataframe tbody tr th:only-of-type {\n",
       "        vertical-align: middle;\n",
       "    }\n",
       "\n",
       "    .dataframe tbody tr th {\n",
       "        vertical-align: top;\n",
       "    }\n",
       "\n",
       "    .dataframe thead th {\n",
       "        text-align: right;\n",
       "    }\n",
       "</style>\n",
       "<table border=\"1\" class=\"dataframe\">\n",
       "  <thead>\n",
       "    <tr style=\"text-align: right;\">\n",
       "      <th></th>\n",
       "      <th>column_name</th>\n",
       "      <th>data_type</th>\n",
       "    </tr>\n",
       "  </thead>\n",
       "  <tbody>\n",
       "    <tr>\n",
       "      <th>0</th>\n",
       "      <td>participants</td>\n",
       "      <td>ARRAY&lt;STRUCT&lt;splits ARRAY&lt;FLOAT64&gt;, name STRING&gt;&gt;</td>\n",
       "    </tr>\n",
       "    <tr>\n",
       "      <th>1</th>\n",
       "      <td>race</td>\n",
       "      <td>STRING</td>\n",
       "    </tr>\n",
       "  </tbody>\n",
       "</table>\n",
       "</div>"
      ],
      "text/plain": [
       "    column_name                                          data_type\n",
       "0  participants  ARRAY<STRUCT<splits ARRAY<FLOAT64>, name STRING>>\n",
       "1          race                                             STRING"
      ]
     },
     "execution_count": 35,
     "metadata": {},
     "output_type": "execute_result"
    }
   ],
   "source": [
    "%%bigquery\n",
    "SELECT column_name, data_type\n",
    "FROM `racing.INFORMATION_SCHEMA.COLUMNS`\n",
    "WHERE table_name = 'race_results'\n",
    "ORDER BY ordinal_position"
   ]
  },
  {
   "cell_type": "markdown",
   "metadata": {},
   "source": [
    "The participant field is STRUCT. In BigQuery STRUCT is called RECORD. From the schema, which field is the array? the participants.splits is the answer.\n",
    "\n",
    "Let see our data in race_results table."
   ]
  },
  {
   "cell_type": "code",
   "execution_count": 25,
   "metadata": {},
   "outputs": [
    {
     "name": "stderr",
     "output_type": "stream",
     "text": [
      "c:\\Users\\Rakyan Prajnagra\\Documents\\Data Engineer\\GCP-DataEngineerLearningPath\\dev-env\\Lib\\site-packages\\google\\cloud\\bigquery\\job\\query.py:1799: UserWarning: A progress bar was requested, but there was an error loading the tqdm library. Please install tqdm to use the progress bar functionality.\n",
      "  query_result = wait_for_query(self, progress_bar_type, max_results=max_results)\n",
      "c:\\Users\\Rakyan Prajnagra\\Documents\\Data Engineer\\GCP-DataEngineerLearningPath\\dev-env\\Lib\\site-packages\\google\\cloud\\bigquery\\table.py:2155: UserWarning: A progress bar was requested, but there was an error loading the tqdm library. Please install tqdm to use the progress bar functionality.\n",
      "  record_batch = self.to_arrow(\n"
     ]
    },
    {
     "data": {
      "text/html": [
       "<div>\n",
       "<style scoped>\n",
       "    .dataframe tbody tr th:only-of-type {\n",
       "        vertical-align: middle;\n",
       "    }\n",
       "\n",
       "    .dataframe tbody tr th {\n",
       "        vertical-align: top;\n",
       "    }\n",
       "\n",
       "    .dataframe thead th {\n",
       "        text-align: right;\n",
       "    }\n",
       "</style>\n",
       "<table border=\"1\" class=\"dataframe\">\n",
       "  <thead>\n",
       "    <tr style=\"text-align: right;\">\n",
       "      <th></th>\n",
       "      <th>participants</th>\n",
       "      <th>race</th>\n",
       "    </tr>\n",
       "  </thead>\n",
       "  <tbody>\n",
       "    <tr>\n",
       "      <th>0</th>\n",
       "      <td>[{'splits': [23.4, 26.3, 26.4, 26.1], 'name': ...</td>\n",
       "      <td>800M</td>\n",
       "    </tr>\n",
       "  </tbody>\n",
       "</table>\n",
       "</div>"
      ],
      "text/plain": [
       "                                        participants  race\n",
       "0  [{'splits': [23.4, 26.3, 26.4, 26.1], 'name': ...  800M"
      ]
     },
     "execution_count": 25,
     "metadata": {},
     "output_type": "execute_result"
    }
   ],
   "source": [
    "%%bigquery\n",
    "SELECT * FROM racing.race_results"
   ]
  },
  {
   "cell_type": "markdown",
   "metadata": {},
   "source": [
    "There are some runners with the race time on 800m race.\n",
    "\n",
    "We can find the name of each runner by executing this query."
   ]
  },
  {
   "cell_type": "code",
   "execution_count": 28,
   "metadata": {},
   "outputs": [
    {
     "name": "stderr",
     "output_type": "stream",
     "text": [
      "c:\\Users\\Rakyan Prajnagra\\Documents\\Data Engineer\\GCP-DataEngineerLearningPath\\dev-env\\Lib\\site-packages\\google\\cloud\\bigquery\\job\\query.py:1799: UserWarning: A progress bar was requested, but there was an error loading the tqdm library. Please install tqdm to use the progress bar functionality.\n",
      "  query_result = wait_for_query(self, progress_bar_type, max_results=max_results)\n",
      "c:\\Users\\Rakyan Prajnagra\\Documents\\Data Engineer\\GCP-DataEngineerLearningPath\\dev-env\\Lib\\site-packages\\google\\cloud\\bigquery\\table.py:2155: UserWarning: A progress bar was requested, but there was an error loading the tqdm library. Please install tqdm to use the progress bar functionality.\n",
      "  record_batch = self.to_arrow(\n"
     ]
    },
    {
     "data": {
      "text/html": [
       "<div>\n",
       "<style scoped>\n",
       "    .dataframe tbody tr th:only-of-type {\n",
       "        vertical-align: middle;\n",
       "    }\n",
       "\n",
       "    .dataframe tbody tr th {\n",
       "        vertical-align: top;\n",
       "    }\n",
       "\n",
       "    .dataframe thead th {\n",
       "        text-align: right;\n",
       "    }\n",
       "</style>\n",
       "<table border=\"1\" class=\"dataframe\">\n",
       "  <thead>\n",
       "    <tr style=\"text-align: right;\">\n",
       "      <th></th>\n",
       "      <th>race</th>\n",
       "      <th>name</th>\n",
       "    </tr>\n",
       "  </thead>\n",
       "  <tbody>\n",
       "    <tr>\n",
       "      <th>0</th>\n",
       "      <td>800M</td>\n",
       "      <td>Rudisha</td>\n",
       "    </tr>\n",
       "    <tr>\n",
       "      <th>1</th>\n",
       "      <td>800M</td>\n",
       "      <td>Makhloufi</td>\n",
       "    </tr>\n",
       "    <tr>\n",
       "      <th>2</th>\n",
       "      <td>800M</td>\n",
       "      <td>Murphy</td>\n",
       "    </tr>\n",
       "    <tr>\n",
       "      <th>3</th>\n",
       "      <td>800M</td>\n",
       "      <td>Bosse</td>\n",
       "    </tr>\n",
       "    <tr>\n",
       "      <th>4</th>\n",
       "      <td>800M</td>\n",
       "      <td>Rotich</td>\n",
       "    </tr>\n",
       "    <tr>\n",
       "      <th>5</th>\n",
       "      <td>800M</td>\n",
       "      <td>Lewandowski</td>\n",
       "    </tr>\n",
       "    <tr>\n",
       "      <th>6</th>\n",
       "      <td>800M</td>\n",
       "      <td>Kipketer</td>\n",
       "    </tr>\n",
       "    <tr>\n",
       "      <th>7</th>\n",
       "      <td>800M</td>\n",
       "      <td>Berian</td>\n",
       "    </tr>\n",
       "  </tbody>\n",
       "</table>\n",
       "</div>"
      ],
      "text/plain": [
       "   race         name\n",
       "0  800M      Rudisha\n",
       "1  800M    Makhloufi\n",
       "2  800M       Murphy\n",
       "3  800M        Bosse\n",
       "4  800M       Rotich\n",
       "5  800M  Lewandowski\n",
       "6  800M     Kipketer\n",
       "7  800M       Berian"
      ]
     },
     "execution_count": 28,
     "metadata": {},
     "output_type": "execute_result"
    }
   ],
   "source": [
    "%%bigquery\n",
    "SELECT race, participants.name\n",
    "FROM racing.race_results\n",
    "CROSS JOIN\n",
    "race_results.participants"
   ]
  },
  {
   "cell_type": "markdown",
   "metadata": {},
   "source": [
    "We can modify the query by replacing CROSS JOIN with a comma."
   ]
  },
  {
   "cell_type": "code",
   "execution_count": 29,
   "metadata": {},
   "outputs": [
    {
     "name": "stderr",
     "output_type": "stream",
     "text": [
      "c:\\Users\\Rakyan Prajnagra\\Documents\\Data Engineer\\GCP-DataEngineerLearningPath\\dev-env\\Lib\\site-packages\\google\\cloud\\bigquery\\job\\query.py:1799: UserWarning: A progress bar was requested, but there was an error loading the tqdm library. Please install tqdm to use the progress bar functionality.\n",
      "  query_result = wait_for_query(self, progress_bar_type, max_results=max_results)\n",
      "c:\\Users\\Rakyan Prajnagra\\Documents\\Data Engineer\\GCP-DataEngineerLearningPath\\dev-env\\Lib\\site-packages\\google\\cloud\\bigquery\\table.py:2155: UserWarning: A progress bar was requested, but there was an error loading the tqdm library. Please install tqdm to use the progress bar functionality.\n",
      "  record_batch = self.to_arrow(\n"
     ]
    },
    {
     "data": {
      "text/html": [
       "<div>\n",
       "<style scoped>\n",
       "    .dataframe tbody tr th:only-of-type {\n",
       "        vertical-align: middle;\n",
       "    }\n",
       "\n",
       "    .dataframe tbody tr th {\n",
       "        vertical-align: top;\n",
       "    }\n",
       "\n",
       "    .dataframe thead th {\n",
       "        text-align: right;\n",
       "    }\n",
       "</style>\n",
       "<table border=\"1\" class=\"dataframe\">\n",
       "  <thead>\n",
       "    <tr style=\"text-align: right;\">\n",
       "      <th></th>\n",
       "      <th>race</th>\n",
       "      <th>name</th>\n",
       "    </tr>\n",
       "  </thead>\n",
       "  <tbody>\n",
       "    <tr>\n",
       "      <th>0</th>\n",
       "      <td>800M</td>\n",
       "      <td>Rudisha</td>\n",
       "    </tr>\n",
       "    <tr>\n",
       "      <th>1</th>\n",
       "      <td>800M</td>\n",
       "      <td>Makhloufi</td>\n",
       "    </tr>\n",
       "    <tr>\n",
       "      <th>2</th>\n",
       "      <td>800M</td>\n",
       "      <td>Murphy</td>\n",
       "    </tr>\n",
       "    <tr>\n",
       "      <th>3</th>\n",
       "      <td>800M</td>\n",
       "      <td>Bosse</td>\n",
       "    </tr>\n",
       "    <tr>\n",
       "      <th>4</th>\n",
       "      <td>800M</td>\n",
       "      <td>Rotich</td>\n",
       "    </tr>\n",
       "    <tr>\n",
       "      <th>5</th>\n",
       "      <td>800M</td>\n",
       "      <td>Lewandowski</td>\n",
       "    </tr>\n",
       "    <tr>\n",
       "      <th>6</th>\n",
       "      <td>800M</td>\n",
       "      <td>Kipketer</td>\n",
       "    </tr>\n",
       "    <tr>\n",
       "      <th>7</th>\n",
       "      <td>800M</td>\n",
       "      <td>Berian</td>\n",
       "    </tr>\n",
       "  </tbody>\n",
       "</table>\n",
       "</div>"
      ],
      "text/plain": [
       "   race         name\n",
       "0  800M      Rudisha\n",
       "1  800M    Makhloufi\n",
       "2  800M       Murphy\n",
       "3  800M        Bosse\n",
       "4  800M       Rotich\n",
       "5  800M  Lewandowski\n",
       "6  800M     Kipketer\n",
       "7  800M       Berian"
      ]
     },
     "execution_count": 29,
     "metadata": {},
     "output_type": "execute_result"
    }
   ],
   "source": [
    "%%bigquery\n",
    "SELECT race, participants.name\n",
    "FROM racing.race_results AS r, r.participants"
   ]
  },
  {
   "cell_type": "markdown",
   "metadata": {},
   "source": [
    "It shows the same result.\n",
    "\n",
    "Use COUNT syntax to know how many runner take a part in this race."
   ]
  },
  {
   "cell_type": "code",
   "execution_count": 31,
   "metadata": {},
   "outputs": [
    {
     "name": "stderr",
     "output_type": "stream",
     "text": [
      "c:\\Users\\Rakyan Prajnagra\\Documents\\Data Engineer\\GCP-DataEngineerLearningPath\\dev-env\\Lib\\site-packages\\google\\cloud\\bigquery\\job\\query.py:1799: UserWarning: A progress bar was requested, but there was an error loading the tqdm library. Please install tqdm to use the progress bar functionality.\n",
      "  query_result = wait_for_query(self, progress_bar_type, max_results=max_results)\n",
      "c:\\Users\\Rakyan Prajnagra\\Documents\\Data Engineer\\GCP-DataEngineerLearningPath\\dev-env\\Lib\\site-packages\\google\\cloud\\bigquery\\table.py:2155: UserWarning: A progress bar was requested, but there was an error loading the tqdm library. Please install tqdm to use the progress bar functionality.\n",
      "  record_batch = self.to_arrow(\n"
     ]
    },
    {
     "data": {
      "text/html": [
       "<div>\n",
       "<style scoped>\n",
       "    .dataframe tbody tr th:only-of-type {\n",
       "        vertical-align: middle;\n",
       "    }\n",
       "\n",
       "    .dataframe tbody tr th {\n",
       "        vertical-align: top;\n",
       "    }\n",
       "\n",
       "    .dataframe thead th {\n",
       "        text-align: right;\n",
       "    }\n",
       "</style>\n",
       "<table border=\"1\" class=\"dataframe\">\n",
       "  <thead>\n",
       "    <tr style=\"text-align: right;\">\n",
       "      <th></th>\n",
       "      <th>racer_count</th>\n",
       "    </tr>\n",
       "  </thead>\n",
       "  <tbody>\n",
       "    <tr>\n",
       "      <th>0</th>\n",
       "      <td>8</td>\n",
       "    </tr>\n",
       "  </tbody>\n",
       "</table>\n",
       "</div>"
      ],
      "text/plain": [
       "   racer_count\n",
       "0            8"
      ]
     },
     "execution_count": 31,
     "metadata": {},
     "output_type": "execute_result"
    }
   ],
   "source": [
    "%%bigquery\n",
    "SELECT COUNT(p.name) AS racer_count\n",
    "FROM racing.race_results AS r, UNNEST(r.participants) AS p"
   ]
  },
  {
   "cell_type": "markdown",
   "metadata": {},
   "source": [
    "There are 8 runner on 800m race.\n",
    "\n",
    "Lets go deeper. We want to list the total race time for racers whose names begin with R."
   ]
  },
  {
   "cell_type": "code",
   "execution_count": 33,
   "metadata": {},
   "outputs": [
    {
     "name": "stderr",
     "output_type": "stream",
     "text": [
      "c:\\Users\\Rakyan Prajnagra\\Documents\\Data Engineer\\GCP-DataEngineerLearningPath\\dev-env\\Lib\\site-packages\\google\\cloud\\bigquery\\job\\query.py:1799: UserWarning: A progress bar was requested, but there was an error loading the tqdm library. Please install tqdm to use the progress bar functionality.\n",
      "  query_result = wait_for_query(self, progress_bar_type, max_results=max_results)\n",
      "c:\\Users\\Rakyan Prajnagra\\Documents\\Data Engineer\\GCP-DataEngineerLearningPath\\dev-env\\Lib\\site-packages\\google\\cloud\\bigquery\\table.py:2155: UserWarning: A progress bar was requested, but there was an error loading the tqdm library. Please install tqdm to use the progress bar functionality.\n",
      "  record_batch = self.to_arrow(\n"
     ]
    },
    {
     "data": {
      "text/html": [
       "<div>\n",
       "<style scoped>\n",
       "    .dataframe tbody tr th:only-of-type {\n",
       "        vertical-align: middle;\n",
       "    }\n",
       "\n",
       "    .dataframe tbody tr th {\n",
       "        vertical-align: top;\n",
       "    }\n",
       "\n",
       "    .dataframe thead th {\n",
       "        text-align: right;\n",
       "    }\n",
       "</style>\n",
       "<table border=\"1\" class=\"dataframe\">\n",
       "  <thead>\n",
       "    <tr style=\"text-align: right;\">\n",
       "      <th></th>\n",
       "      <th>name</th>\n",
       "      <th>total_race_time</th>\n",
       "    </tr>\n",
       "  </thead>\n",
       "  <tbody>\n",
       "    <tr>\n",
       "      <th>0</th>\n",
       "      <td>Rudisha</td>\n",
       "      <td>102.2</td>\n",
       "    </tr>\n",
       "    <tr>\n",
       "      <th>1</th>\n",
       "      <td>Rotich</td>\n",
       "      <td>103.6</td>\n",
       "    </tr>\n",
       "  </tbody>\n",
       "</table>\n",
       "</div>"
      ],
      "text/plain": [
       "      name  total_race_time\n",
       "0  Rudisha            102.2\n",
       "1   Rotich            103.6"
      ]
     },
     "execution_count": 33,
     "metadata": {},
     "output_type": "execute_result"
    }
   ],
   "source": [
    "%%bigquery\n",
    "SELECT\n",
    "  p.name,\n",
    "  SUM(split_times) as total_race_time\n",
    "FROM racing.race_results AS r\n",
    ", UNNEST(r.participants) AS p\n",
    ", UNNEST(p.splits) AS split_times\n",
    "WHERE p.name LIKE 'R%'\n",
    "GROUP BY p.name\n",
    "ORDER BY total_race_time ASC"
   ]
  },
  {
   "cell_type": "markdown",
   "metadata": {},
   "source": [
    "There are 2 runner name begin with R. To do this query we have to unpacking the array with UNNEST().\n",
    "\n",
    "We can filter the data array data type. Check the query below"
   ]
  },
  {
   "cell_type": "code",
   "execution_count": 34,
   "metadata": {},
   "outputs": [
    {
     "name": "stderr",
     "output_type": "stream",
     "text": [
      "c:\\Users\\Rakyan Prajnagra\\Documents\\Data Engineer\\GCP-DataEngineerLearningPath\\dev-env\\Lib\\site-packages\\google\\cloud\\bigquery\\job\\query.py:1799: UserWarning: A progress bar was requested, but there was an error loading the tqdm library. Please install tqdm to use the progress bar functionality.\n",
      "  query_result = wait_for_query(self, progress_bar_type, max_results=max_results)\n",
      "c:\\Users\\Rakyan Prajnagra\\Documents\\Data Engineer\\GCP-DataEngineerLearningPath\\dev-env\\Lib\\site-packages\\google\\cloud\\bigquery\\table.py:2155: UserWarning: A progress bar was requested, but there was an error loading the tqdm library. Please install tqdm to use the progress bar functionality.\n",
      "  record_batch = self.to_arrow(\n"
     ]
    },
    {
     "data": {
      "text/html": [
       "<div>\n",
       "<style scoped>\n",
       "    .dataframe tbody tr th:only-of-type {\n",
       "        vertical-align: middle;\n",
       "    }\n",
       "\n",
       "    .dataframe tbody tr th {\n",
       "        vertical-align: top;\n",
       "    }\n",
       "\n",
       "    .dataframe thead th {\n",
       "        text-align: right;\n",
       "    }\n",
       "</style>\n",
       "<table border=\"1\" class=\"dataframe\">\n",
       "  <thead>\n",
       "    <tr style=\"text-align: right;\">\n",
       "      <th></th>\n",
       "      <th>name</th>\n",
       "      <th>split_time</th>\n",
       "    </tr>\n",
       "  </thead>\n",
       "  <tbody>\n",
       "    <tr>\n",
       "      <th>0</th>\n",
       "      <td>Kipketer</td>\n",
       "      <td>23.2</td>\n",
       "    </tr>\n",
       "  </tbody>\n",
       "</table>\n",
       "</div>"
      ],
      "text/plain": [
       "       name  split_time\n",
       "0  Kipketer        23.2"
      ]
     },
     "execution_count": 34,
     "metadata": {},
     "output_type": "execute_result"
    }
   ],
   "source": [
    "%%bigquery\n",
    "SELECT\n",
    "  p.name,\n",
    "  split_time\n",
    "FROM racing.race_results AS r\n",
    ", UNNEST(r.participants) AS p\n",
    ", UNNEST(p.splits) AS split_time\n",
    "WHERE split_time = 23.2;"
   ]
  }
 ],
 "metadata": {
  "kernelspec": {
   "display_name": "Python 3",
   "language": "python",
   "name": "python3"
  },
  "language_info": {
   "codemirror_mode": {
    "name": "ipython",
    "version": 3
   },
   "file_extension": ".py",
   "mimetype": "text/x-python",
   "name": "python",
   "nbconvert_exporter": "python",
   "pygments_lexer": "ipython3",
   "version": "3.11.4"
  },
  "orig_nbformat": 4
 },
 "nbformat": 4,
 "nbformat_minor": 2
}
