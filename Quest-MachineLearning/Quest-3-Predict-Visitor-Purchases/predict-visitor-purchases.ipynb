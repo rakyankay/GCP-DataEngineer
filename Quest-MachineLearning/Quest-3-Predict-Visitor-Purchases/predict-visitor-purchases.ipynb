{
 "cells": [
  {
   "cell_type": "markdown",
   "metadata": {},
   "source": [
    "# Predict Visitor Purchases with a Classification Model\n",
    "\n",
    "Build a Machine Learning model for a ecommerce business that would want to know about their customers purchasing habits."
   ]
  },
  {
   "cell_type": "markdown",
   "metadata": {},
   "source": [
    "### 1. Connecting BigQuery Jupyter Notebook\n",
    "\n",
    "Set environment variables for notebook to connect Bigquery"
   ]
  },
  {
   "cell_type": "code",
   "execution_count": 1,
   "metadata": {},
   "outputs": [],
   "source": [
    "import os \n",
    "os.environ['GOOGLE_APPLICATION_CREDENTIALS'] = 'C:/Users/Rakyan Prajnagra/Documents/Data Engineer/GCP-DataEngineerLearningPath/Quest-MachineLearning/Quest-3-Predict-Visitor-Purchases/qwiklabs-gcp-01-acfb5f19a1a7-6583f36c2676.json'"
   ]
  },
  {
   "cell_type": "markdown",
   "metadata": {},
   "source": [
    "Load the BigQuery client library by executing the command below"
   ]
  },
  {
   "cell_type": "code",
   "execution_count": 2,
   "metadata": {},
   "outputs": [],
   "source": [
    "%load_ext google.cloud.bigquery"
   ]
  },
  {
   "cell_type": "markdown",
   "metadata": {},
   "source": [
    "### 2. Explore Google Merchandise Store Data\n",
    "\n",
    "Before build a model, we want to identify ecommerce business data which is Google Merchanidse Store in BigQuery.\n",
    "\n",
    "The data is in the web_analytics table on the ecommerce dataset. First check the schema of our table."
   ]
  },
  {
   "cell_type": "code",
   "execution_count": 4,
   "metadata": {},
   "outputs": [
    {
     "data": {
      "application/vnd.jupyter.widget-view+json": {
       "model_id": "03dca60ac26e4852aea09adc62100a92",
       "version_major": 2,
       "version_minor": 0
      },
      "text/plain": [
       "Query is running:   0%|          |"
      ]
     },
     "metadata": {},
     "output_type": "display_data"
    },
    {
     "data": {
      "application/vnd.jupyter.widget-view+json": {
       "model_id": "6ef845d179fd4b25a0e5f314b064cd36",
       "version_major": 2,
       "version_minor": 0
      },
      "text/plain": [
       "Downloading:   0%|          |"
      ]
     },
     "metadata": {},
     "output_type": "display_data"
    },
    {
     "data": {
      "text/html": [
       "<div>\n",
       "<style scoped>\n",
       "    .dataframe tbody tr th:only-of-type {\n",
       "        vertical-align: middle;\n",
       "    }\n",
       "\n",
       "    .dataframe tbody tr th {\n",
       "        vertical-align: top;\n",
       "    }\n",
       "\n",
       "    .dataframe thead th {\n",
       "        text-align: right;\n",
       "    }\n",
       "</style>\n",
       "<table border=\"1\" class=\"dataframe\">\n",
       "  <thead>\n",
       "    <tr style=\"text-align: right;\">\n",
       "      <th></th>\n",
       "      <th>column_name</th>\n",
       "      <th>data_type</th>\n",
       "    </tr>\n",
       "  </thead>\n",
       "  <tbody>\n",
       "    <tr>\n",
       "      <th>0</th>\n",
       "      <td>visitorId</td>\n",
       "      <td>INT64</td>\n",
       "    </tr>\n",
       "    <tr>\n",
       "      <th>1</th>\n",
       "      <td>visitNumber</td>\n",
       "      <td>INT64</td>\n",
       "    </tr>\n",
       "    <tr>\n",
       "      <th>2</th>\n",
       "      <td>visitId</td>\n",
       "      <td>INT64</td>\n",
       "    </tr>\n",
       "    <tr>\n",
       "      <th>3</th>\n",
       "      <td>visitStartTime</td>\n",
       "      <td>INT64</td>\n",
       "    </tr>\n",
       "    <tr>\n",
       "      <th>4</th>\n",
       "      <td>date</td>\n",
       "      <td>STRING</td>\n",
       "    </tr>\n",
       "    <tr>\n",
       "      <th>5</th>\n",
       "      <td>totals</td>\n",
       "      <td>STRUCT&lt;visits INT64, hits INT64, pageviews INT...</td>\n",
       "    </tr>\n",
       "    <tr>\n",
       "      <th>6</th>\n",
       "      <td>trafficSource</td>\n",
       "      <td>STRUCT&lt;referralPath STRING, campaign STRING, s...</td>\n",
       "    </tr>\n",
       "    <tr>\n",
       "      <th>7</th>\n",
       "      <td>device</td>\n",
       "      <td>STRUCT&lt;browser STRING, browserVersion STRING, ...</td>\n",
       "    </tr>\n",
       "    <tr>\n",
       "      <th>8</th>\n",
       "      <td>geoNetwork</td>\n",
       "      <td>STRUCT&lt;continent STRING, subContinent STRING, ...</td>\n",
       "    </tr>\n",
       "    <tr>\n",
       "      <th>9</th>\n",
       "      <td>customDimensions</td>\n",
       "      <td>ARRAY&lt;STRUCT&lt;index INT64, value STRING&gt;&gt;</td>\n",
       "    </tr>\n",
       "    <tr>\n",
       "      <th>10</th>\n",
       "      <td>hits</td>\n",
       "      <td>ARRAY&lt;STRUCT&lt;hitNumber INT64, time INT64, hour...</td>\n",
       "    </tr>\n",
       "    <tr>\n",
       "      <th>11</th>\n",
       "      <td>fullVisitorId</td>\n",
       "      <td>STRING</td>\n",
       "    </tr>\n",
       "    <tr>\n",
       "      <th>12</th>\n",
       "      <td>userId</td>\n",
       "      <td>STRING</td>\n",
       "    </tr>\n",
       "    <tr>\n",
       "      <th>13</th>\n",
       "      <td>channelGrouping</td>\n",
       "      <td>STRING</td>\n",
       "    </tr>\n",
       "    <tr>\n",
       "      <th>14</th>\n",
       "      <td>socialEngagementType</td>\n",
       "      <td>STRING</td>\n",
       "    </tr>\n",
       "  </tbody>\n",
       "</table>\n",
       "</div>"
      ],
      "text/plain": [
       "             column_name                                          data_type\n",
       "0              visitorId                                              INT64\n",
       "1            visitNumber                                              INT64\n",
       "2                visitId                                              INT64\n",
       "3         visitStartTime                                              INT64\n",
       "4                   date                                             STRING\n",
       "5                 totals  STRUCT<visits INT64, hits INT64, pageviews INT...\n",
       "6          trafficSource  STRUCT<referralPath STRING, campaign STRING, s...\n",
       "7                 device  STRUCT<browser STRING, browserVersion STRING, ...\n",
       "8             geoNetwork  STRUCT<continent STRING, subContinent STRING, ...\n",
       "9       customDimensions           ARRAY<STRUCT<index INT64, value STRING>>\n",
       "10                  hits  ARRAY<STRUCT<hitNumber INT64, time INT64, hour...\n",
       "11         fullVisitorId                                             STRING\n",
       "12                userId                                             STRING\n",
       "13       channelGrouping                                             STRING\n",
       "14  socialEngagementType                                             STRING"
      ]
     },
     "execution_count": 4,
     "metadata": {},
     "output_type": "execute_result"
    }
   ],
   "source": [
    "%%bigquery\n",
    "SELECT column_name, data_type\n",
    "FROM `data-to-insights.ecommerce.INFORMATION_SCHEMA.COLUMNS`\n",
    "WHERE table_name = 'web_analytics'\n",
    "ORDER BY ordinal_position"
   ]
  },
  {
   "cell_type": "markdown",
   "metadata": {},
   "source": [
    "Some field has Array and Struct data type. We want to be careful about this data type.\n",
    "\n",
    "Now try to find how much visitors who made a purchases."
   ]
  },
  {
   "cell_type": "code",
   "execution_count": 5,
   "metadata": {},
   "outputs": [
    {
     "data": {
      "application/vnd.jupyter.widget-view+json": {
       "model_id": "1a3531c2e93c48139b8ec19a6f5cae27",
       "version_major": 2,
       "version_minor": 0
      },
      "text/plain": [
       "Query is running:   0%|          |"
      ]
     },
     "metadata": {},
     "output_type": "display_data"
    },
    {
     "data": {
      "application/vnd.jupyter.widget-view+json": {
       "model_id": "5a9f543088914ff3ad631cf879f3d95e",
       "version_major": 2,
       "version_minor": 0
      },
      "text/plain": [
       "Downloading:   0%|          |"
      ]
     },
     "metadata": {},
     "output_type": "display_data"
    },
    {
     "data": {
      "text/html": [
       "<div>\n",
       "<style scoped>\n",
       "    .dataframe tbody tr th:only-of-type {\n",
       "        vertical-align: middle;\n",
       "    }\n",
       "\n",
       "    .dataframe tbody tr th {\n",
       "        vertical-align: top;\n",
       "    }\n",
       "\n",
       "    .dataframe thead th {\n",
       "        text-align: right;\n",
       "    }\n",
       "</style>\n",
       "<table border=\"1\" class=\"dataframe\">\n",
       "  <thead>\n",
       "    <tr style=\"text-align: right;\">\n",
       "      <th></th>\n",
       "      <th>total_visitors</th>\n",
       "      <th>total_purchasers</th>\n",
       "      <th>conversion_rate</th>\n",
       "    </tr>\n",
       "  </thead>\n",
       "  <tbody>\n",
       "    <tr>\n",
       "      <th>0</th>\n",
       "      <td>741721</td>\n",
       "      <td>20015</td>\n",
       "      <td>0.026985</td>\n",
       "    </tr>\n",
       "  </tbody>\n",
       "</table>\n",
       "</div>"
      ],
      "text/plain": [
       "   total_visitors  total_purchasers  conversion_rate\n",
       "0          741721             20015         0.026985"
      ]
     },
     "execution_count": 5,
     "metadata": {},
     "output_type": "execute_result"
    }
   ],
   "source": [
    "%%bigquery\n",
    "WITH visitors AS(\n",
    "  SELECT\n",
    "  COUNT(DISTINCT fullVisitorId) AS total_visitors\n",
    "  FROM `data-to-insights.ecommerce.web_analytics`),\n",
    "purchasers AS(\n",
    "  SELECT\n",
    "  COUNT(DISTINCT fullVisitorId) AS total_purchasers\n",
    "  FROM `data-to-insights.ecommerce.web_analytics`\n",
    "  WHERE totals.transactions IS NOT NULL)\n",
    "SELECT\n",
    "  total_visitors,\n",
    "  total_purchasers,\n",
    "  total_purchasers / total_visitors AS conversion_rate\n",
    "FROM visitors, purchasers"
   ]
  },
  {
   "cell_type": "markdown",
   "metadata": {},
   "source": [
    "From all the visitors who visit the webiste, only 2,69% visitors made a purchases.\n",
    "\n",
    "Let's check the top 5 selling products on the webiste."
   ]
  },
  {
   "cell_type": "code",
   "execution_count": 6,
   "metadata": {},
   "outputs": [
    {
     "data": {
      "application/vnd.jupyter.widget-view+json": {
       "model_id": "ce27b15f2529426289d1ddda26bb2e1d",
       "version_major": 2,
       "version_minor": 0
      },
      "text/plain": [
       "Query is running:   0%|          |"
      ]
     },
     "metadata": {},
     "output_type": "display_data"
    },
    {
     "data": {
      "application/vnd.jupyter.widget-view+json": {
       "model_id": "cf0549033d0648708bac91056cbacb64",
       "version_major": 2,
       "version_minor": 0
      },
      "text/plain": [
       "Downloading:   0%|          |"
      ]
     },
     "metadata": {},
     "output_type": "display_data"
    },
    {
     "data": {
      "text/html": [
       "<div>\n",
       "<style scoped>\n",
       "    .dataframe tbody tr th:only-of-type {\n",
       "        vertical-align: middle;\n",
       "    }\n",
       "\n",
       "    .dataframe tbody tr th {\n",
       "        vertical-align: top;\n",
       "    }\n",
       "\n",
       "    .dataframe thead th {\n",
       "        text-align: right;\n",
       "    }\n",
       "</style>\n",
       "<table border=\"1\" class=\"dataframe\">\n",
       "  <thead>\n",
       "    <tr style=\"text-align: right;\">\n",
       "      <th></th>\n",
       "      <th>v2ProductName</th>\n",
       "      <th>v2ProductCategory</th>\n",
       "      <th>units_sold</th>\n",
       "      <th>revenue</th>\n",
       "    </tr>\n",
       "  </thead>\n",
       "  <tbody>\n",
       "    <tr>\n",
       "      <th>0</th>\n",
       "      <td>Nest® Learning Thermostat 3rd Gen-USA - Stainl...</td>\n",
       "      <td>Nest-USA</td>\n",
       "      <td>17651</td>\n",
       "      <td>870976.95</td>\n",
       "    </tr>\n",
       "    <tr>\n",
       "      <th>1</th>\n",
       "      <td>Nest® Cam Outdoor Security Camera - USA</td>\n",
       "      <td>Nest-USA</td>\n",
       "      <td>16930</td>\n",
       "      <td>684034.55</td>\n",
       "    </tr>\n",
       "    <tr>\n",
       "      <th>2</th>\n",
       "      <td>Nest® Cam Indoor Security Camera - USA</td>\n",
       "      <td>Nest-USA</td>\n",
       "      <td>14155</td>\n",
       "      <td>548104.47</td>\n",
       "    </tr>\n",
       "    <tr>\n",
       "      <th>3</th>\n",
       "      <td>Nest® Protect Smoke + CO White Wired Alarm-USA</td>\n",
       "      <td>Nest-USA</td>\n",
       "      <td>6394</td>\n",
       "      <td>178937.60</td>\n",
       "    </tr>\n",
       "    <tr>\n",
       "      <th>4</th>\n",
       "      <td>Nest® Protect Smoke + CO White Battery Alarm-USA</td>\n",
       "      <td>Nest-USA</td>\n",
       "      <td>6340</td>\n",
       "      <td>178572.40</td>\n",
       "    </tr>\n",
       "  </tbody>\n",
       "</table>\n",
       "</div>"
      ],
      "text/plain": [
       "                                       v2ProductName v2ProductCategory  \\\n",
       "0  Nest® Learning Thermostat 3rd Gen-USA - Stainl...          Nest-USA   \n",
       "1            Nest® Cam Outdoor Security Camera - USA          Nest-USA   \n",
       "2             Nest® Cam Indoor Security Camera - USA          Nest-USA   \n",
       "3     Nest® Protect Smoke + CO White Wired Alarm-USA          Nest-USA   \n",
       "4   Nest® Protect Smoke + CO White Battery Alarm-USA          Nest-USA   \n",
       "\n",
       "   units_sold    revenue  \n",
       "0       17651  870976.95  \n",
       "1       16930  684034.55  \n",
       "2       14155  548104.47  \n",
       "3        6394  178937.60  \n",
       "4        6340  178572.40  "
      ]
     },
     "execution_count": 6,
     "metadata": {},
     "output_type": "execute_result"
    }
   ],
   "source": [
    "%%bigquery\n",
    "SELECT\n",
    "  p.v2ProductName,\n",
    "  p.v2ProductCategory,\n",
    "  SUM(p.productQuantity) AS units_sold,\n",
    "  ROUND(SUM(p.localProductRevenue/1000000),2) AS revenue\n",
    "FROM `data-to-insights.ecommerce.web_analytics`,\n",
    "UNNEST(hits) AS h,\n",
    "UNNEST(h.product) AS p\n",
    "GROUP BY 1, 2\n",
    "ORDER BY revenue DESC\n",
    "LIMIT 5"
   ]
  },
  {
   "cell_type": "markdown",
   "metadata": {},
   "source": [
    "Nest-USA dominates the top selling product.\n",
    "\n",
    "We want to know how many visitors bought on subsequent visits to the website?"
   ]
  },
  {
   "cell_type": "code",
   "execution_count": 8,
   "metadata": {},
   "outputs": [
    {
     "data": {
      "application/vnd.jupyter.widget-view+json": {
       "model_id": "9e57ee7df2eb4181988b6305e23b4666",
       "version_major": 2,
       "version_minor": 0
      },
      "text/plain": [
       "Query is running:   0%|          |"
      ]
     },
     "metadata": {},
     "output_type": "display_data"
    },
    {
     "data": {
      "application/vnd.jupyter.widget-view+json": {
       "model_id": "eaa373680b1949bdb7b383c3ec4a211a",
       "version_major": 2,
       "version_minor": 0
      },
      "text/plain": [
       "Downloading:   0%|          |"
      ]
     },
     "metadata": {},
     "output_type": "display_data"
    },
    {
     "data": {
      "text/html": [
       "<div>\n",
       "<style scoped>\n",
       "    .dataframe tbody tr th:only-of-type {\n",
       "        vertical-align: middle;\n",
       "    }\n",
       "\n",
       "    .dataframe tbody tr th {\n",
       "        vertical-align: top;\n",
       "    }\n",
       "\n",
       "    .dataframe thead th {\n",
       "        text-align: right;\n",
       "    }\n",
       "</style>\n",
       "<table border=\"1\" class=\"dataframe\">\n",
       "  <thead>\n",
       "    <tr style=\"text-align: right;\">\n",
       "      <th></th>\n",
       "      <th>total_visitors</th>\n",
       "      <th>will_buy_on_return_visit</th>\n",
       "    </tr>\n",
       "  </thead>\n",
       "  <tbody>\n",
       "    <tr>\n",
       "      <th>0</th>\n",
       "      <td>729848</td>\n",
       "      <td>0</td>\n",
       "    </tr>\n",
       "    <tr>\n",
       "      <th>1</th>\n",
       "      <td>11873</td>\n",
       "      <td>1</td>\n",
       "    </tr>\n",
       "  </tbody>\n",
       "</table>\n",
       "</div>"
      ],
      "text/plain": [
       "   total_visitors  will_buy_on_return_visit\n",
       "0          729848                         0\n",
       "1           11873                         1"
      ]
     },
     "execution_count": 8,
     "metadata": {},
     "output_type": "execute_result"
    }
   ],
   "source": [
    "%%bigquery\n",
    "WITH all_visitor_stats AS(\n",
    "  SELECT\n",
    "    fullvisitorid,\n",
    "    IF(COUNTIF(totals.transactions > 0 AND totals.newVisits IS NULL) > 0, 1, 0) AS will_buy_on_return_visit\n",
    "  FROM `data-to-insights.ecommerce.web_analytics`\n",
    "  GROUP BY fullvisitorid)\n",
    "SELECT\n",
    "  COUNT(DISTINCT fullvisitorid) AS total_visitors,\n",
    "  will_buy_on_return_visit\n",
    "FROM all_visitor_stats\n",
    "GROUP BY will_buy_on_return_visit"
   ]
  },
  {
   "cell_type": "markdown",
   "metadata": {},
   "source": [
    "After we analyze the result, 1,6% of total visitors will return and purchase on the website. This includes the subset of visitors who bought on their very first session and then came back and bought again. The reason that might happen is the visitors need to compare the price with the other ecommerce.\n",
    "\n",
    "Our objective is to predict whether or not a new user is likely to purchase in the future. Identify this user can help marketing team to targeting a promotion or ad campaign.\n",
    "\n",
    "Now time to select useful features that will help a machine learning model understand the relationship between data about a visitor's first time on your website and whether they will return and make a purchase. Test these 2 fields are good inputs or not.\n",
    "1. Whether the visitor left the website immediately (`bounces`)\n",
    "2. How long the visitor was on our website (`time_on_site`)\n",
    "\n",
    "The label that we will use is `will_buy_on_result`."
   ]
  },
  {
   "cell_type": "code",
   "execution_count": 9,
   "metadata": {},
   "outputs": [
    {
     "data": {
      "application/vnd.jupyter.widget-view+json": {
       "model_id": "545c849dbe104065ba2f7fa671853cdd",
       "version_major": 2,
       "version_minor": 0
      },
      "text/plain": [
       "Query is running:   0%|          |"
      ]
     },
     "metadata": {},
     "output_type": "display_data"
    },
    {
     "data": {
      "application/vnd.jupyter.widget-view+json": {
       "model_id": "5e43d1aea003475f9969cbc3115feff2",
       "version_major": 2,
       "version_minor": 0
      },
      "text/plain": [
       "Downloading:   0%|          |"
      ]
     },
     "metadata": {},
     "output_type": "display_data"
    },
    {
     "data": {
      "text/html": [
       "<div>\n",
       "<style scoped>\n",
       "    .dataframe tbody tr th:only-of-type {\n",
       "        vertical-align: middle;\n",
       "    }\n",
       "\n",
       "    .dataframe tbody tr th {\n",
       "        vertical-align: top;\n",
       "    }\n",
       "\n",
       "    .dataframe thead th {\n",
       "        text-align: right;\n",
       "    }\n",
       "</style>\n",
       "<table border=\"1\" class=\"dataframe\">\n",
       "  <thead>\n",
       "    <tr style=\"text-align: right;\">\n",
       "      <th></th>\n",
       "      <th>bounces</th>\n",
       "      <th>time_on_site</th>\n",
       "      <th>will_buy_on_return_visit</th>\n",
       "    </tr>\n",
       "  </thead>\n",
       "  <tbody>\n",
       "    <tr>\n",
       "      <th>0</th>\n",
       "      <td>0</td>\n",
       "      <td>15047</td>\n",
       "      <td>0</td>\n",
       "    </tr>\n",
       "    <tr>\n",
       "      <th>1</th>\n",
       "      <td>0</td>\n",
       "      <td>12136</td>\n",
       "      <td>0</td>\n",
       "    </tr>\n",
       "    <tr>\n",
       "      <th>2</th>\n",
       "      <td>0</td>\n",
       "      <td>11201</td>\n",
       "      <td>0</td>\n",
       "    </tr>\n",
       "    <tr>\n",
       "      <th>3</th>\n",
       "      <td>0</td>\n",
       "      <td>10046</td>\n",
       "      <td>0</td>\n",
       "    </tr>\n",
       "    <tr>\n",
       "      <th>4</th>\n",
       "      <td>0</td>\n",
       "      <td>9974</td>\n",
       "      <td>0</td>\n",
       "    </tr>\n",
       "    <tr>\n",
       "      <th>5</th>\n",
       "      <td>0</td>\n",
       "      <td>9564</td>\n",
       "      <td>0</td>\n",
       "    </tr>\n",
       "    <tr>\n",
       "      <th>6</th>\n",
       "      <td>0</td>\n",
       "      <td>9520</td>\n",
       "      <td>0</td>\n",
       "    </tr>\n",
       "    <tr>\n",
       "      <th>7</th>\n",
       "      <td>0</td>\n",
       "      <td>9275</td>\n",
       "      <td>1</td>\n",
       "    </tr>\n",
       "    <tr>\n",
       "      <th>8</th>\n",
       "      <td>0</td>\n",
       "      <td>9138</td>\n",
       "      <td>0</td>\n",
       "    </tr>\n",
       "    <tr>\n",
       "      <th>9</th>\n",
       "      <td>0</td>\n",
       "      <td>8872</td>\n",
       "      <td>0</td>\n",
       "    </tr>\n",
       "  </tbody>\n",
       "</table>\n",
       "</div>"
      ],
      "text/plain": [
       "   bounces  time_on_site  will_buy_on_return_visit\n",
       "0        0         15047                         0\n",
       "1        0         12136                         0\n",
       "2        0         11201                         0\n",
       "3        0         10046                         0\n",
       "4        0          9974                         0\n",
       "5        0          9564                         0\n",
       "6        0          9520                         0\n",
       "7        0          9275                         1\n",
       "8        0          9138                         0\n",
       "9        0          8872                         0"
      ]
     },
     "execution_count": 9,
     "metadata": {},
     "output_type": "execute_result"
    }
   ],
   "source": [
    "%%bigquery\n",
    "SELECT * EXCEPT(fullVisitorId)\n",
    "FROM(\n",
    "  SELECT\n",
    "    fullVisitorId,\n",
    "    IFNULL(totals.bounces, 0) AS bounces,\n",
    "    IFNULL(totals.timeOnSite, 0) AS time_on_site\n",
    "  FROM `data-to-insights.ecommerce.web_analytics`\n",
    "  WHERE totals.newVisits = 1)\n",
    "  JOIN(\n",
    "    SELECT\n",
    "      fullvisitorid,\n",
    "      IF(COUNTIF(totals.transactions > 0 AND totals.newVisits IS NULL) > 0, 1, 0) AS will_buy_on_return_visit\n",
    "    FROM `data-to-insights.ecommerce.web_analytics`\n",
    "    GROUP BY fullvisitorid)\n",
    "USING (fullVisitorId)\n",
    "ORDER BY time_on_site DESC\n",
    "LIMIT 10"
   ]
  },
  {
   "cell_type": "markdown",
   "metadata": {},
   "source": [
    "From the inital data results, out of the top 10 time_on_site, only 1 customer returned to buy. Which is not very promising. We can't tell this feature will be the good indicator before we train and evaluating the model."
   ]
  },
  {
   "cell_type": "markdown",
   "metadata": {},
   "source": [
    "### 3. Create a Model\n",
    "\n",
    "We have an information for the model that we explore before (the features and label). Try to create a model with our 2 feature.\n",
    "\n",
    "Create a dataset first to save our model and table that we use later to evaluating."
   ]
  },
  {
   "cell_type": "code",
   "execution_count": 10,
   "metadata": {},
   "outputs": [
    {
     "data": {
      "application/vnd.jupyter.widget-view+json": {
       "model_id": "e27e205a9cfb48b0bd6bec45b3720e4c",
       "version_major": 2,
       "version_minor": 0
      },
      "text/plain": [
       "Query is running:   0%|          |"
      ]
     },
     "metadata": {},
     "output_type": "display_data"
    },
    {
     "data": {
      "text/html": [
       "<div>\n",
       "<style scoped>\n",
       "    .dataframe tbody tr th:only-of-type {\n",
       "        vertical-align: middle;\n",
       "    }\n",
       "\n",
       "    .dataframe tbody tr th {\n",
       "        vertical-align: top;\n",
       "    }\n",
       "\n",
       "    .dataframe thead th {\n",
       "        text-align: right;\n",
       "    }\n",
       "</style>\n",
       "<table border=\"1\" class=\"dataframe\">\n",
       "  <thead>\n",
       "    <tr style=\"text-align: right;\">\n",
       "      <th></th>\n",
       "    </tr>\n",
       "  </thead>\n",
       "  <tbody>\n",
       "  </tbody>\n",
       "</table>\n",
       "</div>"
      ],
      "text/plain": [
       "Empty DataFrame\n",
       "Columns: []\n",
       "Index: []"
      ]
     },
     "execution_count": 10,
     "metadata": {},
     "output_type": "execute_result"
    }
   ],
   "source": [
    "%%bigquery\n",
    "CREATE SCHEMA ecommerce"
   ]
  },
  {
   "cell_type": "markdown",
   "metadata": {},
   "source": [
    "Ecommerce dataset has been created.\n",
    "\n",
    "There are many model type used in machine learning. In order to building machine learning model, we have to choose the model type. Since we are bucketing visitors into \"will buy\" or \"will not buy\", we use `logictic_reg` in a classification model."
   ]
  },
  {
   "cell_type": "code",
   "execution_count": 11,
   "metadata": {},
   "outputs": [
    {
     "data": {
      "application/vnd.jupyter.widget-view+json": {
       "model_id": "4d070d1c6e524b66afb4d16d7d78affe",
       "version_major": 2,
       "version_minor": 0
      },
      "text/plain": [
       "Query is running:   0%|          |"
      ]
     },
     "metadata": {},
     "output_type": "display_data"
    },
    {
     "data": {
      "text/html": [
       "<div>\n",
       "<style scoped>\n",
       "    .dataframe tbody tr th:only-of-type {\n",
       "        vertical-align: middle;\n",
       "    }\n",
       "\n",
       "    .dataframe tbody tr th {\n",
       "        vertical-align: top;\n",
       "    }\n",
       "\n",
       "    .dataframe thead th {\n",
       "        text-align: right;\n",
       "    }\n",
       "</style>\n",
       "<table border=\"1\" class=\"dataframe\">\n",
       "  <thead>\n",
       "    <tr style=\"text-align: right;\">\n",
       "      <th></th>\n",
       "    </tr>\n",
       "  </thead>\n",
       "  <tbody>\n",
       "  </tbody>\n",
       "</table>\n",
       "</div>"
      ],
      "text/plain": [
       "Empty DataFrame\n",
       "Columns: []\n",
       "Index: []"
      ]
     },
     "execution_count": 11,
     "metadata": {},
     "output_type": "execute_result"
    }
   ],
   "source": [
    "%%bigquery\n",
    "CREATE OR REPLACE MODEL `ecommerce.classification_model`\n",
    "OPTIONS(\n",
    "    model_type='logistic_reg',\n",
    "    labels = ['will_buy_on_return_visit'])\n",
    "AS\n",
    "    SELECT * EXCEPT(fullVisitorId)\n",
    "    FROM(\n",
    "        SELECT\n",
    "            fullVisitorId,\n",
    "            IFNULL(totals.bounces, 0) AS bounces,\n",
    "            IFNULL(totals.timeOnSite, 0) AS time_on_site\n",
    "        FROM `data-to-insights.ecommerce.web_analytics`\n",
    "        WHERE \n",
    "            totals.newVisits = 1 AND \n",
    "            date BETWEEN '20160801' AND '20170430')\n",
    "    JOIN(\n",
    "        SELECT\n",
    "            fullvisitorid,\n",
    "            IF(COUNTIF(totals.transactions > 0 AND totals.newVisits IS NULL) > 0, 1, 0) AS will_buy_on_return_visit\n",
    "        FROM `data-to-insights.ecommerce.web_analytics`\n",
    "        GROUP BY fullvisitorid)\n",
    "    USING (fullVisitorId)"
   ]
  },
  {
   "cell_type": "markdown",
   "metadata": {},
   "source": [
    "We are not using all the available data to train the model, because we need to save the rest of the data for evaluting and testing the model. We train only the first 9 months.\n",
    "\n",
    "After create a model, evaluate the performance of the model. In the classification model in ML, we want to minimize False Positive Rate and maximie True Positive Rate. Try to maximize the area under the curve (AUC)."
   ]
  },
  {
   "cell_type": "code",
   "execution_count": 12,
   "metadata": {},
   "outputs": [
    {
     "data": {
      "application/vnd.jupyter.widget-view+json": {
       "model_id": "4d93785545ee42499b1d5f6064f7b466",
       "version_major": 2,
       "version_minor": 0
      },
      "text/plain": [
       "Query is running:   0%|          |"
      ]
     },
     "metadata": {},
     "output_type": "display_data"
    },
    {
     "data": {
      "application/vnd.jupyter.widget-view+json": {
       "model_id": "72d1a04806c24a448c99d9543637baf8",
       "version_major": 2,
       "version_minor": 0
      },
      "text/plain": [
       "Downloading:   0%|          |"
      ]
     },
     "metadata": {},
     "output_type": "display_data"
    },
    {
     "data": {
      "text/html": [
       "<div>\n",
       "<style scoped>\n",
       "    .dataframe tbody tr th:only-of-type {\n",
       "        vertical-align: middle;\n",
       "    }\n",
       "\n",
       "    .dataframe tbody tr th {\n",
       "        vertical-align: top;\n",
       "    }\n",
       "\n",
       "    .dataframe thead th {\n",
       "        text-align: right;\n",
       "    }\n",
       "</style>\n",
       "<table border=\"1\" class=\"dataframe\">\n",
       "  <thead>\n",
       "    <tr style=\"text-align: right;\">\n",
       "      <th></th>\n",
       "      <th>roc_auc</th>\n",
       "      <th>model_quality</th>\n",
       "    </tr>\n",
       "  </thead>\n",
       "  <tbody>\n",
       "    <tr>\n",
       "      <th>0</th>\n",
       "      <td>0.723834</td>\n",
       "      <td>decent</td>\n",
       "    </tr>\n",
       "  </tbody>\n",
       "</table>\n",
       "</div>"
      ],
      "text/plain": [
       "    roc_auc model_quality\n",
       "0  0.723834        decent"
      ]
     },
     "execution_count": 12,
     "metadata": {},
     "output_type": "execute_result"
    }
   ],
   "source": [
    "%%bigquery\n",
    "SELECT\n",
    "  roc_auc,\n",
    "  CASE\n",
    "    WHEN roc_auc > .9 THEN 'good'\n",
    "    WHEN roc_auc > .8 THEN 'fair'\n",
    "    WHEN roc_auc > .7 THEN 'decent'\n",
    "    WHEN roc_auc > .6 THEN 'not great'\n",
    "  ELSE 'poor' END AS model_quality\n",
    "FROM\n",
    "  ML.EVALUATE(MODEL ecommerce.classification_model, (\n",
    "    SELECT * EXCEPT(fullVisitorId)\n",
    "    FROM(\n",
    "      SELECT\n",
    "        fullVisitorId,\n",
    "        IFNULL(totals.bounces, 0) AS bounces,\n",
    "        IFNULL(totals.timeOnSite, 0) AS time_on_site\n",
    "      FROM `data-to-insights.ecommerce.web_analytics`\n",
    "      WHERE \n",
    "        totals.newVisits = 1 AND\n",
    "        date BETWEEN '20170501' AND '20170630')\n",
    "    JOIN(\n",
    "      SELECT\n",
    "      fullvisitorid,\n",
    "      IF(COUNTIF(totals.transactions > 0 AND totals.newVisits IS NULL) > 0, 1, 0) AS will_buy_on_return_visit\n",
    "      FROM `data-to-insights.ecommerce.web_analytics`\n",
    "    GROUP BY fullvisitorid)\n",
    "    USING (fullVisitorId)))"
   ]
  },
  {
   "cell_type": "markdown",
   "metadata": {},
   "source": [
    "We use the different data (Use the rest of data that didn't use on the training data) for evaluate the model. After evaluating, we got 0.72 for the roc_auc. It's not great. The goal is to get AUC close to 1.0. We have to improve our model.\n",
    "\n",
    "Improve model performace can be done by adding new features:\n",
    "1. How far the visitor got in the checkout process on their first visit\n",
    "2. Where the visitor came from\n",
    "3. Device category\n",
    "4. Geographic information"
   ]
  },
  {
   "cell_type": "code",
   "execution_count": 13,
   "metadata": {},
   "outputs": [
    {
     "data": {
      "application/vnd.jupyter.widget-view+json": {
       "model_id": "04739c48868b4709ba5334cb578b85d2",
       "version_major": 2,
       "version_minor": 0
      },
      "text/plain": [
       "Query is running:   0%|          |"
      ]
     },
     "metadata": {},
     "output_type": "display_data"
    },
    {
     "data": {
      "text/html": [
       "<div>\n",
       "<style scoped>\n",
       "    .dataframe tbody tr th:only-of-type {\n",
       "        vertical-align: middle;\n",
       "    }\n",
       "\n",
       "    .dataframe tbody tr th {\n",
       "        vertical-align: top;\n",
       "    }\n",
       "\n",
       "    .dataframe thead th {\n",
       "        text-align: right;\n",
       "    }\n",
       "</style>\n",
       "<table border=\"1\" class=\"dataframe\">\n",
       "  <thead>\n",
       "    <tr style=\"text-align: right;\">\n",
       "      <th></th>\n",
       "    </tr>\n",
       "  </thead>\n",
       "  <tbody>\n",
       "  </tbody>\n",
       "</table>\n",
       "</div>"
      ],
      "text/plain": [
       "Empty DataFrame\n",
       "Columns: []\n",
       "Index: []"
      ]
     },
     "execution_count": 13,
     "metadata": {},
     "output_type": "execute_result"
    }
   ],
   "source": [
    "%%bigquery\n",
    "CREATE OR REPLACE MODEL `ecommerce.classification_model_2`\n",
    "OPTIONS(\n",
    "  model_type='logistic_reg', labels = ['will_buy_on_return_visit']) \n",
    "AS\n",
    "  WITH all_visitor_stats AS(\n",
    "    SELECT\n",
    "      fullvisitorid,\n",
    "      IF(COUNTIF(totals.transactions > 0 AND totals.newVisits IS NULL) > 0, 1, 0) AS will_buy_on_return_visit\n",
    "    FROM `data-to-insights.ecommerce.web_analytics`\n",
    "    GROUP BY fullvisitorid)\n",
    "  SELECT * EXCEPT(unique_session_id) \n",
    "  FROM(\n",
    "    SELECT\n",
    "      CONCAT(fullvisitorid, CAST(visitId AS STRING)) AS unique_session_id,\n",
    "      will_buy_on_return_visit,\n",
    "      MAX(CAST(h.eCommerceAction.action_type AS INT64)) AS latest_ecommerce_progress,\n",
    "      IFNULL(totals.bounces, 0) AS bounces,\n",
    "      IFNULL(totals.timeOnSite, 0) AS time_on_site,\n",
    "      IFNULL(totals.pageviews, 0) AS pageviews,\n",
    "      trafficSource.source,\n",
    "      trafficSource.medium,\n",
    "      channelGrouping,\n",
    "      device.deviceCategory,\n",
    "      IFNULL(geoNetwork.country, \"\") AS country\n",
    "    FROM `data-to-insights.ecommerce.web_analytics`,\n",
    "    UNNEST(hits) AS h\n",
    "    JOIN all_visitor_stats USING(fullvisitorid)\n",
    "    WHERE \n",
    "      1=1 AND \n",
    "      totals.newVisits = 1 AND \n",
    "      date BETWEEN '20160801' AND '20170430'\n",
    "    GROUP BY\n",
    "      unique_session_id,\n",
    "      will_buy_on_return_visit,\n",
    "      bounces,\n",
    "      time_on_site,\n",
    "      totals.pageviews,\n",
    "      trafficSource.source,\n",
    "      trafficSource.medium,\n",
    "      channelGrouping,\n",
    "      device.deviceCategory,\n",
    "      country)"
   ]
  },
  {
   "cell_type": "markdown",
   "metadata": {},
   "source": [
    "We still training on the same first 9 months of data. Its because we want to compare the output of the model.\n",
    "\n",
    "Evaluate the performance of the second model."
   ]
  },
  {
   "cell_type": "code",
   "execution_count": 14,
   "metadata": {},
   "outputs": [
    {
     "data": {
      "application/vnd.jupyter.widget-view+json": {
       "model_id": "92d56b9f1db340a896f5c57273b08f9b",
       "version_major": 2,
       "version_minor": 0
      },
      "text/plain": [
       "Query is running:   0%|          |"
      ]
     },
     "metadata": {},
     "output_type": "display_data"
    },
    {
     "data": {
      "application/vnd.jupyter.widget-view+json": {
       "model_id": "2450966c9b9b46c9a4f2f73533a2c2c6",
       "version_major": 2,
       "version_minor": 0
      },
      "text/plain": [
       "Downloading:   0%|          |"
      ]
     },
     "metadata": {},
     "output_type": "display_data"
    },
    {
     "data": {
      "text/html": [
       "<div>\n",
       "<style scoped>\n",
       "    .dataframe tbody tr th:only-of-type {\n",
       "        vertical-align: middle;\n",
       "    }\n",
       "\n",
       "    .dataframe tbody tr th {\n",
       "        vertical-align: top;\n",
       "    }\n",
       "\n",
       "    .dataframe thead th {\n",
       "        text-align: right;\n",
       "    }\n",
       "</style>\n",
       "<table border=\"1\" class=\"dataframe\">\n",
       "  <thead>\n",
       "    <tr style=\"text-align: right;\">\n",
       "      <th></th>\n",
       "      <th>roc_auc</th>\n",
       "      <th>model_quality</th>\n",
       "    </tr>\n",
       "  </thead>\n",
       "  <tbody>\n",
       "    <tr>\n",
       "      <th>0</th>\n",
       "      <td>0.909458</td>\n",
       "      <td>good</td>\n",
       "    </tr>\n",
       "  </tbody>\n",
       "</table>\n",
       "</div>"
      ],
      "text/plain": [
       "    roc_auc model_quality\n",
       "0  0.909458          good"
      ]
     },
     "execution_count": 14,
     "metadata": {},
     "output_type": "execute_result"
    }
   ],
   "source": [
    "%%bigquery\n",
    "SELECT\n",
    "  roc_auc,\n",
    "  CASE\n",
    "    WHEN roc_auc > .9 THEN 'good'\n",
    "    WHEN roc_auc > .8 THEN 'fair'\n",
    "    WHEN roc_auc > .7 THEN 'decent'\n",
    "    WHEN roc_auc > .6 THEN 'not great'\n",
    "  ELSE 'poor' END AS model_quality\n",
    "FROM\n",
    "  ML.EVALUATE(MODEL ecommerce.classification_model_2, (\n",
    "    WITH all_visitor_stats AS (\n",
    "      SELECT\n",
    "        fullvisitorid,\n",
    "        IF(COUNTIF(totals.transactions > 0 AND totals.newVisits IS NULL) > 0, 1, 0) AS will_buy_on_return_visit\n",
    "      FROM `data-to-insights.ecommerce.web_analytics`\n",
    "      GROUP BY fullvisitorid)\n",
    "    SELECT * EXCEPT(unique_session_id)\n",
    "    FROM(\n",
    "        SELECT\n",
    "          CONCAT(fullvisitorid, CAST(visitId AS STRING)) AS unique_session_id,\n",
    "          will_buy_on_return_visit,\n",
    "          MAX(CAST(h.eCommerceAction.action_type AS INT64)) AS latest_ecommerce_progress,\n",
    "          IFNULL(totals.bounces, 0) AS bounces,\n",
    "          IFNULL(totals.timeOnSite, 0) AS time_on_site,\n",
    "          totals.pageviews,\n",
    "          trafficSource.source,\n",
    "          trafficSource.medium,\n",
    "          channelGrouping,\n",
    "          device.deviceCategory,\n",
    "          IFNULL(geoNetwork.country, \"\") AS country\n",
    "        FROM `data-to-insights.ecommerce.web_analytics`,\n",
    "        UNNEST(hits) AS h\n",
    "        JOIN all_visitor_stats USING(fullvisitorid)\n",
    "        WHERE \n",
    "          1=1 AND\n",
    "          totals.newVisits = 1 AND \n",
    "          date BETWEEN '20170501' AND '20170630'\n",
    "        GROUP BY\n",
    "          unique_session_id,\n",
    "          will_buy_on_return_visit,\n",
    "          bounces,\n",
    "          time_on_site,\n",
    "          totals.pageviews,\n",
    "          trafficSource.source,\n",
    "          trafficSource.medium,\n",
    "          channelGrouping,\n",
    "          device.deviceCategory,\n",
    "          country)))"
   ]
  },
  {
   "cell_type": "markdown",
   "metadata": {},
   "source": [
    "With the second model, we get roc_auc of 0.91. Better than before.\n",
    "\n",
    "We can make prediction from trained model (second model). We want to predict which new visitors will come back and make a purchase."
   ]
  },
  {
   "cell_type": "code",
   "execution_count": 15,
   "metadata": {},
   "outputs": [
    {
     "data": {
      "application/vnd.jupyter.widget-view+json": {
       "model_id": "f535cbc2765c41e1905e53e5ad32677c",
       "version_major": 2,
       "version_minor": 0
      },
      "text/plain": [
       "Query is running:   0%|          |"
      ]
     },
     "metadata": {},
     "output_type": "display_data"
    },
    {
     "data": {
      "application/vnd.jupyter.widget-view+json": {
       "model_id": "cf0c406a352b4d158c959b6762ad12f2",
       "version_major": 2,
       "version_minor": 0
      },
      "text/plain": [
       "Downloading:   0%|          |"
      ]
     },
     "metadata": {},
     "output_type": "display_data"
    },
    {
     "data": {
      "text/html": [
       "<div>\n",
       "<style scoped>\n",
       "    .dataframe tbody tr th:only-of-type {\n",
       "        vertical-align: middle;\n",
       "    }\n",
       "\n",
       "    .dataframe tbody tr th {\n",
       "        vertical-align: top;\n",
       "    }\n",
       "\n",
       "    .dataframe thead th {\n",
       "        text-align: right;\n",
       "    }\n",
       "</style>\n",
       "<table border=\"1\" class=\"dataframe\">\n",
       "  <thead>\n",
       "    <tr style=\"text-align: right;\">\n",
       "      <th></th>\n",
       "      <th>predicted_will_buy_on_return_visit</th>\n",
       "      <th>predicted_will_buy_on_return_visit_probs</th>\n",
       "      <th>unique_session_id</th>\n",
       "      <th>will_buy_on_return_visit</th>\n",
       "      <th>latest_ecommerce_progress</th>\n",
       "      <th>bounces</th>\n",
       "      <th>time_on_site</th>\n",
       "      <th>pageviews</th>\n",
       "      <th>source</th>\n",
       "      <th>medium</th>\n",
       "      <th>channelGrouping</th>\n",
       "      <th>deviceCategory</th>\n",
       "      <th>country</th>\n",
       "    </tr>\n",
       "  </thead>\n",
       "  <tbody>\n",
       "    <tr>\n",
       "      <th>0</th>\n",
       "      <td>1</td>\n",
       "      <td>[{'label': 1, 'prob': 0.575517231848732}, {'la...</td>\n",
       "      <td>7344038342439021225-1501120635</td>\n",
       "      <td>0</td>\n",
       "      <td>6</td>\n",
       "      <td>0</td>\n",
       "      <td>2515</td>\n",
       "      <td>61</td>\n",
       "      <td>mall.googleplex.com</td>\n",
       "      <td>referral</td>\n",
       "      <td>Referral</td>\n",
       "      <td>desktop</td>\n",
       "      <td>United States</td>\n",
       "    </tr>\n",
       "    <tr>\n",
       "      <th>1</th>\n",
       "      <td>1</td>\n",
       "      <td>[{'label': 1, 'prob': 0.5595825429791841}, {'l...</td>\n",
       "      <td>0070452995371344990-1499834445</td>\n",
       "      <td>0</td>\n",
       "      <td>6</td>\n",
       "      <td>0</td>\n",
       "      <td>573</td>\n",
       "      <td>14</td>\n",
       "      <td>sites.google.com</td>\n",
       "      <td>referral</td>\n",
       "      <td>Referral</td>\n",
       "      <td>desktop</td>\n",
       "      <td>United States</td>\n",
       "    </tr>\n",
       "    <tr>\n",
       "      <th>2</th>\n",
       "      <td>1</td>\n",
       "      <td>[{'label': 1, 'prob': 0.5807093147444004}, {'l...</td>\n",
       "      <td>4766623641504040239-1500335893</td>\n",
       "      <td>1</td>\n",
       "      <td>6</td>\n",
       "      <td>0</td>\n",
       "      <td>1305</td>\n",
       "      <td>19</td>\n",
       "      <td>gdeals.googleplex.com</td>\n",
       "      <td>referral</td>\n",
       "      <td>Referral</td>\n",
       "      <td>desktop</td>\n",
       "      <td>United States</td>\n",
       "    </tr>\n",
       "    <tr>\n",
       "      <th>3</th>\n",
       "      <td>1</td>\n",
       "      <td>[{'label': 1, 'prob': 0.5355234954905926}, {'l...</td>\n",
       "      <td>7774240957927896789-1499442290</td>\n",
       "      <td>0</td>\n",
       "      <td>6</td>\n",
       "      <td>0</td>\n",
       "      <td>331</td>\n",
       "      <td>10</td>\n",
       "      <td>sites.google.com</td>\n",
       "      <td>referral</td>\n",
       "      <td>Referral</td>\n",
       "      <td>desktop</td>\n",
       "      <td>United States</td>\n",
       "    </tr>\n",
       "    <tr>\n",
       "      <th>4</th>\n",
       "      <td>1</td>\n",
       "      <td>[{'label': 1, 'prob': 0.5230611566616062}, {'l...</td>\n",
       "      <td>7019345936998504727-1499907549</td>\n",
       "      <td>0</td>\n",
       "      <td>6</td>\n",
       "      <td>0</td>\n",
       "      <td>608</td>\n",
       "      <td>11</td>\n",
       "      <td>gdeals.googleplex.com</td>\n",
       "      <td>referral</td>\n",
       "      <td>Referral</td>\n",
       "      <td>desktop</td>\n",
       "      <td>United States</td>\n",
       "    </tr>\n",
       "    <tr>\n",
       "      <th>...</th>\n",
       "      <td>...</td>\n",
       "      <td>...</td>\n",
       "      <td>...</td>\n",
       "      <td>...</td>\n",
       "      <td>...</td>\n",
       "      <td>...</td>\n",
       "      <td>...</td>\n",
       "      <td>...</td>\n",
       "      <td>...</td>\n",
       "      <td>...</td>\n",
       "      <td>...</td>\n",
       "      <td>...</td>\n",
       "      <td>...</td>\n",
       "    </tr>\n",
       "    <tr>\n",
       "      <th>59597</th>\n",
       "      <td>0</td>\n",
       "      <td>[{'label': 1, 'prob': 0.00528786658973396}, {'...</td>\n",
       "      <td>2577005515154248957-1501177138</td>\n",
       "      <td>0</td>\n",
       "      <td>0</td>\n",
       "      <td>0</td>\n",
       "      <td>121</td>\n",
       "      <td>3</td>\n",
       "      <td>youtube.com</td>\n",
       "      <td>referral</td>\n",
       "      <td>Social</td>\n",
       "      <td>desktop</td>\n",
       "      <td>Romania</td>\n",
       "    </tr>\n",
       "    <tr>\n",
       "      <th>59598</th>\n",
       "      <td>0</td>\n",
       "      <td>[{'label': 1, 'prob': 0.007090356957853785}, {...</td>\n",
       "      <td>7582261539527099659-1500270143</td>\n",
       "      <td>0</td>\n",
       "      <td>0</td>\n",
       "      <td>0</td>\n",
       "      <td>85</td>\n",
       "      <td>3</td>\n",
       "      <td>m.facebook.com</td>\n",
       "      <td>referral</td>\n",
       "      <td>Social</td>\n",
       "      <td>mobile</td>\n",
       "      <td>United States</td>\n",
       "    </tr>\n",
       "    <tr>\n",
       "      <th>59599</th>\n",
       "      <td>0</td>\n",
       "      <td>[{'label': 1, 'prob': 0.009842112431380218}, {...</td>\n",
       "      <td>1671504134842863799-1500187178</td>\n",
       "      <td>0</td>\n",
       "      <td>0</td>\n",
       "      <td>0</td>\n",
       "      <td>72</td>\n",
       "      <td>3</td>\n",
       "      <td>youtube.com</td>\n",
       "      <td>referral</td>\n",
       "      <td>Social</td>\n",
       "      <td>desktop</td>\n",
       "      <td>United States</td>\n",
       "    </tr>\n",
       "    <tr>\n",
       "      <th>59600</th>\n",
       "      <td>0</td>\n",
       "      <td>[{'label': 1, 'prob': 0.005286459217437}, {'la...</td>\n",
       "      <td>1516264646025877273-1500100000</td>\n",
       "      <td>0</td>\n",
       "      <td>0</td>\n",
       "      <td>0</td>\n",
       "      <td>117</td>\n",
       "      <td>3</td>\n",
       "      <td>youtube.com</td>\n",
       "      <td>referral</td>\n",
       "      <td>Social</td>\n",
       "      <td>desktop</td>\n",
       "      <td>India</td>\n",
       "    </tr>\n",
       "    <tr>\n",
       "      <th>59601</th>\n",
       "      <td>0</td>\n",
       "      <td>[{'label': 1, 'prob': 0.005197623743705161}, {...</td>\n",
       "      <td>2439122508328327063-1500710868</td>\n",
       "      <td>0</td>\n",
       "      <td>0</td>\n",
       "      <td>0</td>\n",
       "      <td>213</td>\n",
       "      <td>3</td>\n",
       "      <td>youtube.com</td>\n",
       "      <td>referral</td>\n",
       "      <td>Social</td>\n",
       "      <td>desktop</td>\n",
       "      <td>France</td>\n",
       "    </tr>\n",
       "  </tbody>\n",
       "</table>\n",
       "<p>59602 rows × 13 columns</p>\n",
       "</div>"
      ],
      "text/plain": [
       "       predicted_will_buy_on_return_visit  \\\n",
       "0                                       1   \n",
       "1                                       1   \n",
       "2                                       1   \n",
       "3                                       1   \n",
       "4                                       1   \n",
       "...                                   ...   \n",
       "59597                                   0   \n",
       "59598                                   0   \n",
       "59599                                   0   \n",
       "59600                                   0   \n",
       "59601                                   0   \n",
       "\n",
       "                predicted_will_buy_on_return_visit_probs  \\\n",
       "0      [{'label': 1, 'prob': 0.575517231848732}, {'la...   \n",
       "1      [{'label': 1, 'prob': 0.5595825429791841}, {'l...   \n",
       "2      [{'label': 1, 'prob': 0.5807093147444004}, {'l...   \n",
       "3      [{'label': 1, 'prob': 0.5355234954905926}, {'l...   \n",
       "4      [{'label': 1, 'prob': 0.5230611566616062}, {'l...   \n",
       "...                                                  ...   \n",
       "59597  [{'label': 1, 'prob': 0.00528786658973396}, {'...   \n",
       "59598  [{'label': 1, 'prob': 0.007090356957853785}, {...   \n",
       "59599  [{'label': 1, 'prob': 0.009842112431380218}, {...   \n",
       "59600  [{'label': 1, 'prob': 0.005286459217437}, {'la...   \n",
       "59601  [{'label': 1, 'prob': 0.005197623743705161}, {...   \n",
       "\n",
       "                    unique_session_id  will_buy_on_return_visit  \\\n",
       "0      7344038342439021225-1501120635                         0   \n",
       "1      0070452995371344990-1499834445                         0   \n",
       "2      4766623641504040239-1500335893                         1   \n",
       "3      7774240957927896789-1499442290                         0   \n",
       "4      7019345936998504727-1499907549                         0   \n",
       "...                               ...                       ...   \n",
       "59597  2577005515154248957-1501177138                         0   \n",
       "59598  7582261539527099659-1500270143                         0   \n",
       "59599  1671504134842863799-1500187178                         0   \n",
       "59600  1516264646025877273-1500100000                         0   \n",
       "59601  2439122508328327063-1500710868                         0   \n",
       "\n",
       "       latest_ecommerce_progress  bounces  time_on_site  pageviews  \\\n",
       "0                              6        0          2515         61   \n",
       "1                              6        0           573         14   \n",
       "2                              6        0          1305         19   \n",
       "3                              6        0           331         10   \n",
       "4                              6        0           608         11   \n",
       "...                          ...      ...           ...        ...   \n",
       "59597                          0        0           121          3   \n",
       "59598                          0        0            85          3   \n",
       "59599                          0        0            72          3   \n",
       "59600                          0        0           117          3   \n",
       "59601                          0        0           213          3   \n",
       "\n",
       "                      source    medium channelGrouping deviceCategory  \\\n",
       "0        mall.googleplex.com  referral        Referral        desktop   \n",
       "1           sites.google.com  referral        Referral        desktop   \n",
       "2      gdeals.googleplex.com  referral        Referral        desktop   \n",
       "3           sites.google.com  referral        Referral        desktop   \n",
       "4      gdeals.googleplex.com  referral        Referral        desktop   \n",
       "...                      ...       ...             ...            ...   \n",
       "59597            youtube.com  referral          Social        desktop   \n",
       "59598         m.facebook.com  referral          Social         mobile   \n",
       "59599            youtube.com  referral          Social        desktop   \n",
       "59600            youtube.com  referral          Social        desktop   \n",
       "59601            youtube.com  referral          Social        desktop   \n",
       "\n",
       "             country  \n",
       "0      United States  \n",
       "1      United States  \n",
       "2      United States  \n",
       "3      United States  \n",
       "4      United States  \n",
       "...              ...  \n",
       "59597        Romania  \n",
       "59598  United States  \n",
       "59599  United States  \n",
       "59600          India  \n",
       "59601         France  \n",
       "\n",
       "[59602 rows x 13 columns]"
      ]
     },
     "execution_count": 15,
     "metadata": {},
     "output_type": "execute_result"
    }
   ],
   "source": [
    "%%bigquery\n",
    "SELECT *\n",
    "FROM \n",
    "  ML.PREDICT(MODEL `ecommerce.classification_model_2`, (\n",
    "    WITH all_visitor_stats AS (\n",
    "      SELECT\n",
    "        fullvisitorid,\n",
    "        IF(COUNTIF(totals.transactions > 0 AND totals.newVisits IS NULL) > 0, 1, 0) AS will_buy_on_return_visit\n",
    "      FROM `data-to-insights.ecommerce.web_analytics`\n",
    "      GROUP BY fullvisitorid)\n",
    "    SELECT\n",
    "      CONCAT(fullvisitorid, '-',CAST(visitId AS STRING)) AS unique_session_id,\n",
    "      will_buy_on_return_visit,\n",
    "      MAX(CAST(h.eCommerceAction.action_type AS INT64)) AS latest_ecommerce_progress,\n",
    "      IFNULL(totals.bounces, 0) AS bounces,\n",
    "      IFNULL(totals.timeOnSite, 0) AS time_on_site,\n",
    "      totals.pageviews,\n",
    "      trafficSource.source,\n",
    "      trafficSource.medium,\n",
    "      channelGrouping,\n",
    "      device.deviceCategory,\n",
    "      IFNULL(geoNetwork.country, \"\") AS country\n",
    "    FROM `data-to-insights.ecommerce.web_analytics`,\n",
    "    UNNEST(hits) AS h\n",
    "    JOIN all_visitor_stats USING(fullvisitorid)\n",
    "    WHERE\n",
    "      totals.newVisits = 1 AND\n",
    "      date BETWEEN '20170701' AND '20170801'\n",
    "    GROUP BY\n",
    "      unique_session_id,\n",
    "      will_buy_on_return_visit,\n",
    "      bounces,\n",
    "      time_on_site,\n",
    "      totals.pageviews,\n",
    "      trafficSource.source,\n",
    "      trafficSource.medium,\n",
    "      channelGrouping,\n",
    "      device.deviceCategory,\n",
    "      country))\n",
    "    ORDER BY predicted_will_buy_on_return_visit DESC"
   ]
  },
  {
   "cell_type": "markdown",
   "metadata": {},
   "source": [
    "The prediction using the data on the last 1 month. As we can see, the output will add new 3 fields.\n",
    "1. predicted_will_buy_on_return_visit = whether the model thinks the visitor will buy later\n",
    "2. predicted_will_buy_on_return_visit_probs.label: the binary classifier for yes / no\n",
    "3. predicted_will_buy_on_return_visit.probs.prob: the confidence the model has in it's prediction\n",
    "\n",
    "Save our result to the table. Create a `predict_purchases_result` table."
   ]
  },
  {
   "cell_type": "code",
   "execution_count": 16,
   "metadata": {},
   "outputs": [
    {
     "data": {
      "application/vnd.jupyter.widget-view+json": {
       "model_id": "95ad44cf7e664d19a1a87ba2b9c10469",
       "version_major": 2,
       "version_minor": 0
      },
      "text/plain": [
       "Query is running:   0%|          |"
      ]
     },
     "metadata": {},
     "output_type": "display_data"
    },
    {
     "data": {
      "text/html": [
       "<div>\n",
       "<style scoped>\n",
       "    .dataframe tbody tr th:only-of-type {\n",
       "        vertical-align: middle;\n",
       "    }\n",
       "\n",
       "    .dataframe tbody tr th {\n",
       "        vertical-align: top;\n",
       "    }\n",
       "\n",
       "    .dataframe thead th {\n",
       "        text-align: right;\n",
       "    }\n",
       "</style>\n",
       "<table border=\"1\" class=\"dataframe\">\n",
       "  <thead>\n",
       "    <tr style=\"text-align: right;\">\n",
       "      <th></th>\n",
       "    </tr>\n",
       "  </thead>\n",
       "  <tbody>\n",
       "  </tbody>\n",
       "</table>\n",
       "</div>"
      ],
      "text/plain": [
       "Empty DataFrame\n",
       "Columns: []\n",
       "Index: []"
      ]
     },
     "execution_count": 16,
     "metadata": {},
     "output_type": "execute_result"
    }
   ],
   "source": [
    "%%bigquery\n",
    "CREATE OR REPLACE TABLE ecommerce.predict_purchases_result \n",
    "AS\n",
    "SELECT *\n",
    "FROM \n",
    "  ML.PREDICT(MODEL `ecommerce.classification_model_2`, (\n",
    "    WITH all_visitor_stats AS (\n",
    "      SELECT\n",
    "        fullvisitorid,\n",
    "        IF(COUNTIF(totals.transactions > 0 AND totals.newVisits IS NULL) > 0, 1, 0) AS will_buy_on_return_visit\n",
    "      FROM `data-to-insights.ecommerce.web_analytics`\n",
    "      GROUP BY fullvisitorid)\n",
    "    SELECT\n",
    "      CONCAT(fullvisitorid, '-',CAST(visitId AS STRING)) AS unique_session_id,\n",
    "      will_buy_on_return_visit,\n",
    "      MAX(CAST(h.eCommerceAction.action_type AS INT64)) AS latest_ecommerce_progress,\n",
    "      IFNULL(totals.bounces, 0) AS bounces,\n",
    "      IFNULL(totals.timeOnSite, 0) AS time_on_site,\n",
    "      totals.pageviews,\n",
    "      trafficSource.source,\n",
    "      trafficSource.medium,\n",
    "      channelGrouping,\n",
    "      device.deviceCategory,\n",
    "      IFNULL(geoNetwork.country, \"\") AS country\n",
    "    FROM `data-to-insights.ecommerce.web_analytics`,\n",
    "    UNNEST(hits) AS h\n",
    "    JOIN all_visitor_stats USING(fullvisitorid)\n",
    "    WHERE\n",
    "      totals.newVisits = 1 AND\n",
    "      date BETWEEN '20170701' AND '20170801'\n",
    "    GROUP BY\n",
    "      unique_session_id,\n",
    "      will_buy_on_return_visit,\n",
    "      bounces,\n",
    "      time_on_site,\n",
    "      totals.pageviews,\n",
    "      trafficSource.source,\n",
    "      trafficSource.medium,\n",
    "      channelGrouping,\n",
    "      device.deviceCategory,\n",
    "      country))\n",
    "    ORDER BY predicted_will_buy_on_return_visit DESC"
   ]
  },
  {
   "cell_type": "markdown",
   "metadata": {},
   "source": [
    "We can analyze the result of the prediction. "
   ]
  },
  {
   "cell_type": "code",
   "execution_count": 20,
   "metadata": {},
   "outputs": [
    {
     "data": {
      "application/vnd.jupyter.widget-view+json": {
       "model_id": "0c280202e56f4ad99c41c36115fa6521",
       "version_major": 2,
       "version_minor": 0
      },
      "text/plain": [
       "Query is running:   0%|          |"
      ]
     },
     "metadata": {},
     "output_type": "display_data"
    },
    {
     "data": {
      "application/vnd.jupyter.widget-view+json": {
       "model_id": "09c7f1e608f34e839f3ea5d1cc5bc2de",
       "version_major": 2,
       "version_minor": 0
      },
      "text/plain": [
       "Downloading:   0%|          |"
      ]
     },
     "metadata": {},
     "output_type": "display_data"
    },
    {
     "data": {
      "text/html": [
       "<div>\n",
       "<style scoped>\n",
       "    .dataframe tbody tr th:only-of-type {\n",
       "        vertical-align: middle;\n",
       "    }\n",
       "\n",
       "    .dataframe tbody tr th {\n",
       "        vertical-align: top;\n",
       "    }\n",
       "\n",
       "    .dataframe thead th {\n",
       "        text-align: right;\n",
       "    }\n",
       "</style>\n",
       "<table border=\"1\" class=\"dataframe\">\n",
       "  <thead>\n",
       "    <tr style=\"text-align: right;\">\n",
       "      <th></th>\n",
       "      <th>total_predicted</th>\n",
       "      <th>predicted_buy</th>\n",
       "      <th>predicted_not_buy</th>\n",
       "      <th>percentage</th>\n",
       "    </tr>\n",
       "  </thead>\n",
       "  <tbody>\n",
       "    <tr>\n",
       "      <th>0</th>\n",
       "      <td>59602</td>\n",
       "      <td>368</td>\n",
       "      <td>59234</td>\n",
       "      <td>0.6</td>\n",
       "    </tr>\n",
       "  </tbody>\n",
       "</table>\n",
       "</div>"
      ],
      "text/plain": [
       "   total_predicted  predicted_buy  predicted_not_buy  percentage\n",
       "0            59602            368              59234         0.6"
      ]
     },
     "execution_count": 20,
     "metadata": {},
     "output_type": "execute_result"
    }
   ],
   "source": [
    "%%bigquery\n",
    "WITH predicted AS\n",
    "(\n",
    "  SELECT\n",
    "  COUNT (*) AS total,\n",
    "  COUNTIF(predicted_will_buy_on_return_visit=1) AS predicted_buy,\n",
    "  COUNTIF(predicted_will_buy_on_return_visit=0) AS predicted_not_buy\n",
    "  FROM `ecommerce.predict_purchases_result`\n",
    ")\n",
    "SELECT \n",
    "  predicted.total AS total_predicted,\n",
    "  predicted.predicted_buy,\n",
    "  predicted.predicted_not_buy,\n",
    "  ROUND((predicted.predicted_buy/predicted.total),3)*100 AS percentage\n",
    "FROM predicted"
   ]
  },
  {
   "cell_type": "markdown",
   "metadata": {},
   "source": [
    "Overall, only 0.6% of first time visitors make a purchase in a later visit."
   ]
  }
 ],
 "metadata": {
  "kernelspec": {
   "display_name": "Python 3",
   "language": "python",
   "name": "python3"
  },
  "language_info": {
   "codemirror_mode": {
    "name": "ipython",
    "version": 3
   },
   "file_extension": ".py",
   "mimetype": "text/x-python",
   "name": "python",
   "nbconvert_exporter": "python",
   "pygments_lexer": "ipython3",
   "version": "3.11.4"
  },
  "orig_nbformat": 4
 },
 "nbformat": 4,
 "nbformat_minor": 2
}
